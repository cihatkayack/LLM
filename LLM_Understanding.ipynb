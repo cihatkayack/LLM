{
  "cells": [
    {
      "cell_type": "markdown",
      "metadata": {
        "id": "view-in-github",
        "colab_type": "text"
      },
      "source": [
        "<a href=\"https://colab.research.google.com/github/cihatkayack/llmh/blob/main/LLM_Understanding.ipynb\" target=\"_parent\"><img src=\"https://colab.research.google.com/assets/colab-badge.svg\" alt=\"Open In Colab\"/></a>"
      ]
    },
    {
      "cell_type": "markdown",
      "metadata": {
        "id": "Opi7CaQRlTdz"
      },
      "source": [
        "**Author: Cihat Kaya**"
      ]
    },
    {
      "cell_type": "code",
      "execution_count": null,
      "metadata": {
        "colab": {
          "base_uri": "https://localhost:8080/"
        },
        "id": "cZj4a_1umgax",
        "outputId": "63bd56f1-da8e-4587-a880-8742c181c710"
      },
      "outputs": [
        {
          "name": "stdout",
          "output_type": "stream",
          "text": [
            "Mounted at /content/drive\n"
          ]
        }
      ],
      "source": [
        "from google.colab import drive\n",
        "drive.mount('/content/drive')"
      ]
    },
    {
      "cell_type": "code",
      "execution_count": null,
      "metadata": {
        "id": "j6wJVz0ZmuVt"
      },
      "outputs": [],
      "source": [
        "!pip install nbformat"
      ]
    },
    {
      "cell_type": "code",
      "execution_count": null,
      "metadata": {
        "colab": {
          "base_uri": "https://localhost:8080/"
        },
        "id": "ttXB2E5Ul__-",
        "outputId": "a2a9910e-4de3-4747-fea9-d714e29071f5"
      },
      "outputs": [
        {
          "name": "stdout",
          "output_type": "stream",
          "text": [
            "metadata.widgets kaldırıldı\n"
          ]
        }
      ],
      "source": [
        "\n",
        "import nbformat\n",
        "\n",
        "fn = '/content/drive/MyDrive/LLM/LLM_Under/LLM_Understandingg'   # düzenlemek istediğiniz dosya adı\n",
        "nb = nbformat.read(fn, as_version=4)\n",
        "\n",
        "# Eğer widget metadata’sı varsa sil\n",
        "if 'widgets' in nb.metadata:\n",
        "    del nb.metadata['widgets']\n",
        "\n",
        "nbformat.write(nb, fn)\n",
        "print(\"metadata.widgets kaldırıldı\")\n"
      ]
    },
    {
      "cell_type": "code",
      "execution_count": null,
      "metadata": {
        "id": "Zn4TzkXBmBlZ"
      },
      "outputs": [],
      "source": []
    },
    {
      "cell_type": "markdown",
      "metadata": {
        "id": "MYU_Zj6RvKUy"
      },
      "source": [
        "# What is Large Language Model (LLM)?\n"
      ]
    },
    {
      "cell_type": "markdown",
      "metadata": {
        "id": "8mdp8kqxh8o9"
      },
      "source": [
        "- **Large language models (LLMs) are a category of foundation models trained on immense amounts of data making them capable of understanding and generating natural language and other types of content to perform a wide range of tasks.**\n",
        "\n",
        "\n",
        "- Big data can come from publicly available sources, or it can be proprietary. Examples of big data include:\n",
        "\n",
        " - Customer survey data\n",
        " - Records of user behavior within an application\n",
        " - Sensor data\n",
        " - Social media feeds\n",
        " - Webpage content\n",
        " - Surveillance data\n",
        " - Audio recordings\n",
        "\n",
        "- Here is a list of some of the most important areas where LLMs benefit organizations:\n",
        "\n",
        " - Text generation: language generation abilities, such as writing emails, blog posts or other mid-to-long form content in response to prompts that can be refined and polished. An excellent example is retrieval-augmented generation (RAG).\n",
        "\n",
        " - Content summarization: summarize long articles, news stories, research reports, corporate documentation and even customer history into thorough texts tailored in length to the output format.\n",
        "\n",
        " - AI assistants: chatbots that answer customer queries, perform backend tasks and provide detailed information in natural language as a part of an integrated, self-serve customer care solution.\n",
        "\n",
        " - Code generation: assists developers in building applications, finding errors in code and uncovering security issues in multiple programming languages, even “translating” between them.\n",
        "\n",
        " - Sentiment analysis: analyze text to determine the customer’s tone in order understand customer feedback at scale and aid in brand reputation management.\n",
        "\n",
        " - Language translation: provides wider coverage to organizations across languages and geographies with fluent translations and multilingual capabilities.\n",
        "\n",
        "<img src=\"https://drive.google.com/uc?export=view&id=1yxoJpHMLkrf7sK6oNH_q8zTCeLxOIYsE\" width=700, height=400>\n",
        "\n",
        "\n",
        "Core Components of an LLM\n",
        "\n",
        " 1. Tokenizer: Breaks input text into tokens (words or subwords) for processing.\n",
        " 2. Embedding Layer: Maps tokens to high-dimensional vectors capturing semantic meaning.\n",
        " 3. Transformer Blocks: Apply self-attention and feedforward layers to model context and relationships across tokens.\n",
        " 4. Output Layer: Produces final predictions, such as next-token probabilities or task-specific outputs.\n",
        "\n"
      ]
    },
    {
      "cell_type": "markdown",
      "metadata": {
        "id": "BFTDjwcp03fc"
      },
      "source": [
        "# Understanding Large Language Models (LLMs)\n",
        "\n"
      ]
    },
    {
      "cell_type": "markdown",
      "metadata": {
        "id": "AwbPV_-G1Zfd"
      },
      "source": [
        "## Exploring GPT-2 Inference Parameters\n"
      ]
    },
    {
      "cell_type": "markdown",
      "metadata": {
        "id": "4q3m4GSKlVpb"
      },
      "source": [
        "### Getting Started\n",
        "Before diving into building a language model from scratch, you'll begin with some fun experiments using a pretrained [GPT-2 model](https://huggingface.co/docs/transformers/v4.51.3/en/model_doc/gpt2#gpt-2). As a first step, you'll observe how the model 'thinks' and explore how its responses change with different prompts.\n",
        "\n",
        "<table>\n",
        "  <tr>\n",
        "    <td style=\"vertical-align: top; padding-left: 20px;\">\n",
        "      <b>GPT-2 Model Features</b>\n",
        "      <table border=\"1\" cellpadding=\"5\" cellspacing=\"0\">\n",
        "        <tr><th>Feature</th><th>Value</th></tr>\n",
        "        <tr><td>Model Name</td><td>gpt2</td></tr>\n",
        "        <tr><td>Parameters</td><td>124 million</td></tr>\n",
        "        <tr><td>Architecture</td><td>Transformer Decoder</td></tr>\n",
        "        <tr><td>Layers</td><td>12</td></tr>\n",
        "        <tr><td>Hidden Size</td><td>768</td></tr>\n",
        "        <tr><td>Attention Heads</td><td>12</td></tr>\n",
        "        <tr><td>Vocabulary Size</td><td>50,257</td></tr>\n",
        "        <tr><td>Context Window</td><td>1,024 tokens</td></tr>\n",
        "        <tr><td>Pretrained Corpus</td><td>WebText (~8M documents)</td></tr>\n",
        "        <tr><td>Task</td><td>Language Modeling (next-token prediction)</td></tr>\n",
        "      </table>\n",
        "    </td>\n",
        "  </tr>\n",
        "</table>\n"
      ]
    },
    {
      "cell_type": "markdown",
      "metadata": {
        "id": "TqSZODSL2bqo"
      },
      "source": [
        "In text generation tasks, language models like GPT-2 rely on decoding strategies to sample the next word from a probability distribution. These strategies are controlled by several key inference parameters:\n",
        "\n",
        "* `Temperature` controls the randomness of predictions — lower values (e.g., 0.2) make outputs more conservative and repetitive, while higher values (e.g., 1.2) produce more diverse and surprising results.\n",
        "\n",
        "* `Top-k` sampling limits the model to choosing from the top k most likely words, promoting focus but potentially reducing variation.\n",
        "\n",
        "* `Top-p` sampling (also known as nucleus sampling) selects from the smallest set of words whose cumulative probability exceeds p, balancing diversity and relevance.\n",
        "\n",
        "* `Max length` defines how many tokens the model is allowed to generate in a single run.\n",
        "\n",
        "\n",
        "\n",
        "\n",
        "\n",
        "*In this experiment, you will interactively explore how varying these parameters affects the output generated by a pretrained GPT-2 model. Using a fixed prompt, you will adjust the sliders and observe how the model's responses change — helping you develop an intuition for how decoding techniques shape model behavior, coherence, and creativity*"
      ]
    },
    {
      "cell_type": "code",
      "execution_count": null,
      "metadata": {
        "cellView": "form",
        "colab": {
          "base_uri": "https://localhost:8080/",
          "height": 503,
          "referenced_widgets": [
            "86d1f37c08c447d5b97207925a958e24",
            "3fc9122f9e1c4ea0b20c0a8ea6adf04e",
            "fb9c95b0a79a46708b9e611c8f82ec75",
            "c20baf7c3d51477586b7e2485f815fff",
            "25daa181790948c4b02362c314be7c6f",
            "8dd2b79c0fff4ce5b7b329e624ed5e7b",
            "447dc59633284cc9b16020e6151282c1",
            "5fc71b0bb0cb47afae42fd0c2674db2b",
            "98668b64bb754654a2eefb81afa354bd",
            "003f6b49a5db4f23a245a9c541e15c02",
            "d38636d8b9f14467a63ed7c41461ae9c",
            "93bed6887bcc45b7af91d0b5ea081569",
            "346fd3723b3c433aa1f21249f9705c1b",
            "72525313e4bf4c9a98be690f79b10f92",
            "d73d1bc3af414548968f372a6a07a295",
            "56e5c17ae2e6482aadc3341ff71f2188",
            "5a2b217032234a3d9ffef8de392a805c",
            "18c9c4ed30bf4c23b1248047ef251514",
            "84a9c7716dba4f86a3ca1d6d69ced5e1",
            "cedc5084a8054a1eaf216a012d14f5ec",
            "2cc9ead7826c443eb3d1783af2d32f3c",
            "f9492a3d5e694c7badb8d69acb59ff60",
            "08737597cf214204b486619a30ab13a9",
            "e29c2cc45c444b0f84de21d1eda7d690",
            "f28b108669a64949b6bf35538f8cb250",
            "0fc759e4aaa24c0ea2d3d5d8d8a302e1",
            "11ba40e6e59b459e88dc16c8c69e7253",
            "5da2ce2e4d24480296192c753a28af47",
            "f74ba9f0396a4c2f9b92277a90bd5701",
            "b8c865667409477ba36085b0fefb89f2",
            "4d8b676e5a7a4e608f85efbc4421e7df",
            "d2b5e430144948f3ad725761df71c69a",
            "322dbe2adf2a41138f831348836e00bd",
            "496620b4e4dd4440a04403fabaf85718",
            "2bd80d4b739e43059f18d5115186a408",
            "883464e0d1824b65b80727c1fab761d6",
            "49b905299c9e46af847bd368e3e4c88d",
            "62b0dca5813e46d381797fb7a5338e29",
            "e718ee6bb34b42d0a6acd5b75862a59e",
            "540cca7d96544d9a89e8e8fb3eb135d1",
            "b17da7fa500d4d52be14f61ddb1c8d1c",
            "282bf9b8a19940ebaa27eef1e8efd386",
            "ecbc7ea17be24d0ea4de684a81fe150a",
            "56f549c903b24f6da2d204b033ed690b",
            "947731609c094eeabe61160a90c94e1a",
            "b49816b02c8b44bbaade5ade529997f4",
            "c4c3743240ac45d7b492cf61d7eeccd5",
            "85713988225d4d6c880cc5b5145c158c",
            "4ac82c0d84814800aded9d13117295a7",
            "64c367a57acc4947a93d392e11fc7d21",
            "b9ed4c956eb94c07bebb15cbe752adb8",
            "c331c69bb74e4a508f1bf4c9a66a452e",
            "d99eb680c3614f22831ac20feb3d8da8",
            "f645da1949cd4584982a48cd3c018440",
            "b30b25fb61a74434a92d9c025ab82dd1",
            "cd4cbd7e25fa4e2b962463bcdaaabf1f",
            "87464b9e1b6b47c2b30d68d105ce4827",
            "f444ec0814cb4fa28a07be3cd59e06cc",
            "cf53e31358704f37bab4d2777d5475d6",
            "7f79be1bf0c84e279c5b5ba92254a4a6",
            "207545c0a5154678a91b07d9490e5316",
            "dd2614c2ea5f413898e39e360358273c",
            "aa7fd09222e44db29b2fbf2720449320",
            "d278a002bb9e4a0c85df5209417a6cb6",
            "6171e7ec793a4d0288bb85010258abe0",
            "ea5b27b6d29c402bbc1a565b97ad8c65",
            "301eda8cf384482ba2c394a3dc6093e7",
            "a88a59bc69664875808f14044a880970",
            "ec9ae1337e054536bcaf227c8ea8134f",
            "3fb45ec30c994db1be52e6489548aafe",
            "79a6091203b1440bad87522db75ec57e",
            "b72f0adb1f9243d9a39c8733c62ed4c4",
            "450c0f16c65a4471b23c841352dc1f4b",
            "79c3119c232747a3a1d43f4ae0121a52",
            "11204ef32ebd4edf813a44d2022d96f0",
            "1e3c8972a8ff4a8a80984873e4db7e17",
            "d65532aaa4834dcdb133a523366d219d",
            "3df285b20fd44679b469d754dbfec73d",
            "8866ac0816d047aea77b450e4c1a6b64",
            "88cf7bf829b2407a9b6bd91b10045cae",
            "dc0273ed6d844412b10660134e1d422c",
            "0bfdf86be7d94d75b6defabb87d3eebc",
            "4aad747dd6c2489eb49286653dcbfc7e",
            "f44a7b4a6e9c47279ec0a98869577d76",
            "f6fe82734b394bc1823fb171baebfee9",
            "87e9b64aa3be428b97e324f8167112d4",
            "4c7279482e90415aa0245d565c8df93f",
            "8e34ed7081594916b70cbf1d6acace4c",
            "3abb38de90b44f859566908ba99eacd9",
            "3983e193ce9047f4852f711034cbe12d",
            "5befaaa6265948ec8db86b134ed7da03",
            "032f6057abe14d088c5915aea4763472",
            "af24049dfc964b529f3365f19ab40748",
            "6b2563c64b6a4d698c5e7b315a3ff8cd",
            "3520038b17c44800afa812ebb2f7b826",
            "116ee6ef64614afd8c4e27ecc814c71b",
            "71d1b75fe63546e9a4598840fbd8bc86",
            "1cb59d37149f49bcba85efe29b42d54a",
            "8677eed5348747068e675e26e1d24622",
            "ee945f40ce044e7a8a87f707095e7a80",
            "239703cff7c94918ba34017d00d18406",
            "13f99b862ea54c27b1fab01b1b2615de",
            "2e9bc3adf9d54a10a4f22243631f1c12",
            "775131c3698a492ab2c81eb36c1af3fe",
            "0c5d429ce5994bedb18bed842824e15d",
            "005ee11be1c24c68b0e0bfb0e2e52eaa",
            "d219a521be864af1ad270ab9ad355886"
          ]
        },
        "id": "4GlT4oa22g3f",
        "outputId": "7e99237b-4a7c-45a1-b93f-77e947129552"
      },
      "outputs": [
        {
          "data": {
            "application/vnd.jupyter.widget-view+json": {
              "model_id": "86d1f37c08c447d5b97207925a958e24",
              "version_major": 2,
              "version_minor": 0
            },
            "text/plain": [
              "tokenizer_config.json:   0%|          | 0.00/26.0 [00:00<?, ?B/s]"
            ]
          },
          "metadata": {
            "application/vnd.jupyter.widget-view+json": {
              "colab": {
                "custom_widget_manager": {
                  "url": "https://ssl.gstatic.com/colaboratory-static/widgets/colab-cdn-widget-manager/2b70e893a8ba7c0f/manager.min.js"
                }
              }
            }
          },
          "output_type": "display_data"
        },
        {
          "data": {
            "application/vnd.jupyter.widget-view+json": {
              "model_id": "f9492a3d5e694c7badb8d69acb59ff60",
              "version_major": 2,
              "version_minor": 0
            },
            "text/plain": [
              "config.json:   0%|          | 0.00/665 [00:00<?, ?B/s]"
            ]
          },
          "metadata": {
            "application/vnd.jupyter.widget-view+json": {
              "colab": {
                "custom_widget_manager": {
                  "url": "https://ssl.gstatic.com/colaboratory-static/widgets/colab-cdn-widget-manager/2b70e893a8ba7c0f/manager.min.js"
                }
              }
            }
          },
          "output_type": "display_data"
        },
        {
          "data": {
            "application/vnd.jupyter.widget-view+json": {
              "model_id": "322dbe2adf2a41138f831348836e00bd",
              "version_major": 2,
              "version_minor": 0
            },
            "text/plain": [
              "vocab.json:   0%|          | 0.00/1.04M [00:00<?, ?B/s]"
            ]
          },
          "metadata": {
            "application/vnd.jupyter.widget-view+json": {
              "colab": {
                "custom_widget_manager": {
                  "url": "https://ssl.gstatic.com/colaboratory-static/widgets/colab-cdn-widget-manager/2b70e893a8ba7c0f/manager.min.js"
                }
              }
            }
          },
          "output_type": "display_data"
        },
        {
          "data": {
            "application/vnd.jupyter.widget-view+json": {
              "model_id": "56f549c903b24f6da2d204b033ed690b",
              "version_major": 2,
              "version_minor": 0
            },
            "text/plain": [
              "merges.txt:   0%|          | 0.00/456k [00:00<?, ?B/s]"
            ]
          },
          "metadata": {
            "application/vnd.jupyter.widget-view+json": {
              "colab": {
                "custom_widget_manager": {
                  "url": "https://ssl.gstatic.com/colaboratory-static/widgets/colab-cdn-widget-manager/2b70e893a8ba7c0f/manager.min.js"
                }
              }
            }
          },
          "output_type": "display_data"
        },
        {
          "data": {
            "application/vnd.jupyter.widget-view+json": {
              "model_id": "b30b25fb61a74434a92d9c025ab82dd1",
              "version_major": 2,
              "version_minor": 0
            },
            "text/plain": [
              "tokenizer.json:   0%|          | 0.00/1.36M [00:00<?, ?B/s]"
            ]
          },
          "metadata": {
            "application/vnd.jupyter.widget-view+json": {
              "colab": {
                "custom_widget_manager": {
                  "url": "https://ssl.gstatic.com/colaboratory-static/widgets/colab-cdn-widget-manager/2b70e893a8ba7c0f/manager.min.js"
                }
              }
            }
          },
          "output_type": "display_data"
        },
        {
          "name": "stderr",
          "output_type": "stream",
          "text": [
            "Xet Storage is enabled for this repo, but the 'hf_xet' package is not installed. Falling back to regular HTTP download. For better performance, install the package with: `pip install huggingface_hub[hf_xet]` or `pip install hf_xet`\n",
            "WARNING:huggingface_hub.file_download:Xet Storage is enabled for this repo, but the 'hf_xet' package is not installed. Falling back to regular HTTP download. For better performance, install the package with: `pip install huggingface_hub[hf_xet]` or `pip install hf_xet`\n"
          ]
        },
        {
          "data": {
            "application/vnd.jupyter.widget-view+json": {
              "model_id": "ea5b27b6d29c402bbc1a565b97ad8c65",
              "version_major": 2,
              "version_minor": 0
            },
            "text/plain": [
              "model.safetensors:   0%|          | 0.00/548M [00:00<?, ?B/s]"
            ]
          },
          "metadata": {
            "application/vnd.jupyter.widget-view+json": {
              "colab": {
                "custom_widget_manager": {
                  "url": "https://ssl.gstatic.com/colaboratory-static/widgets/colab-cdn-widget-manager/2b70e893a8ba7c0f/manager.min.js"
                }
              }
            }
          },
          "output_type": "display_data"
        },
        {
          "data": {
            "application/vnd.jupyter.widget-view+json": {
              "model_id": "d65532aaa4834dcdb133a523366d219d",
              "version_major": 2,
              "version_minor": 0
            },
            "text/plain": [
              "generation_config.json:   0%|          | 0.00/124 [00:00<?, ?B/s]"
            ]
          },
          "metadata": {
            "application/vnd.jupyter.widget-view+json": {
              "colab": {
                "custom_widget_manager": {
                  "url": "https://ssl.gstatic.com/colaboratory-static/widgets/colab-cdn-widget-manager/2b70e893a8ba7c0f/manager.min.js"
                }
              }
            }
          },
          "output_type": "display_data"
        },
        {
          "data": {
            "application/vnd.jupyter.widget-view+json": {
              "model_id": "d219a521be864af1ad270ab9ad355886",
              "version_major": 2,
              "version_minor": 0
            },
            "text/plain": [
              "VBox(children=(HTML(value='<h3> Using Model: <code>GPT2</code></h3>'), HTML(value='<b>📌 Fixed Prompt:</b><br><…"
            ]
          },
          "metadata": {
            "application/vnd.jupyter.widget-view+json": {
              "colab": {
                "custom_widget_manager": {
                  "url": "https://ssl.gstatic.com/colaboratory-static/widgets/colab-cdn-widget-manager/2b70e893a8ba7c0f/manager.min.js"
                }
              }
            }
          },
          "output_type": "display_data"
        }
      ],
      "source": [
        "#@title Exploring GPT-2 Inference Parameters\n",
        "# Importing Libraries\n",
        "from transformers import AutoTokenizer, AutoModelForCausalLM\n",
        "import torch\n",
        "import warnings\n",
        "import json\n",
        "\n",
        "import ipywidgets as widgets\n",
        "from IPython.display import display, clear_output\n",
        "\n",
        "from google.colab import output\n",
        "output.enable_custom_widget_manager()\n",
        "\n",
        "warnings.filterwarnings(\"ignore\")\n",
        "\n",
        "\n",
        "# Load GPT-2 model\n",
        "model_name = \"gpt2\"\n",
        "tokenizer = AutoTokenizer.from_pretrained(model_name)\n",
        "model = AutoModelForCausalLM.from_pretrained(model_name)\n",
        "model.eval().to(\"cuda\" if torch.cuda.is_available() else \"cpu\")\n",
        "\n",
        "# Fixed prompt\n",
        "fixed_prompt = \"The robot paused before opening the door. What it saw inside was beyond anything it had ever expected.\"\n",
        "prompt_display = widgets.HTML(f\"<b>📌 Fixed Prompt:</b><br><pre>{fixed_prompt}</pre>\")\n",
        "\n",
        "# Display model name\n",
        "model_display = widgets.HTML(f\"<h3> Using Model: <code>{model_name.upper()}</code></h3>\")\n",
        "\n",
        "# Decoding parameter sliders\n",
        "temperature_slider = widgets.FloatSlider(\n",
        "    value=0.7, min=0.1, max=1.5, step=0.1,\n",
        "    description='🌡 Temp:',\n",
        "    style={'description_width': '80px'},\n",
        "    tooltip='Controls randomness (0 = deterministic, >1 = more creative)'\n",
        ")\n",
        "\n",
        "top_p_slider = widgets.FloatSlider(\n",
        "    value=0.9, min=0.1, max=1.0, step=0.05,\n",
        "    description='Top-p:',\n",
        "    style={'description_width': '80px'},\n",
        "    tooltip='Samples from the top cumulative probability (nucleus sampling)'\n",
        ")\n",
        "\n",
        "top_k_slider = widgets.IntSlider(\n",
        "    value=50, min=0, max=100, step=5,\n",
        "    description='Top-k:',\n",
        "    style={'description_width': '80px'},\n",
        "    tooltip='Samples only from top-k most likely tokens'\n",
        ")\n",
        "\n",
        "max_length_slider = widgets.IntSlider(\n",
        "    value=100, min=20, max=300, step=10,\n",
        "    description='Max Len:',\n",
        "    style={'description_width': '80px'},\n",
        "    tooltip='Maximum number of tokens to generate'\n",
        ")\n",
        "\n",
        "# Presets dropdown\n",
        "preset_dropdown = widgets.Dropdown(\n",
        "    options=[\n",
        "        ('Default (Balanced)', {'temperature': 0.7, 'top_p': 0.9, 'top_k': 50}),\n",
        "        ('Creative', {'temperature': 1.2, 'top_p': 0.95, 'top_k': 40}),\n",
        "        ('Conservative', {'temperature': 0.5, 'top_p': 0.8, 'top_k': 30}),\n",
        "        ('Chaotic', {'temperature': 1.5, 'top_p': 1.0, 'top_k': 0}),\n",
        "    ],\n",
        "    description=\"🎛 Preset:\",\n",
        "    layout=widgets.Layout(width=\"50%\")\n",
        ")\n",
        "\n",
        "def on_preset_change(change):\n",
        "    if change['type'] == 'change' and change['name'] == 'value':\n",
        "        config = change['new']\n",
        "        temperature_slider.value = config['temperature']\n",
        "        top_p_slider.value = config['top_p']\n",
        "        top_k_slider.value = config['top_k']\n",
        "\n",
        "preset_dropdown.observe(on_preset_change)\n",
        "\n",
        "# Generate button and output area\n",
        "generate_button = widgets.Button(description=\"Generate Text\", button_style='success')\n",
        "output_area = widgets.Output()\n",
        "\n",
        "def on_generate_clicked(_):\n",
        "    device = \"cuda\" if torch.cuda.is_available() else \"cpu\"\n",
        "    inputs = tokenizer(fixed_prompt, return_tensors=\"pt\").to(device)\n",
        "    outputs = model.generate(\n",
        "        **inputs,\n",
        "        max_length=max_length_slider.value,\n",
        "        do_sample=True,\n",
        "        temperature=temperature_slider.value,\n",
        "        top_p=top_p_slider.value,\n",
        "        top_k=top_k_slider.value,\n",
        "        pad_token_id=tokenizer.eos_token_id\n",
        "    )\n",
        "    generated_text = tokenizer.decode(outputs[0], skip_special_tokens=True)\n",
        "\n",
        "    output_area.clear_output()\n",
        "    with output_area:\n",
        "        print(\"📜 Generated Text:\\n\")\n",
        "        print(generated_text)\n",
        "\n",
        "generate_button.on_click(on_generate_clicked)\n",
        "\n",
        "# Layout for UI\n",
        "param_sliders = widgets.HBox([\n",
        "    temperature_slider, top_p_slider, top_k_slider, max_length_slider\n",
        "])\n",
        "\n",
        "ui = widgets.VBox([\n",
        "    model_display,\n",
        "    prompt_display,\n",
        "    preset_dropdown,\n",
        "    param_sliders,\n",
        "    generate_button,\n",
        "    output_area\n",
        "])\n",
        "\n",
        "display(ui)"
      ]
    },
    {
      "cell_type": "markdown",
      "metadata": {
        "id": "ozZ47m0odFyw"
      },
      "source": [
        "# Understanding LLM Input Data [[1]](https://www.youtube.com/watch?v=quh7z1q7-uc), [[2]](https://www.deeplearning.ai/short-courses/retrieval-optimization-from-tokenization-to-vector-quantization/)"
      ]
    },
    {
      "cell_type": "markdown",
      "metadata": {
        "id": "Eip6pG584FY3"
      },
      "source": [
        "## Tokenizing text"
      ]
    },
    {
      "cell_type": "markdown",
      "metadata": {
        "id": "Z9YskSlTMDxC"
      },
      "source": [
        "A tokenizer is a tool or process that breaks down text or data into smaller units, such as words or symbols, called tokens.\n",
        "\n",
        "Various models choose different tokenization methods. For example, OpenAI prefers Byte Per Encoding (BPE), while WordPiece is quite commonly used by some other providers, including open-source sentence transformser, that you use. However, Cohere select work best for their English model, but Unigram to create a multilingual one.\n",
        "\n",
        "Vocabulary size is a tokenizer hyperparameter and must be selected upfront and it's usually at least 30,000 tokens. For the multilingual models that might be even a few times more."
      ]
    },
    {
      "cell_type": "markdown",
      "metadata": {
        "id": "hM3iRvRdL51f"
      },
      "source": [
        "<img src=\"https://drive.google.com/uc?export=view&id=1L_QOQSz8sn569uaE-Rv5E6GZxZ12cDkJ\" width=\"700\" height=\"400\">\n",
        "\n",
        "\n"
      ]
    },
    {
      "cell_type": "markdown",
      "metadata": {
        "id": "XWsCmpVpa27n"
      },
      "source": [
        "### Simple Tokenizer"
      ]
    },
    {
      "cell_type": "markdown",
      "metadata": {
        "id": "BU6SQp9GbI6Q"
      },
      "source": [
        "Let’s discuss how we split input text into individual tokens, a required preprocessing step for creating embeddings for an LLM. These tokens are either individual words or special characters, including punctuation characters, as shown in figure."
      ]
    },
    {
      "cell_type": "markdown",
      "metadata": {
        "id": "5Y0HpiAUa_WQ"
      },
      "source": [
        "<img src=\"https://drive.google.com/uc?export=view&id=1DNwPZ_6lzN3HhuJqbjA5IXhFFo_bNWrk\" width=\"700\">\n",
        "\n"
      ]
    },
    {
      "cell_type": "code",
      "execution_count": null,
      "metadata": {
        "colab": {
          "base_uri": "https://localhost:8080/"
        },
        "id": "-8o1XgL2h_w6",
        "outputId": "e453e396-1c5b-41e6-b5bd-764e864535ef"
      },
      "outputs": [
        {
          "name": "stdout",
          "output_type": "stream",
          "text": [
            "--2025-04-25 21:25:18--  https://raw.githubusercontent.com/rasbt/LLMs-from-scratch/main/ch02/01_main-chapter-code/the-verdict.txt\n",
            "Resolving raw.githubusercontent.com (raw.githubusercontent.com)... 185.199.108.133, 185.199.109.133, 185.199.110.133, ...\n",
            "Connecting to raw.githubusercontent.com (raw.githubusercontent.com)|185.199.108.133|:443... connected.\n",
            "HTTP request sent, awaiting response... 200 OK\n",
            "Length: 20479 (20K) [text/plain]\n",
            "Saving to: ‘verdict.txt’\n",
            "\n",
            "verdict.txt         100%[===================>]  20.00K  --.-KB/s    in 0s      \n",
            "\n",
            "2025-04-25 21:25:19 (110 MB/s) - ‘verdict.txt’ saved [20479/20479]\n",
            "\n"
          ]
        }
      ],
      "source": [
        "!wget https://raw.githubusercontent.com/rasbt/LLMs-from-scratch/main/ch02/01_main-chapter-code/the-verdict.txt \\\n",
        "     -O verdict.txt"
      ]
    },
    {
      "cell_type": "code",
      "execution_count": null,
      "metadata": {
        "colab": {
          "base_uri": "https://localhost:8080/"
        },
        "id": "145uz5UYbkA7",
        "outputId": "7ed281a6-96a3-40b6-e2de-abe4fbfe0610"
      },
      "outputs": [
        {
          "name": "stdout",
          "output_type": "stream",
          "text": [
            "Total number of character: 20479\n",
            "I HAD always thought Jack Gisburn rather a cheap genius--though a good fellow enough--so it was no \n"
          ]
        }
      ],
      "source": [
        "with open(\"verdict.txt\", \"r\", encoding=\"utf-8\") as f:\n",
        " raw_text = f.read()\n",
        "print(\"Total number of character:\", len(raw_text))\n",
        "print(raw_text[:99])"
      ]
    },
    {
      "cell_type": "markdown",
      "metadata": {
        "id": "cqPHEcZVbuOE"
      },
      "source": [
        "Our goal is to tokenize this 20,479-character short story into individual words and special characters that we can then turn into embeddings for LLM training.\n",
        "\n",
        "How can we best split this text to obtain a list of tokens? For this, we go on a small excursion and use Python’s regular expression library re for illustration purposes. (You don’t have to learn or memorize any regular expression syntax since we will later transition to a prebuilt tokenizer.)"
      ]
    },
    {
      "cell_type": "code",
      "execution_count": null,
      "metadata": {
        "colab": {
          "base_uri": "https://localhost:8080/"
        },
        "id": "p3YQDrlKcSLD",
        "outputId": "5be58f9c-2bb9-4dca-d808-a8ed08260d6a"
      },
      "outputs": [
        {
          "name": "stdout",
          "output_type": "stream",
          "text": [
            "['I', 'HAD', 'always', 'thought', 'Jack', 'Gisburn', 'rather', 'a', 'cheap', 'genius', '--', 'though', 'a', 'good', 'fellow', 'enough', '--', 'so', 'it', 'was', 'no', 'great', 'surprise', 'to', 'me', 'to', 'hear', 'that', ',', 'in']\n"
          ]
        }
      ],
      "source": [
        "import re\n",
        "\n",
        "preprocessed = re.split(r'([,.:;?_!\"()\\']|--|\\s)', raw_text)\n",
        "preprocessed = [item.strip() for item in preprocessed if item.strip()]\n",
        "print(preprocessed[:30])"
      ]
    },
    {
      "cell_type": "markdown",
      "metadata": {
        "id": "zJNU-tKycACD"
      },
      "source": [
        "#### Converting tokens into token IDs\n",
        "\n",
        "\n"
      ]
    },
    {
      "cell_type": "markdown",
      "metadata": {
        "id": "nhw4yLc_cGOt"
      },
      "source": [
        "Next, we convert the text tokens into token IDs that we can process via embedding layers later"
      ]
    },
    {
      "cell_type": "markdown",
      "metadata": {
        "id": "RvTm4fevcHps"
      },
      "source": [
        "<img src=\"https://drive.google.com/uc?export=view&id=1Ad9B2CvpMrW7hT5K2U3SmOQnTdoWoOC4\" width=\"800\">"
      ]
    },
    {
      "cell_type": "code",
      "execution_count": null,
      "metadata": {
        "colab": {
          "base_uri": "https://localhost:8080/"
        },
        "id": "8fwHSOoTcEVL",
        "outputId": "8df4fb1f-b733-4f22-8fb2-023f48c45560"
      },
      "outputs": [
        {
          "name": "stdout",
          "output_type": "stream",
          "text": [
            "1130\n"
          ]
        }
      ],
      "source": [
        "all_words = sorted(set(preprocessed))\n",
        "vocab_size = len(all_words)\n",
        "\n",
        "print(vocab_size)"
      ]
    },
    {
      "cell_type": "code",
      "execution_count": null,
      "metadata": {
        "colab": {
          "base_uri": "https://localhost:8080/"
        },
        "id": "2kJ1hgOObrGL",
        "outputId": "4037daee-829f-488d-ee16-8869c771dcbc"
      },
      "outputs": [
        {
          "name": "stdout",
          "output_type": "stream",
          "text": [
            "('!', 0)\n",
            "('\"', 1)\n",
            "(\"'\", 2)\n",
            "('(', 3)\n",
            "(')', 4)\n",
            "(',', 5)\n",
            "('--', 6)\n",
            "('.', 7)\n",
            "(':', 8)\n",
            "(';', 9)\n",
            "('?', 10)\n",
            "('A', 11)\n",
            "('Ah', 12)\n",
            "('Among', 13)\n",
            "('And', 14)\n",
            "('Are', 15)\n",
            "('Arrt', 16)\n",
            "('As', 17)\n",
            "('At', 18)\n",
            "('Be', 19)\n",
            "('Begin', 20)\n"
          ]
        }
      ],
      "source": [
        "vocab = {token:integer for integer,token in enumerate(all_words)}\n",
        "\n",
        "for i, item in enumerate(vocab.items()):\n",
        "    print(item)\n",
        "    if i >= 20:\n",
        "        break"
      ]
    },
    {
      "cell_type": "code",
      "execution_count": null,
      "metadata": {
        "id": "eubLm9w0ca3Q"
      },
      "outputs": [],
      "source": [
        "class SimpleTokenizerV1:\n",
        "    def __init__(self, vocab):\n",
        "        self.str_to_int = vocab\n",
        "        self.int_to_str = {i:s for s,i in vocab.items()}\n",
        "\n",
        "    def encode(self, text):\n",
        "        preprocessed = re.split(r'([,.:;?_!\"()\\']|--|\\s)', text)\n",
        "\n",
        "        preprocessed = [\n",
        "            item.strip() for item in preprocessed if item.strip()\n",
        "        ]\n",
        "        ids = [self.str_to_int[s] for s in preprocessed]\n",
        "        return ids\n",
        "\n",
        "    def decode(self, ids):\n",
        "        text = \" \".join([self.int_to_str[i] for i in ids])\n",
        "        # Replace spaces before the specified punctuations\n",
        "        text = re.sub(r'\\s+([,.?!\"()\\'])', r'\\1', text)\n",
        "        return text"
      ]
    },
    {
      "cell_type": "markdown",
      "metadata": {
        "id": "E8GUlwkUcfei"
      },
      "source": [
        "- The encode function turns text into token IDs\n",
        "- The decode function turns token IDs back into text"
      ]
    },
    {
      "cell_type": "markdown",
      "metadata": {
        "id": "v6HsRsKkcg3g"
      },
      "source": [
        "<img src=\"https://drive.google.com/uc?export=view&id=1H_68mwQN_JXtxlv44vS_e8eHWr4HnQPG\" width=\"800\">"
      ]
    },
    {
      "cell_type": "code",
      "execution_count": null,
      "metadata": {
        "colab": {
          "base_uri": "https://localhost:8080/"
        },
        "id": "1fZmN6PBcdKa",
        "outputId": "ddfbfcde-77a5-4708-c5e2-4ae26a0c029a"
      },
      "outputs": [
        {
          "name": "stdout",
          "output_type": "stream",
          "text": [
            "[1, 56, 2, 850, 988, 602, 533, 746, 5, 1126, 596, 5, 1, 67, 7, 38, 851, 1108, 754, 793, 7]\n"
          ]
        }
      ],
      "source": [
        "tokenizer = SimpleTokenizerV1(vocab)\n",
        "\n",
        "text = \"\"\"\"It's the last he painted, you know,\"\n",
        "           Mrs. Gisburn said with pardonable pride.\"\"\"\n",
        "ids = tokenizer.encode(text)\n",
        "print(ids)"
      ]
    },
    {
      "cell_type": "code",
      "execution_count": null,
      "metadata": {
        "colab": {
          "base_uri": "https://localhost:8080/",
          "height": 35
        },
        "id": "zD3mk1b7ckB7",
        "outputId": "5ca1de52-a415-40c1-d282-4c9450c1edca"
      },
      "outputs": [
        {
          "data": {
            "application/vnd.google.colaboratory.intrinsic+json": {
              "type": "string"
            },
            "text/plain": [
              "'\" It\\' s the last he painted, you know,\" Mrs. Gisburn said with pardonable pride.'"
            ]
          },
          "execution_count": 9,
          "metadata": {},
          "output_type": "execute_result"
        }
      ],
      "source": [
        "tokenizer.decode(ids)"
      ]
    },
    {
      "cell_type": "code",
      "execution_count": null,
      "metadata": {
        "colab": {
          "base_uri": "https://localhost:8080/",
          "height": 35
        },
        "id": "8jatwQC7cmLd",
        "outputId": "a40377c3-ed44-4ca0-fe49-20ed52a3bfa6"
      },
      "outputs": [
        {
          "data": {
            "application/vnd.google.colaboratory.intrinsic+json": {
              "type": "string"
            },
            "text/plain": [
              "'\" It\\' s the last he painted, you know,\" Mrs. Gisburn said with pardonable pride.'"
            ]
          },
          "execution_count": 10,
          "metadata": {},
          "output_type": "execute_result"
        }
      ],
      "source": [
        "tokenizer.decode(tokenizer.encode(text))"
      ]
    },
    {
      "cell_type": "markdown",
      "metadata": {
        "id": "ZFiIaa_Jc0l_"
      },
      "source": [
        "#### Adding special context tokens"
      ]
    },
    {
      "cell_type": "markdown",
      "metadata": {
        "id": "YffcQMy9c2oj"
      },
      "source": [
        "We need to modify the tokenizer to handle unknown words. We also need to address the usage and addition of special context tokens that can enhance a model’s understanding of context or other relevant information in the text. These special tokens can include markers for unknown words and document boundaries, for example. In particular, we will modify the vocabulary and tokenizer, SimpleTokenizerV2, to support two new tokens, <|unk|> and <|endoftext|>"
      ]
    },
    {
      "cell_type": "code",
      "execution_count": null,
      "metadata": {
        "id": "dOGqJn9Hc5eC"
      },
      "outputs": [],
      "source": [
        "all_tokens = sorted(list(set(preprocessed)))\n",
        "all_tokens.extend([\"<|endoftext|>\", \"<|unk|>\"])\n",
        "\n",
        "vocab = {token:integer for integer,token in enumerate(all_tokens)}"
      ]
    },
    {
      "cell_type": "code",
      "execution_count": null,
      "metadata": {
        "colab": {
          "base_uri": "https://localhost:8080/"
        },
        "id": "AnivByn3c6zt",
        "outputId": "24dc54a6-face-45f9-8337-ac0d80dc266c"
      },
      "outputs": [
        {
          "name": "stdout",
          "output_type": "stream",
          "text": [
            "('younger', 1127)\n",
            "('your', 1128)\n",
            "('yourself', 1129)\n",
            "('<|endoftext|>', 1130)\n",
            "('<|unk|>', 1131)\n"
          ]
        }
      ],
      "source": [
        "for i, item in enumerate(list(vocab.items())[-5:]):\n",
        "    print(item)"
      ]
    },
    {
      "cell_type": "code",
      "execution_count": null,
      "metadata": {
        "id": "vC4r-LUPc88s"
      },
      "outputs": [],
      "source": [
        "class SimpleTokenizerV2:\n",
        "    def __init__(self, vocab):\n",
        "        self.str_to_int = vocab\n",
        "        self.int_to_str = { i:s for s,i in vocab.items()}\n",
        "\n",
        "    def encode(self, text):\n",
        "        preprocessed = re.split(r'([,.:;?_!\"()\\']|--|\\s)', text)\n",
        "        preprocessed = [item.strip() for item in preprocessed if item.strip()]\n",
        "        preprocessed = [\n",
        "            item if item in self.str_to_int\n",
        "            else \"<|unk|>\" for item in preprocessed    # Replaces unknown words by <|unk|> tokens\n",
        "        ]\n",
        "\n",
        "        ids = [self.str_to_int[s] for s in preprocessed]\n",
        "        return ids\n",
        "\n",
        "    def decode(self, ids):\n",
        "        text = \" \".join([self.int_to_str[i] for i in ids])\n",
        "        # Replace spaces before the specified punctuations\n",
        "        text = re.sub(r'\\s+([,.:;?!\"()\\'])', r'\\1', text)\n",
        "        return text"
      ]
    },
    {
      "cell_type": "code",
      "execution_count": null,
      "metadata": {
        "colab": {
          "base_uri": "https://localhost:8080/"
        },
        "id": "xLu-93_qc-Q0",
        "outputId": "5bf4b554-9e06-462b-9778-b8ba3af7f8f8"
      },
      "outputs": [
        {
          "name": "stdout",
          "output_type": "stream",
          "text": [
            "Hello, do you like tea? <|endoftext|> In the sunlit terraces of the palace.\n"
          ]
        }
      ],
      "source": [
        "tokenizer = SimpleTokenizerV2(vocab)\n",
        "\n",
        "text1 = \"Hello, do you like tea?\"\n",
        "text2 = \"In the sunlit terraces of the palace.\"\n",
        "\n",
        "text = \" <|endoftext|> \".join((text1, text2))\n",
        "\n",
        "print(text)"
      ]
    },
    {
      "cell_type": "code",
      "execution_count": null,
      "metadata": {
        "colab": {
          "base_uri": "https://localhost:8080/"
        },
        "id": "XyR3g8v_c_bO",
        "outputId": "16c585ec-4bea-41c3-f49a-c75cbc6cad2c"
      },
      "outputs": [
        {
          "data": {
            "text/plain": [
              "[1131, 5, 355, 1126, 628, 975, 10, 1130, 55, 988, 956, 984, 722, 988, 1131, 7]"
            ]
          },
          "execution_count": 15,
          "metadata": {},
          "output_type": "execute_result"
        }
      ],
      "source": [
        "tokenizer.encode(text)"
      ]
    },
    {
      "cell_type": "code",
      "execution_count": null,
      "metadata": {
        "colab": {
          "base_uri": "https://localhost:8080/",
          "height": 35
        },
        "id": "YpeRJsYudAlM",
        "outputId": "8f0cf18c-df3b-47b6-f6a6-90a6dd3c1650"
      },
      "outputs": [
        {
          "data": {
            "application/vnd.google.colaboratory.intrinsic+json": {
              "type": "string"
            },
            "text/plain": [
              "'<|unk|>, do you like tea? <|endoftext|> In the sunlit terraces of the <|unk|>.'"
            ]
          },
          "execution_count": 16,
          "metadata": {},
          "output_type": "execute_result"
        }
      ],
      "source": [
        "tokenizer.decode(tokenizer.encode(text))"
      ]
    },
    {
      "cell_type": "markdown",
      "metadata": {
        "id": "Q7Rd6qv5OkRl"
      },
      "source": [
        "### BPE - Byte-Pair Encoding"
      ]
    },
    {
      "cell_type": "markdown",
      "metadata": {
        "id": "ypBFCBFHn2cx"
      },
      "source": [
        "Byte per encoding is a common choice. BPE starts by splitting the input by whitespace characters. So a single token will never overlap two word. The vocabulary is initialized with all characters in the training set. New tokens are iteratively created by merging two tokens, which are the most often put next to each other.\n",
        "\n",
        "- GPT-2 used BytePair encoding (BPE) as its tokenizer\n",
        "\n",
        "- it allows the model to break down words that aren't in its predefined vocabulary into smaller subword units or even individual characters, enabling it to handle out-of-vocabulary words\n",
        "\n",
        "- For instance, if GPT-2's vocabulary doesn't have the word \"unfamiliarword,\" it might tokenize it as [\"unfam\", \"iliar\", \"word\"] or some other subword breakdown, depending on its trained BPE merges\n",
        "\n",
        "- The original BPE tokenizer can be found here: https://github.com/openai/gpt-2/blob/master/src/encoder.py"
      ]
    },
    {
      "cell_type": "markdown",
      "metadata": {
        "id": "wwsNmE8QncMJ"
      },
      "source": [
        "Let’s explore a more advanced tokenization scheme called Byte Pair Encoding (BPE). The BPE tokenizer was used to train large language models such as GPT-2, GPT-3, and the original model behind ChatGPT.\n",
        "\n",
        "**1. Core Idea of BPE**\n",
        "\n",
        "Instead of memorizing entire words, BPE learns frequently occurring subword units. In other words, it combines commonly seen letters and letter groups to form new words.\n",
        "\n",
        "- For example:\n",
        "\n",
        "If the word \"unhappiness\" is not in the vocabulary, BPE might split it like this:\n",
        "\n",
        "    un + happiness\n",
        "\n",
        "    un + hap + pi + ness\n",
        "\n",
        "This allows the model to break down and understand words it has never seen before.\n",
        "\n",
        "**2. How It Handles Unknown Words (Instead of Using <|unk|>)**\n",
        "\n",
        "If a word is not in the model’s vocabulary, BPE processes it as follows:\n",
        "\n",
        "- **Checks for Larger Known Chunks:**  \n",
        "  If the word is directly in the vocabulary, it uses that word.  \n",
        "  For example, if \"dog\" is in the vocabulary, it is used as is.\n",
        "\n",
        "- **Breaks the Word into Recognizable Parts:**  \n",
        "  If the whole word is not found, BPE tries to split it into known subword units.  \n",
        "  For example, if \"someunknownPlace\" is unknown:\n",
        "\n",
        "    some ✅ (might be in the vocabulary)  \n",
        "    unknown ✅ (might be in the vocabulary)  \n",
        "    Place ✅ (might be in the vocabulary)\n",
        "\n",
        "- **Uses Even Smaller Subunits:**  \n",
        "  If the parts are still unknown, BPE continues breaking it into smaller chunks:\n",
        "\n",
        "    unk + now + nP + lace\n",
        "\n",
        "If even those are not found, it may encode the word character by character:\n",
        "\n",
        "    s + o + m + e + ...\n",
        "\n",
        "This way, even a completely unknown word can still be processed and understood by splitting it into its smallest components.\n",
        "\n",
        "**3. Example: Processing an Unknown Word**\n",
        "\n",
        "Let’s say the word \"ChatGPTlikeModel\" is completely unknown. BPE might work as follows:\n",
        "\n",
        "1. It checks the entire word, but it’s not in the vocabulary.\n",
        "2. It splits the word into the largest known parts:\n",
        "\n",
        "    \"ChatGPT\" ✅ (might be known)  \n",
        "    \"like\" ✅ (might be known)  \n",
        "    \"Model\" ✅ (might be known)\n",
        "\n",
        "If \"ChatGPT\" and \"Model\" are not known, it could break them down into even smaller subunits:\n",
        "\n",
        "    \"Chat\" + \"G\" + \"P\" + \"T\" + \"like\" + \"Model\"\n",
        "\n",
        "So, no word is ever treated as fully \"unknown\". The model finds its internal components and uses them to process the word.\n",
        "\n",
        "**4. Summary**\n",
        "\n",
        "BPE learns frequently used letter groups rather than memorizing full words. When it encounters an unknown word:\n",
        "\n",
        "- It checks if the full word exists in the vocabulary. If not,\n",
        "- It breaks the word into the largest known subword units. If those aren't available,\n",
        "- It further splits the word into smaller components (even down to individual characters).\n",
        "\n",
        "This approach allows the model to handle unknown words without needing a special <|unk|> (unknown word) token.\n"
      ]
    },
    {
      "cell_type": "markdown",
      "metadata": {
        "id": "YoeU37tpS-0E"
      },
      "source": [
        "####How Byte-Pair Encoding (BPE) Works?\n",
        "\n",
        "Suppose we have a text corpus with the following four words:  \n",
        "**“ab”, “bc”, “bcd” and “cde”**.\n",
        "\n",
        "We begin by calculating the frequencies of each byte (character).  \n",
        "Initial vocabulary consists of all the unique characters in the corpus like:  \n",
        "`{“a”, “b”, “c”, “d”, “e”}`"
      ]
    },
    {
      "cell_type": "markdown",
      "metadata": {
        "id": "TyIyt-jFTJPW"
      },
      "source": [
        "#### Step 1: Initialize the Vocabulary\n",
        "\n",
        "`Vocabulary = {\"a\", \"b\", \"c\", \"d\", \"e\"}`"
      ]
    },
    {
      "cell_type": "markdown",
      "metadata": {
        "id": "mEH86h_3TfBg"
      },
      "source": [
        "#### Step 2: Calculate the frequency of each byte or character in the text corpus:\n",
        "\n",
        "`Frequency = {\"a\": 1, \"b\": 3, \"c\": 3, \"d\": 2, \"e\": 1}`"
      ]
    },
    {
      "cell_type": "markdown",
      "metadata": {
        "id": "Eqt41V8mTe3w"
      },
      "source": [
        "#### Step 3: Find the most frequent pair of two characters\n",
        "\n",
        "`Most frequent pair is \"bc\" with a frequency of 2.`"
      ]
    },
    {
      "cell_type": "markdown",
      "metadata": {
        "id": "5ByYLc85Tpqq"
      },
      "source": [
        "#### Step 4: Merge the pair to create a new subword unit.\n",
        "\n",
        "`Merge \"bc\" to create a new subword unit \"bc\".`"
      ]
    },
    {
      "cell_type": "markdown",
      "metadata": {
        "id": "Hm6CEkDzTpnD"
      },
      "source": [
        "#### Step 5: Update frequency counts of all the bytes or characters that contain the merged pair.\n",
        "\n",
        "Update the frequency counts of all the bytes or characters that contain “bc”:\n",
        "\n",
        "`Frequency = {\"a\": 1, \"b\": 2, \"c\": 3, \"d\": 2, \"e\": 1, \"bc\": 2}`"
      ]
    },
    {
      "cell_type": "markdown",
      "metadata": {
        "id": "eLLg7_pFTpjn"
      },
      "source": [
        "#### Step 6: Add the new subword unit to the vocabulary\n",
        "\n",
        "`Vocabulary = {\"a\", \"b\", \"c\", \"d\", \"e\", \"bc\"}`\n",
        "\n",
        "Repeat steps 3-6 until the desired vocabulary size is reached."
      ]
    },
    {
      "cell_type": "markdown",
      "metadata": {
        "id": "KmQahS7gTpbs"
      },
      "source": [
        "#### Step 7: Represent the text corpus using subword units\n",
        "\n",
        "`Resulting vocabulary consists of the following subword units: {\"a\", \"b\", \"c\", \"d\", \"e\", \"bc\", \"cd\", \"de\",\"ab\",\"bcd\",\"cde\"}.`"
      ]
    },
    {
      "cell_type": "markdown",
      "metadata": {
        "id": "OnVc7oZWUmh2"
      },
      "source": [
        "Original text corpus can be represented using these subword units as follows:\n",
        "\n",
        "`\"ab\" -> \"a\" + \"b\"`\n",
        "\n",
        "`\"bc\" -> \"bc\"`\n",
        "\n",
        "`\"bcd\" -> \"bc\" + \"d\"`\n",
        "\n",
        "`\"cde\" -> \"c\" + \"de\"`\n",
        "\n",
        "This representation helps in reducing the vocabulary size while maintaining the original meaning and structure of the text."
      ]
    },
    {
      "cell_type": "markdown",
      "metadata": {
        "id": "_W2_7XsrStyE"
      },
      "source": [
        "Lets look at anathor exampler\n",
        "\n"
      ]
    },
    {
      "cell_type": "markdown",
      "metadata": {
        "id": "NaH_yXgZXGfc"
      },
      "source": [
        "<img src=\"https://drive.google.com/uc?export=view&id=1bzxufPYBETaQd_vcF1WNCqRQQHCFC4yv\" width=\"500\">"
      ]
    },
    {
      "cell_type": "markdown",
      "metadata": {
        "id": "2vHL_641VokH"
      },
      "source": [
        "- BPE tokenizers break down unknown words into subwords and individual characters:"
      ]
    },
    {
      "cell_type": "markdown",
      "metadata": {
        "id": "N4e2Y-FPVq-P"
      },
      "source": [
        "<img src=\"https://drive.google.com/uc?export=view&id=1TH2_iB9vImGUQHYMWrB99qZEl14m5WUt\" width=\"800\">"
      ]
    },
    {
      "cell_type": "markdown",
      "metadata": {
        "id": "YbMt0qMRV6e8"
      },
      "source": [
        "Lets look at the code example"
      ]
    },
    {
      "cell_type": "markdown",
      "metadata": {
        "id": "jrGpSKVhYaiH"
      },
      "source": [
        "A tokenizer is a general component that requires a selected tokenization model to be passed as an argument. It also allows setting some tokenization that will be run on each input text.\n",
        "\n",
        "**Whitespace** pre-tokenization helps to split the text into words.\n",
        "\n",
        "The last thing you will set is the trainer object and the size of a target vocabulary. Practically, you will never go below at least a few thousand, but in this case, 14 should be fine for our experiment."
      ]
    },
    {
      "cell_type": "code",
      "execution_count": null,
      "metadata": {
        "id": "NZiup30nFQs6"
      },
      "outputs": [],
      "source": [
        "from tokenizers.trainers import BpeTrainer\n",
        "from tokenizers.models import BPE\n",
        "from tokenizers import Tokenizer\n",
        "from tokenizers.pre_tokenizers import Whitespace\n",
        "\n",
        "bpe_tokenizer = Tokenizer(BPE())\n",
        "bpe_tokenizer.pre_tokenizer = Whitespace()\n",
        "\n",
        "bpe_trainer = BpeTrainer(vocab_size=14)"
      ]
    },
    {
      "cell_type": "code",
      "execution_count": null,
      "metadata": {
        "id": "Fn2NRZDKV9yd"
      },
      "outputs": [],
      "source": [
        "training_data = [\n",
        "    \"\"\"walker walked a long walk\"\"\",\n",
        "]"
      ]
    },
    {
      "cell_type": "code",
      "execution_count": null,
      "metadata": {
        "id": "rpTi13TxWD0M"
      },
      "outputs": [],
      "source": [
        "bpe_tokenizer.train_from_iterator(training_data, bpe_trainer)"
      ]
    },
    {
      "cell_type": "code",
      "execution_count": null,
      "metadata": {
        "colab": {
          "base_uri": "https://localhost:8080/"
        },
        "id": "8vvTb5_WWFfL",
        "outputId": "1d0950f5-3b21-4188-a44b-09eaedf79424"
      },
      "outputs": [
        {
          "data": {
            "text/plain": [
              "{'d': 1,\n",
              " 'g': 3,\n",
              " 'walke': 13,\n",
              " 'al': 10,\n",
              " 'a': 0,\n",
              " 'r': 8,\n",
              " 'e': 2,\n",
              " 'l': 5,\n",
              " 'k': 4,\n",
              " 'w': 9,\n",
              " 'walk': 12,\n",
              " 'n': 6,\n",
              " 'wal': 11,\n",
              " 'o': 7}"
            ]
          },
          "execution_count": 20,
          "metadata": {},
          "output_type": "execute_result"
        }
      ],
      "source": [
        "bpe_tokenizer.get_vocab()"
      ]
    },
    {
      "cell_type": "code",
      "execution_count": null,
      "metadata": {
        "colab": {
          "base_uri": "https://localhost:8080/"
        },
        "id": "0svSO7_xZf9U",
        "outputId": "c9b0d7ed-33ce-4866-e0b6-9c07ae741470"
      },
      "outputs": [
        {
          "data": {
            "text/plain": [
              "[13, 8, 13, 1, 0, 5, 7, 6, 3, 12]"
            ]
          },
          "execution_count": 21,
          "metadata": {},
          "output_type": "execute_result"
        }
      ],
      "source": [
        "bpe_tokenizer.encode(\"walker walked a long walk\").ids"
      ]
    },
    {
      "cell_type": "code",
      "execution_count": null,
      "metadata": {
        "colab": {
          "base_uri": "https://localhost:8080/"
        },
        "id": "iBhUAPC6WGqw",
        "outputId": "001bc349-db2a-4f0d-ab4e-9f101fc25ddb"
      },
      "outputs": [
        {
          "data": {
            "text/plain": [
              "['walke', 'r', 'walke', 'd', 'a', 'l', 'o', 'n', 'g', 'walk']"
            ]
          },
          "execution_count": 22,
          "metadata": {},
          "output_type": "execute_result"
        }
      ],
      "source": [
        "bpe_tokenizer.encode(\"walker walked a long walk\").tokens"
      ]
    },
    {
      "cell_type": "code",
      "execution_count": null,
      "metadata": {
        "colab": {
          "base_uri": "https://localhost:8080/"
        },
        "id": "EeTOReiOZkBP",
        "outputId": "c305f5be-58a7-4199-c482-4491929b7171"
      },
      "outputs": [
        {
          "data": {
            "text/plain": [
              "[0, 4, 9, 8, 9, 2, 8]"
            ]
          },
          "execution_count": 23,
          "metadata": {},
          "output_type": "execute_result"
        }
      ],
      "source": [
        "bpe_tokenizer.encode(\"akwirw ier\").ids"
      ]
    },
    {
      "cell_type": "code",
      "execution_count": null,
      "metadata": {
        "colab": {
          "base_uri": "https://localhost:8080/"
        },
        "id": "YExIiiNgWJzc",
        "outputId": "9089b1bf-5929-4274-c5d2-7a4980182c07"
      },
      "outputs": [
        {
          "data": {
            "text/plain": [
              "['a', 'k', 'w', 'r', 'w', 'e', 'r']"
            ]
          },
          "execution_count": 24,
          "metadata": {},
          "output_type": "execute_result"
        }
      ],
      "source": [
        "bpe_tokenizer.encode(\"akwirw ier\").tokens"
      ]
    },
    {
      "cell_type": "markdown",
      "metadata": {
        "id": "vGOW8xqldzov"
      },
      "source": [
        "### Exercise 1: Prepare your own text dataset"
      ]
    },
    {
      "cell_type": "markdown",
      "metadata": {
        "id": "PbgGsgdFgbmN"
      },
      "source": [
        "#### Tokenizer Training & Evaluation Steps (Using BPE)\n",
        "\n",
        "### Step 1: Prepare Training Data\n",
        "- Avoid trivial or very small datasets.\n",
        "- Choose a meaningful, moderately sized corpus (e.g., `verdict.txt` or similar).\n",
        "- Ensure the text is clean and appropriate for language modeling.\n",
        "\n",
        "### Step 2: Initialize and Train the BPE Tokenizer\n",
        "- Use your own `bpe_tokenizer` implementation or a relevant library.\n",
        "- Train it on the selected dataset with a suitable number of merge operations (iterations).\n",
        "- Track and save the generated vocabulary.\n",
        "\n",
        "### Step 3: Test with Logical Sentences\n",
        "- Prepare a few meaningful and grammatically correct sentences.\n",
        "- Tokenize these sentences with your trained tokenizer.\n",
        "- Check:\n",
        "  - Are common words preserved?\n",
        "  - Are subword units logical?\n",
        "\n",
        "### Step 4: Evaluate and Analyze Incorrect Tokenization\n",
        "- If results are odd:\n",
        "  - Was the training data too small?\n",
        "  - Were the number of merge operations insufficient?\n",
        "  - Was there a mismatch between training data and test sentence domain?\n",
        "\n",
        "### Step 5: Test with Random or Artificial Words\n",
        "- Use made-up words such as:\n",
        "  - `kwriodte`\n",
        "  - `blenkratosync`\n",
        "  - `dravolintyxis`\n",
        "- Tokenize these and analyze:\n",
        "  - How does the tokenizer split unknown (OOV) words?\n",
        "  - Does it fall back to character-level tokens?\n",
        "  - Are subword splits meaningful?\n",
        "\n",
        "### Step 6: Compare Different Datasets\n",
        "- Train the tokenizer on multiple datasets (e.g., other `.txt` files or public corpora).\n",
        "\n",
        "You can use this:\n",
        "\n",
        "`!wget https://gist.githubusercontent.com/PrithivirajDamodaran/67af3b055e974a9caec94d96e7591607/raw/0d6babef04eac378e5a5908568ee0ea280809100/big.txt -O big.txt`\n",
        "\n",
        "- Keep training settings constant to ensure fair comparison.\n",
        "- Evaluate using both real and made-up sentences.\n",
        "- Save and compare:\n",
        "  - Vocabulary size\n",
        "  - Tokenization examples\n",
        "- Finally, discuss:\n",
        "  - Which dataset produced the best results?\n",
        "  - Why was it more effective?\n"
      ]
    },
    {
      "cell_type": "code",
      "execution_count": null,
      "metadata": {
        "id": "_u-G1BY3WUaQ"
      },
      "outputs": [],
      "source": [
        "# Libraries\n",
        "from tokenizers.trainers import BpeTrainer\n",
        "from tokenizers.models import BPE\n",
        "from tokenizers import Tokenizer\n",
        "from tokenizers.pre_tokenizers import Whitespace\n",
        "\n",
        "\n",
        "\"\"\"\n",
        "Your code here\n",
        "\"\"\""
      ]
    },
    {
      "cell_type": "code",
      "execution_count": null,
      "metadata": {
        "id": "-aptnbPyhUmG"
      },
      "outputs": [],
      "source": [
        "bpe_tokenizer.get_vocab()"
      ]
    },
    {
      "cell_type": "code",
      "execution_count": null,
      "metadata": {
        "colab": {
          "base_uri": "https://localhost:8080/"
        },
        "id": "9DeynP2yhZzg",
        "outputId": "6c1a6012-297e-4e68-fa44-3f4bca44f13b"
      },
      "outputs": [
        {
          "name": "stdout",
          "output_type": "stream",
          "text": [
            "Token IDs: [28, 89, 69, 34, 125, 77, 326, 73, 150, 140, 12, 25, 15, 7]\n",
            "Tokens: ['T', 'his', 'is', 'a', 'te', 'st', 'sent', 'en', 'ce', 'for', 'B', 'P', 'E', '.']\n",
            "Decoded Text: T his is a te st sent en ce for B P E .\n"
          ]
        }
      ],
      "source": [
        "text = \"This is a test sentence for BPE.\"\n",
        "\n",
        "\"\"\"\n",
        "Your code here\n",
        "\"\"\"\n",
        "\n",
        "print(\"Decoded Text:\", decoded_text)"
      ]
    },
    {
      "cell_type": "code",
      "execution_count": null,
      "metadata": {
        "colab": {
          "base_uri": "https://localhost:8080/"
        },
        "id": "TmHbK08YhdWJ",
        "outputId": "60ac1b7a-f999-4277-f449-b9684a6368f0"
      },
      "outputs": [
        {
          "name": "stdout",
          "output_type": "stream",
          "text": [
            "Token IDs: [35, 45, 73, 44, 105, 72, 52, 58, 47, 36]\n",
            "Tokens: ['b', 'l', 'en', 'k', 'ra', 'to', 's', 'y', 'n', 'c']\n",
            "Decoded Text: b l en k ra to s y n c\n"
          ]
        }
      ],
      "source": [
        "text = \"blenkratosync\"\n",
        "\n",
        "encoded = bpe_tokenizer.encode(text)\n",
        "\n",
        "\"\"\"\n",
        "Your code here\n",
        "\"\"\"\n",
        "\n",
        "print(\"Decoded Text:\", decoded_text)"
      ]
    },
    {
      "cell_type": "markdown",
      "metadata": {
        "id": "GGIRlol00OJC"
      },
      "source": [
        "#### Second Text Data"
      ]
    },
    {
      "cell_type": "code",
      "execution_count": null,
      "metadata": {
        "colab": {
          "base_uri": "https://localhost:8080/"
        },
        "id": "e2n34W1w0Rz6",
        "outputId": "96c39be8-0e6f-404f-bdf5-e500d6b328c5"
      },
      "outputs": [
        {
          "name": "stdout",
          "output_type": "stream",
          "text": [
            "--2025-04-22 14:05:11--  https://gist.githubusercontent.com/PrithivirajDamodaran/67af3b055e974a9caec94d96e7591607/raw/0d6babef04eac378e5a5908568ee0ea280809100/big.txt\n",
            "Resolving gist.githubusercontent.com (gist.githubusercontent.com)... 185.199.108.133, 185.199.109.133, 185.199.110.133, ...\n",
            "Connecting to gist.githubusercontent.com (gist.githubusercontent.com)|185.199.108.133|:443... connected.\n",
            "HTTP request sent, awaiting response... 200 OK\n",
            "Length: 6483133 (6.2M) [text/plain]\n",
            "Saving to: ‘big.txt’\n",
            "\n",
            "big.txt             100%[===================>]   6.18M  --.-KB/s    in 0.03s   \n",
            "\n",
            "2025-04-22 14:05:13 (203 MB/s) - ‘big.txt’ saved [6483133/6483133]\n",
            "\n"
          ]
        }
      ],
      "source": [
        "!wget https://gist.githubusercontent.com/PrithivirajDamodaran/67af3b055e974a9caec94d96e7591607/raw/0d6babef04eac378e5a5908568ee0ea280809100/big.txt -O big.txt"
      ]
    },
    {
      "cell_type": "code",
      "execution_count": null,
      "metadata": {
        "id": "rX9QxHUs0hhI"
      },
      "outputs": [],
      "source": [
        "from tokenizers.trainers import BpeTrainer\n",
        "from tokenizers.models import BPE\n",
        "from tokenizers import Tokenizer\n",
        "from tokenizers.pre_tokenizers import Whitespace\n",
        "\n",
        "\"\"\"\n",
        "Your code here\n",
        "\"\"\"\n"
      ]
    },
    {
      "cell_type": "code",
      "execution_count": null,
      "metadata": {
        "colab": {
          "base_uri": "https://localhost:8080/"
        },
        "id": "rMW4OLNC0mx2",
        "outputId": "576ad2eb-2408-4c9e-ccbc-0dfbbdf3e397"
      },
      "outputs": [
        {
          "name": "stdout",
          "output_type": "stream",
          "text": [
            "Token IDs: [641, 100, 62, 81, 203, 80, 122, 332, 135, 33, 47, 36, 13]\n",
            "Tokens: ['This', 'is', 'a', 't', 'est', 's', 'ent', 'ence', 'for', 'B', 'P', 'E', '.']\n",
            "Decoded Text: This is a t est s ent ence for B P E .\n"
          ]
        }
      ],
      "source": [
        "text = \"This is a test sentence for BPE.\"\n",
        "\n",
        "\"\"\"\n",
        "Your code here\n",
        "\"\"\"\n",
        "print(\"Decoded Text:\", decoded_text)"
      ]
    },
    {
      "cell_type": "code",
      "execution_count": null,
      "metadata": {
        "colab": {
          "base_uri": "https://localhost:8080/"
        },
        "id": "yOTaTiQA0qV4",
        "outputId": "0a942a6e-3b21-4c57-bcfe-9587a488fcdc"
      },
      "outputs": [
        {
          "name": "stdout",
          "output_type": "stream",
          "text": [
            "Token IDs: [306, 98, 72, 79, 97, 196, 86, 75, 64]\n",
            "Tokens: ['bl', 'en', 'k', 'r', 'at', 'os', 'y', 'n', 'c']\n",
            "Decoded Text: bl en k r at os y n c\n"
          ]
        }
      ],
      "source": [
        "text = \"blenkratosync\"\n",
        "\n",
        "\"\"\"\n",
        "Your code here\n",
        "\"\"\"\n",
        "\n",
        "print(\"Decoded Text:\", decoded_text)"
      ]
    },
    {
      "cell_type": "markdown",
      "metadata": {
        "id": "o_khO6rZqrQL"
      },
      "source": [
        "### Tiktoken"
      ]
    },
    {
      "cell_type": "code",
      "execution_count": null,
      "metadata": {
        "colab": {
          "base_uri": "https://localhost:8080/"
        },
        "id": "ncD1rLV5hgGE",
        "outputId": "e4c26d48-6f9a-43a0-b549-c6c28f5f3eb2"
      },
      "outputs": [
        {
          "name": "stdout",
          "output_type": "stream",
          "text": [
            "Collecting tiktoken==0.7.0\n",
            "  Downloading tiktoken-0.7.0-cp311-cp311-manylinux_2_17_x86_64.manylinux2014_x86_64.whl.metadata (6.6 kB)\n",
            "Requirement already satisfied: regex>=2022.1.18 in /usr/local/lib/python3.11/dist-packages (from tiktoken==0.7.0) (2024.11.6)\n",
            "Requirement already satisfied: requests>=2.26.0 in /usr/local/lib/python3.11/dist-packages (from tiktoken==0.7.0) (2.32.3)\n",
            "Requirement already satisfied: charset-normalizer<4,>=2 in /usr/local/lib/python3.11/dist-packages (from requests>=2.26.0->tiktoken==0.7.0) (3.4.1)\n",
            "Requirement already satisfied: idna<4,>=2.5 in /usr/local/lib/python3.11/dist-packages (from requests>=2.26.0->tiktoken==0.7.0) (3.10)\n",
            "Requirement already satisfied: urllib3<3,>=1.21.1 in /usr/local/lib/python3.11/dist-packages (from requests>=2.26.0->tiktoken==0.7.0) (2.3.0)\n",
            "Requirement already satisfied: certifi>=2017.4.17 in /usr/local/lib/python3.11/dist-packages (from requests>=2.26.0->tiktoken==0.7.0) (2025.1.31)\n",
            "Downloading tiktoken-0.7.0-cp311-cp311-manylinux_2_17_x86_64.manylinux2014_x86_64.whl (1.1 MB)\n",
            "\u001b[?25l   \u001b[90m━━━━━━━━━━━━━━━━━━━━━━━━━━━━━━━━━━━━━━━━\u001b[0m \u001b[32m0.0/1.1 MB\u001b[0m \u001b[31m?\u001b[0m eta \u001b[36m-:--:--\u001b[0m\r",
            "\u001b[2K   \u001b[90m━━━━━━━━━━━━━━━━━━━━━━━━━━━━━━━━━━━━━━━━\u001b[0m \u001b[32m1.1/1.1 MB\u001b[0m \u001b[31m57.5 MB/s\u001b[0m eta \u001b[36m0:00:00\u001b[0m\n",
            "\u001b[?25hInstalling collected packages: tiktoken\n",
            "Successfully installed tiktoken-0.7.0\n"
          ]
        }
      ],
      "source": [
        "!pip install tiktoken==0.7.0"
      ]
    },
    {
      "cell_type": "code",
      "execution_count": null,
      "metadata": {
        "colab": {
          "base_uri": "https://localhost:8080/"
        },
        "id": "xq6_OwNjq0pl",
        "outputId": "e95c1783-1c47-4618-9466-7e610f20815c"
      },
      "outputs": [
        {
          "name": "stdout",
          "output_type": "stream",
          "text": [
            "tiktoken version: 0.7.0\n"
          ]
        }
      ],
      "source": [
        "from importlib.metadata import version\n",
        "import tiktoken\n",
        "print(\"tiktoken version:\", version(\"tiktoken\"))"
      ]
    },
    {
      "cell_type": "markdown",
      "metadata": {
        "id": "ASMbjH_kq39r"
      },
      "source": [
        "Once installed, we can instantiate the BPE tokenizer from tiktoken as follows:"
      ]
    },
    {
      "cell_type": "code",
      "execution_count": null,
      "metadata": {
        "id": "0o9cPbJBq1ud"
      },
      "outputs": [],
      "source": [
        "tokenizer = tiktoken.get_encoding(\"gpt2\")"
      ]
    },
    {
      "cell_type": "markdown",
      "metadata": {
        "id": "_JwXlgiVq6St"
      },
      "source": [
        "The usage of this tokenizer is similar to the SimpleTokenizerV2 we implemented previously via an encode method:"
      ]
    },
    {
      "cell_type": "code",
      "execution_count": null,
      "metadata": {
        "colab": {
          "base_uri": "https://localhost:8080/"
        },
        "id": "K9BvDoPlq2-y",
        "outputId": "070b2fa4-184b-40b2-9351-cfeb25a2a5d1"
      },
      "outputs": [
        {
          "name": "stdout",
          "output_type": "stream",
          "text": [
            "[15496, 11, 466, 345, 588, 8887, 30, 220, 50256, 554, 262, 4252, 18250, 8812, 2114, 1659, 617, 34680, 27271, 13]\n"
          ]
        }
      ],
      "source": [
        "text = (\n",
        " \"Hello, do you like tea? <|endoftext|> In the sunlit terraces\"\n",
        " \"of someunknownPlace.\"\n",
        ")\n",
        "integers = tokenizer.encode(text, allowed_special={\"<|endoftext|>\"})\n",
        "print(integers)"
      ]
    },
    {
      "cell_type": "code",
      "execution_count": null,
      "metadata": {
        "colab": {
          "base_uri": "https://localhost:8080/"
        },
        "id": "WYmqkYRPq7n_",
        "outputId": "1aa892c2-caab-4901-95c0-bdfb81ad55d9"
      },
      "outputs": [
        {
          "name": "stdout",
          "output_type": "stream",
          "text": [
            "Hello, do you like tea? <|endoftext|> In the sunlit terracesof someunknownPlace.\n"
          ]
        }
      ],
      "source": [
        "strings = tokenizer.decode(integers)\n",
        "print(strings)"
      ]
    },
    {
      "cell_type": "markdown",
      "metadata": {
        "id": "B1GJwxiwrHZJ"
      },
      "source": [
        "## Data sampling with a sliding window"
      ]
    },
    {
      "cell_type": "markdown",
      "metadata": {
        "id": "ghu-T28_rPu6"
      },
      "source": [
        "The next step in creating the embeddings for the LLM is to generate the input–target pairs required for training an LLM. What do these input–target pairs look like? As we already learned, LLMs are pretrained by predicting the next word in a text, as depicted in figure\n",
        "\n",
        "\n",
        "<img src=\"https://drive.google.com/uc?export=view&id=176WTsvZQtjAKzqHLPnZ1VHy7uOCFUaJA\" width=\"800\">"
      ]
    },
    {
      "cell_type": "code",
      "execution_count": null,
      "metadata": {
        "colab": {
          "base_uri": "https://localhost:8080/"
        },
        "id": "TP5yYcxDruU3",
        "outputId": "9d1b2f4d-6a91-4565-b204-2af7c503282a"
      },
      "outputs": [
        {
          "name": "stdout",
          "output_type": "stream",
          "text": [
            "5145\n"
          ]
        }
      ],
      "source": [
        "with open(\"verdict.txt\", \"r\", encoding=\"utf-8\") as f:\n",
        "    raw_text = f.read()\n",
        "\n",
        "enc_text = tokenizer.encode(raw_text)\n",
        "print(len(enc_text))"
      ]
    },
    {
      "cell_type": "markdown",
      "metadata": {
        "id": "MmXECISVr3XM"
      },
      "source": [
        "- For each text chunk, we want the inputs and targets.\n",
        "- Since we want the model to predict the next word, the targets are the inputs shifted by one position to the right"
      ]
    },
    {
      "cell_type": "code",
      "execution_count": null,
      "metadata": {
        "id": "A7pUdvfUry5r"
      },
      "outputs": [],
      "source": [
        "enc_sample = enc_text[50:]"
      ]
    },
    {
      "cell_type": "code",
      "execution_count": null,
      "metadata": {
        "colab": {
          "base_uri": "https://localhost:8080/"
        },
        "id": "SCgXOJF5r09G",
        "outputId": "f220a879-9916-4ce9-b6d8-45ce5965bcf9"
      },
      "outputs": [
        {
          "name": "stdout",
          "output_type": "stream",
          "text": [
            "x: [290, 4920, 2241, 287]\n",
            "y:      [4920, 2241, 287, 257]\n"
          ]
        }
      ],
      "source": [
        "context_size = 4\n",
        "\n",
        "x = enc_sample[:context_size]\n",
        "y = enc_sample[1:context_size+1]\n",
        "\n",
        "print(f\"x: {x}\")\n",
        "print(f\"y:      {y}\")"
      ]
    },
    {
      "cell_type": "markdown",
      "metadata": {
        "id": "tZ45ZFb3r7zY"
      },
      "source": [
        "- One by one, the prediction would look like as follows:"
      ]
    },
    {
      "cell_type": "code",
      "execution_count": null,
      "metadata": {
        "colab": {
          "base_uri": "https://localhost:8080/"
        },
        "id": "vIXTRGyir9V5",
        "outputId": "656ec4b4-9132-4c70-ad74-56ab6ffe2f5f"
      },
      "outputs": [
        {
          "name": "stdout",
          "output_type": "stream",
          "text": [
            "[290] ----> 4920\n",
            "[290, 4920] ----> 2241\n",
            "[290, 4920, 2241] ----> 287\n",
            "[290, 4920, 2241, 287] ----> 257\n"
          ]
        }
      ],
      "source": [
        "for i in range(1, context_size+1):\n",
        "    context = enc_sample[:i]\n",
        "    desired = enc_sample[i]\n",
        "\n",
        "    print(context, \"---->\", desired)"
      ]
    },
    {
      "cell_type": "code",
      "execution_count": null,
      "metadata": {
        "colab": {
          "base_uri": "https://localhost:8080/"
        },
        "id": "tBxUzE3PsAMJ",
        "outputId": "fdb602eb-3e15-44f4-efdb-8a04e76e77a1"
      },
      "outputs": [
        {
          "name": "stdout",
          "output_type": "stream",
          "text": [
            " and ---->  established\n",
            " and established ---->  himself\n",
            " and established himself ---->  in\n",
            " and established himself in ---->  a\n"
          ]
        }
      ],
      "source": [
        "for i in range(1, context_size+1):\n",
        "    context = enc_sample[:i]\n",
        "    desired = enc_sample[i]\n",
        "\n",
        "    print(tokenizer.decode(context), \"---->\", tokenizer.decode([desired]))"
      ]
    },
    {
      "cell_type": "markdown",
      "metadata": {
        "id": "lBEoSblasYKR"
      },
      "source": [
        "- We will take care of the next-word prediction in a later chapter after we covered the attention mechanism\n",
        "- For now, we implement a simple data loader that iterates over the input dataset and returns the inputs and targets shifted by one\n",
        "- Install and import PyTorch (see Appendix A for installation tips)"
      ]
    },
    {
      "cell_type": "code",
      "execution_count": null,
      "metadata": {
        "colab": {
          "base_uri": "https://localhost:8080/"
        },
        "id": "CdYYHqlRsX1n",
        "outputId": "a198d0bf-2819-484c-d6be-1ac9fa2e22ce"
      },
      "outputs": [
        {
          "name": "stdout",
          "output_type": "stream",
          "text": [
            "PyTorch version: 2.6.0+cu124\n"
          ]
        }
      ],
      "source": [
        "import torch\n",
        "print(\"PyTorch version:\", torch.__version__)"
      ]
    },
    {
      "cell_type": "markdown",
      "metadata": {
        "id": "tays_Aigrhb9"
      },
      "source": [
        "- For this, we use a sliding window approach, changing the position by +1:"
      ]
    },
    {
      "cell_type": "markdown",
      "metadata": {
        "id": "igThLSV-rjc2"
      },
      "source": [
        "<img src=\"https://drive.google.com/uc?export=view&id=1zOKPf9DyxWboounyyhG0rwZO4Mplbijz\" width=\"800\">"
      ]
    },
    {
      "cell_type": "markdown",
      "metadata": {
        "id": "LKmctSHisflC"
      },
      "source": [
        "- Create dataset and dataloader that extract chunks from the input text dataset"
      ]
    },
    {
      "cell_type": "code",
      "execution_count": null,
      "metadata": {
        "id": "OfgTzK7wq89R"
      },
      "outputs": [],
      "source": [
        "from torch.utils.data import Dataset, DataLoader\n",
        "\n",
        "\n",
        "class GPTDatasetV1(Dataset):\n",
        "    def __init__(self, txt, tokenizer, max_length, stride):\n",
        "        self.input_ids = []\n",
        "        self.target_ids = []\n",
        "\n",
        "        # Tokenize the entire text\n",
        "        token_ids = tokenizer.encode(txt, allowed_special={\"<|endoftext|>\"})\n",
        "\n",
        "        # Use a sliding window to chunk the book into overlapping sequences of max_length\n",
        "        for i in range(0, len(token_ids) - max_length, stride):\n",
        "            input_chunk = token_ids[i:i + max_length]\n",
        "            target_chunk = token_ids[i + 1: i + max_length + 1]\n",
        "            self.input_ids.append(torch.tensor(input_chunk))\n",
        "            self.target_ids.append(torch.tensor(target_chunk))\n",
        "\n",
        "    def __len__(self):\n",
        "        return len(self.input_ids)\n",
        "\n",
        "    def __getitem__(self, idx):\n",
        "        return self.input_ids[idx], self.target_ids[idx]\n",
        "\n",
        "def create_dataloader_v1(txt, batch_size=4, max_length=256,\n",
        "                         stride=128, shuffle=True, drop_last=True,\n",
        "                         num_workers=0):\n",
        "\n",
        "    # Initialize the tokenizer\n",
        "    tokenizer = tiktoken.get_encoding(\"gpt2\")\n",
        "\n",
        "    # Create dataset\n",
        "    dataset = GPTDatasetV1(txt, tokenizer, max_length, stride)\n",
        "\n",
        "    # Create dataloader\n",
        "    dataloader = DataLoader(\n",
        "        dataset,\n",
        "        batch_size=batch_size,\n",
        "        shuffle=shuffle,\n",
        "        drop_last=drop_last, # drop_last=True drops the last batch if it is shorter than the specified batch_size to prevent loss spikes during training.\n",
        "        num_workers=num_workers # The number of CPU processesto use for preprocessing\n",
        "    )\n",
        "\n",
        "    return dataloader"
      ]
    },
    {
      "cell_type": "markdown",
      "metadata": {
        "id": "v4OXinVxsjCx"
      },
      "source": [
        "The GPTDatasetV1 class is based on the PyTorch Dataset class and defines how individual rows are fetched from the dataset, where each row consists of a number of token IDs (based on a max_length) assigned to an input_chunk tensor. The target_ chunk tensor contains the corresponding targets."
      ]
    },
    {
      "cell_type": "code",
      "execution_count": null,
      "metadata": {
        "id": "v_Wl8Lk3shsZ"
      },
      "outputs": [],
      "source": [
        "with open(\"verdict.txt\", \"r\", encoding=\"utf-8\") as f:\n",
        "    raw_text = f.read()"
      ]
    },
    {
      "cell_type": "code",
      "execution_count": null,
      "metadata": {
        "colab": {
          "base_uri": "https://localhost:8080/"
        },
        "id": "Z_UgvgjIspt9",
        "outputId": "50fd2130-0ef7-473e-8416-8157606154de"
      },
      "outputs": [
        {
          "name": "stdout",
          "output_type": "stream",
          "text": [
            "[tensor([[  40,  367, 2885, 1464]]), tensor([[ 367, 2885, 1464, 1807]])]\n"
          ]
        }
      ],
      "source": [
        "dataloader = create_dataloader_v1(\n",
        "    raw_text, batch_size=1, max_length=4, stride=1, shuffle=False\n",
        ")\n",
        "\n",
        "data_iter = iter(dataloader)\n",
        "first_batch = next(data_iter)\n",
        "print(first_batch)"
      ]
    },
    {
      "cell_type": "code",
      "execution_count": null,
      "metadata": {
        "colab": {
          "base_uri": "https://localhost:8080/"
        },
        "id": "Q-GRl6N8sr0C",
        "outputId": "acb11bae-4dfb-4019-b6c4-6ce5ebd1d750"
      },
      "outputs": [
        {
          "name": "stdout",
          "output_type": "stream",
          "text": [
            "[tensor([[ 367, 2885, 1464, 1807]]), tensor([[2885, 1464, 1807, 3619]])]\n"
          ]
        }
      ],
      "source": [
        "second_batch = next(data_iter)\n",
        "print(second_batch)"
      ]
    },
    {
      "cell_type": "code",
      "execution_count": null,
      "metadata": {
        "colab": {
          "base_uri": "https://localhost:8080/"
        },
        "id": "faftt235ss-4",
        "outputId": "bd312dd2-9fe7-4728-dd1e-9110910a6bf6"
      },
      "outputs": [
        {
          "name": "stdout",
          "output_type": "stream",
          "text": [
            "Inputs:\n",
            " tensor([[   40,   367,  2885,  1464],\n",
            "        [ 1807,  3619,   402,   271],\n",
            "        [10899,  2138,   257,  7026],\n",
            "        [15632,   438,  2016,   257],\n",
            "        [  922,  5891,  1576,   438],\n",
            "        [  568,   340,   373,   645],\n",
            "        [ 1049,  5975,   284,   502],\n",
            "        [  284,  3285,   326,    11]])\n",
            "\n",
            "Targets:\n",
            " tensor([[  367,  2885,  1464,  1807],\n",
            "        [ 3619,   402,   271, 10899],\n",
            "        [ 2138,   257,  7026, 15632],\n",
            "        [  438,  2016,   257,   922],\n",
            "        [ 5891,  1576,   438,   568],\n",
            "        [  340,   373,   645,  1049],\n",
            "        [ 5975,   284,   502,   284],\n",
            "        [ 3285,   326,    11,   287]])\n"
          ]
        }
      ],
      "source": [
        "dataloader = create_dataloader_v1(raw_text, batch_size=8, max_length=4, stride=4, shuffle=False)\n",
        "\n",
        "data_iter = iter(dataloader)\n",
        "inputs, targets = next(data_iter)\n",
        "print(\"Inputs:\\n\", inputs)\n",
        "print(\"\\nTargets:\\n\", targets)"
      ]
    },
    {
      "cell_type": "markdown",
      "metadata": {
        "id": "ED6KvSo8tSd4"
      },
      "source": [
        "# Coding an LLM architecture [[1]](https://www.youtube.com/watch?v=quh7z1q7-uc)"
      ]
    },
    {
      "cell_type": "markdown",
      "metadata": {
        "id": "ZIHCN7PZ5KMx"
      },
      "source": [
        "- Models like GPT, Gemma, Phi, Mistral, Llama etc. generate words sequentially and are based on the decoder part of the original transformer architecture\n",
        "- ChatGPT, GPT4, Llama-3, Phi-3, Gemma and Gemini, they all do next word precdiction. So its a sense like the target are shifted by position one.\n",
        "- Therefore, these LLMs are often referred to as \"decoder-like\" LLMs\n",
        "- Compared to conventional deep learning models, LLMs are larger, mainly due to their vast number of parameters, not the amount of code\n",
        "- We'll see that many elements are repeated in an LLM's architecture"
      ]
    },
    {
      "cell_type": "markdown",
      "metadata": {
        "id": "GfYun04C6x6n"
      },
      "source": [
        "<img src=\"https://drive.google.com/uc?export=view&id=1tPvE7PrvNM2CSV5MLAogJITPe_fQpO4A\" width=\"800\">"
      ]
    },
    {
      "cell_type": "markdown",
      "metadata": {
        "id": "HzrpEiON68ef"
      },
      "source": [
        "- In the previous, we used small embedding dimensions for token inputs and outputs for ease of illustration, ensuring they neatly fit on the screen\n",
        "- Now we consider embedding and model sizes akin to a small GPT-2 model\n",
        "- Well specifically code the architecture of the smallest GPT-2 model (124 million parameters)\n",
        "- The next section will show how to load pretrained weights into our implementation, which will be compatible with model sizes of 345, 762, and 1542 million parameters\n",
        "-Models like Llama and others are very similar to GPT-2 \"large\" model, since they are all based on the same core concepts"
      ]
    },
    {
      "cell_type": "markdown",
      "metadata": {
        "id": "SwwipqCm99dQ"
      },
      "source": [
        "<img src=\"https://drive.google.com/uc?export=view&id=1UilOjCxm1BTBLOgG17-Xgaa1vwrEJ4aN\" width=\"1200\">"
      ]
    },
    {
      "cell_type": "markdown",
      "metadata": {
        "id": "ghSpls29_Llm"
      },
      "source": [
        "- Embedding layers produce continuous value vectors.\n",
        "\n",
        "- Dropout is no longer popular and is not commonly used in LLMs.\n",
        "\n",
        "- Linear layers are not used in modern architectures. A linear layer is essentially just a simple matrix multiplication."
      ]
    },
    {
      "cell_type": "markdown",
      "metadata": {
        "id": "_TTcY-Yn_R6Z"
      },
      "source": [
        "- Configuration details for the 124 million parameter GPT-2 model (GPT-2 \"small\") include:"
      ]
    },
    {
      "cell_type": "code",
      "execution_count": null,
      "metadata": {
        "colab": {
          "base_uri": "https://localhost:8080/"
        },
        "id": "Eb6axhnHAt25",
        "outputId": "b491eda2-5c7d-455a-ebb3-477364b20288"
      },
      "outputs": [
        {
          "name": "stdout",
          "output_type": "stream",
          "text": [
            "Requirement already satisfied: tiktoken in /usr/local/lib/python3.11/dist-packages (0.7.0)\n",
            "Requirement already satisfied: regex>=2022.1.18 in /usr/local/lib/python3.11/dist-packages (from tiktoken) (2024.11.6)\n",
            "Requirement already satisfied: requests>=2.26.0 in /usr/local/lib/python3.11/dist-packages (from tiktoken) (2.32.3)\n",
            "Requirement already satisfied: charset-normalizer<4,>=2 in /usr/local/lib/python3.11/dist-packages (from requests>=2.26.0->tiktoken) (3.4.1)\n",
            "Requirement already satisfied: idna<4,>=2.5 in /usr/local/lib/python3.11/dist-packages (from requests>=2.26.0->tiktoken) (3.10)\n",
            "Requirement already satisfied: urllib3<3,>=1.21.1 in /usr/local/lib/python3.11/dist-packages (from requests>=2.26.0->tiktoken) (2.3.0)\n",
            "Requirement already satisfied: certifi>=2017.4.17 in /usr/local/lib/python3.11/dist-packages (from requests>=2.26.0->tiktoken) (2025.1.31)\n"
          ]
        }
      ],
      "source": [
        "!pip install tiktoken"
      ]
    },
    {
      "cell_type": "code",
      "execution_count": null,
      "metadata": {
        "id": "8geVzYxRtWh-"
      },
      "outputs": [],
      "source": [
        "GPT_CONFIG_124M = {\n",
        "    \"vocab_size\": 50257,    # Vocabulary size\n",
        "    \"context_length\": 1024, # Context length\n",
        "    \"emb_dim\": 768,         # Embedding dimension\n",
        "    \"n_heads\": 12,          # Number of attention heads\n",
        "    \"n_layers\": 12,         # Number of layers\n",
        "    \"drop_rate\": 0.0,       # Dropout rate\n",
        "    \"qkv_bias\": False       # Query-Key-Value bias\n",
        "}"
      ]
    },
    {
      "cell_type": "markdown",
      "metadata": {
        "id": "OIF6JCm1_vla"
      },
      "source": [
        "## Coding the GPT model"
      ]
    },
    {
      "cell_type": "markdown",
      "metadata": {
        "id": "DD39OX3d_4Xj"
      },
      "source": [
        "- We are almost there: now let's plug in the transformer block into the architecture we coded at the very beginning of this notebook so that we obtain a useable GPT architecture\n",
        "- Note that the transformer block is repeated multiple times; in the case of the smallest 124M GPT-2 model, we repeat it 12 times:"
      ]
    },
    {
      "cell_type": "markdown",
      "metadata": {
        "id": "xXLdLvJM_73-"
      },
      "source": [
        "<img src=\"https://drive.google.com/uc?export=view&id=1GbDioSyY_YJAOWeJxGzYI8lV-hMaeFtP\" width=\"800\">"
      ]
    },
    {
      "cell_type": "markdown",
      "metadata": {
        "id": "9Z2tXg81ADzk"
      },
      "source": [
        "- The corresponding code implementation, where `cfg[\"n_layers\"] = 12`:"
      ]
    },
    {
      "cell_type": "code",
      "execution_count": null,
      "metadata": {
        "cellView": "form",
        "id": "WsCNLSDnAarF"
      },
      "outputs": [],
      "source": [
        "#@title Required codes\n",
        "# Copyright (c) Sebastian Raschka under Apache License 2.0 (see LICENSE.txt).\n",
        "# Source for \"Build a Large Language Model From Scratch\"\n",
        "#   - https://www.manning.com/books/build-a-large-language-model-from-scratch\n",
        "# Code: https://github.com/rasbt/LLMs-from-scratch\n",
        "\n",
        "import tiktoken\n",
        "import torch\n",
        "import torch.nn as nn\n",
        "from torch.utils.data import Dataset, DataLoader\n",
        "\n",
        "\n",
        "class GPTDatasetV1(Dataset):\n",
        "    def __init__(self, txt, tokenizer, max_length, stride):\n",
        "        self.input_ids = []\n",
        "        self.target_ids = []\n",
        "\n",
        "        # Tokenize the entire text\n",
        "        token_ids = tokenizer.encode(txt, allowed_special={\"<|endoftext|>\"})\n",
        "\n",
        "        # Use a sliding window to chunk the book into overlapping sequences of max_length\n",
        "        for i in range(0, len(token_ids) - max_length, stride):\n",
        "            input_chunk = token_ids[i:i + max_length]\n",
        "            target_chunk = token_ids[i + 1: i + max_length + 1]\n",
        "            self.input_ids.append(torch.tensor(input_chunk))\n",
        "            self.target_ids.append(torch.tensor(target_chunk))\n",
        "\n",
        "    def __len__(self):\n",
        "        return len(self.input_ids)\n",
        "\n",
        "    def __getitem__(self, idx):\n",
        "        return self.input_ids[idx], self.target_ids[idx]\n",
        "\n",
        "\n",
        "def create_dataloader_v1(txt, batch_size=4, max_length=256,\n",
        "                         stride=128, shuffle=True, drop_last=True, num_workers=0):\n",
        "    # Initialize the tokenizer\n",
        "    tokenizer = tiktoken.get_encoding(\"gpt2\")\n",
        "\n",
        "    # Create dataset\n",
        "    dataset = GPTDatasetV1(txt, tokenizer, max_length, stride)\n",
        "\n",
        "    # Create dataloader\n",
        "    dataloader = DataLoader(\n",
        "        dataset, batch_size=batch_size, shuffle=shuffle, drop_last=drop_last, num_workers=num_workers)\n",
        "\n",
        "    return dataloader\n",
        "\n",
        "\n",
        "class MultiHeadAttention(nn.Module):\n",
        "    def __init__(self, d_in, d_out, context_length, dropout, num_heads, qkv_bias=False):\n",
        "        super().__init__()\n",
        "        assert d_out % num_heads == 0, \"d_out must be divisible by num_heads\"\n",
        "\n",
        "        self.d_out = d_out\n",
        "        self.num_heads = num_heads\n",
        "        self.head_dim = d_out // num_heads  # Reduce the projection dim to match desired output dim\n",
        "\n",
        "        self.W_query = nn.Linear(d_in, d_out, bias=qkv_bias)\n",
        "        self.W_key = nn.Linear(d_in, d_out, bias=qkv_bias)\n",
        "        self.W_value = nn.Linear(d_in, d_out, bias=qkv_bias)\n",
        "        self.out_proj = nn.Linear(d_out, d_out)  # Linear layer to combine head outputs\n",
        "        self.dropout = nn.Dropout(dropout)\n",
        "        self.register_buffer('mask', torch.triu(torch.ones(context_length, context_length), diagonal=1))\n",
        "\n",
        "    def forward(self, x):\n",
        "        b, num_tokens, d_in = x.shape\n",
        "\n",
        "        keys = self.W_key(x)  # Shape: (b, num_tokens, d_out)\n",
        "        queries = self.W_query(x)\n",
        "        values = self.W_value(x)\n",
        "\n",
        "        # We implicitly split the matrix by adding a `num_heads` dimension\n",
        "        # Unroll last dim: (b, num_tokens, d_out) -> (b, num_tokens, num_heads, head_dim)\n",
        "        keys = keys.view(b, num_tokens, self.num_heads, self.head_dim)\n",
        "        values = values.view(b, num_tokens, self.num_heads, self.head_dim)\n",
        "        queries = queries.view(b, num_tokens, self.num_heads, self.head_dim)\n",
        "\n",
        "        # Transpose: (b, num_tokens, num_heads, head_dim) -> (b, num_heads, num_tokens, head_dim)\n",
        "        keys = keys.transpose(1, 2)\n",
        "        queries = queries.transpose(1, 2)\n",
        "        values = values.transpose(1, 2)\n",
        "\n",
        "        # Compute scaled dot-product attention (aka self-attention) with a causal mask\n",
        "        attn_scores = queries @ keys.transpose(2, 3)  # Dot product for each head\n",
        "\n",
        "        # Original mask truncated to the number of tokens and converted to boolean\n",
        "        mask_bool = self.mask.bool()[:num_tokens, :num_tokens]\n",
        "\n",
        "        # Use the mask to fill attention scores\n",
        "        attn_scores.masked_fill_(mask_bool, -torch.inf)\n",
        "\n",
        "        attn_weights = torch.softmax(attn_scores / keys.shape[-1]**0.5, dim=-1)\n",
        "        attn_weights = self.dropout(attn_weights)\n",
        "\n",
        "        # Shape: (b, num_tokens, num_heads, head_dim)\n",
        "        context_vec = (attn_weights @ values).transpose(1, 2)\n",
        "\n",
        "        # Combine heads, where self.d_out = self.num_heads * self.head_dim\n",
        "        context_vec = context_vec.contiguous().view(b, num_tokens, self.d_out)\n",
        "        context_vec = self.out_proj(context_vec)  # optional projection\n",
        "\n",
        "        return context_vec\n",
        "\n",
        "\n",
        "class LayerNorm(nn.Module):\n",
        "    def __init__(self, emb_dim):\n",
        "        super().__init__()\n",
        "        self.eps = 1e-5\n",
        "        self.scale = nn.Parameter(torch.ones(emb_dim))\n",
        "        self.shift = nn.Parameter(torch.zeros(emb_dim))\n",
        "\n",
        "    def forward(self, x):\n",
        "        mean = x.mean(dim=-1, keepdim=True)\n",
        "        var = x.var(dim=-1, keepdim=True, unbiased=False)\n",
        "        norm_x = (x - mean) / torch.sqrt(var + self.eps)\n",
        "        return self.scale * norm_x + self.shift\n",
        "\n",
        "\n",
        "class GELU(nn.Module):\n",
        "    def __init__(self):\n",
        "        super().__init__()\n",
        "\n",
        "    def forward(self, x):\n",
        "        return 0.5 * x * (1 + torch.tanh(\n",
        "            torch.sqrt(torch.tensor(2.0 / torch.pi)) *\n",
        "            (x + 0.044715 * torch.pow(x, 3))\n",
        "        ))\n",
        "\n",
        "\n",
        "class FeedForward(nn.Module):\n",
        "    def __init__(self, cfg):\n",
        "        super().__init__()\n",
        "        self.layers = nn.Sequential(\n",
        "            nn.Linear(cfg[\"emb_dim\"], 4 * cfg[\"emb_dim\"]),\n",
        "            GELU(),\n",
        "            nn.Linear(4 * cfg[\"emb_dim\"], cfg[\"emb_dim\"]),\n",
        "        )\n",
        "\n",
        "    def forward(self, x):\n",
        "        return self.layers(x)\n",
        "\n",
        "\n",
        "class TransformerBlock(nn.Module):\n",
        "    def __init__(self, cfg):\n",
        "        super().__init__()\n",
        "        self.att = MultiHeadAttention(\n",
        "            d_in=cfg[\"emb_dim\"],\n",
        "            d_out=cfg[\"emb_dim\"],\n",
        "            context_length=cfg[\"context_length\"],\n",
        "            num_heads=cfg[\"n_heads\"],\n",
        "            dropout=cfg[\"drop_rate\"],\n",
        "            qkv_bias=cfg[\"qkv_bias\"])\n",
        "        self.ff = FeedForward(cfg)\n",
        "        self.norm1 = LayerNorm(cfg[\"emb_dim\"])\n",
        "        self.norm2 = LayerNorm(cfg[\"emb_dim\"])\n",
        "        self.drop_shortcut = nn.Dropout(cfg[\"drop_rate\"])\n",
        "\n",
        "    def forward(self, x):\n",
        "        # Shortcut connection for attention block\n",
        "        shortcut = x\n",
        "        x = self.norm1(x)\n",
        "        x = self.att(x)  # Shape [batch_size, num_tokens, emb_size]\n",
        "        x = self.drop_shortcut(x)\n",
        "        x = x + shortcut  # Add the original input back\n",
        "\n",
        "        # Shortcut connection for feed forward block\n",
        "        shortcut = x\n",
        "        x = self.norm2(x)\n",
        "        x = self.ff(x)\n",
        "        x = self.drop_shortcut(x)\n",
        "        x = x + shortcut  # Add the original input back\n",
        "\n",
        "        return x"
      ]
    },
    {
      "cell_type": "code",
      "execution_count": null,
      "metadata": {
        "id": "eZBYsh_p_U75"
      },
      "outputs": [],
      "source": [
        "class GPTModel(nn.Module):\n",
        "    def __init__(self, cfg):\n",
        "        super().__init__()\n",
        "        self.tok_emb = nn.Embedding(cfg[\"vocab_size\"], cfg[\"emb_dim\"])\n",
        "        self.pos_emb = nn.Embedding(cfg[\"context_length\"], cfg[\"emb_dim\"])\n",
        "        self.drop_emb = nn.Dropout(cfg[\"drop_rate\"])\n",
        "\n",
        "        self.trf_blocks = nn.Sequential(\n",
        "            *[TransformerBlock(cfg) for _ in range(cfg[\"n_layers\"])])\n",
        "\n",
        "        self.final_norm = LayerNorm(cfg[\"emb_dim\"])\n",
        "        self.out_head = nn.Linear(\n",
        "            cfg[\"emb_dim\"], cfg[\"vocab_size\"], bias=False\n",
        "        )\n",
        "\n",
        "    def forward(self, in_idx):\n",
        "        batch_size, seq_len = in_idx.shape\n",
        "        tok_embeds = self.tok_emb(in_idx)\n",
        "        pos_embeds = self.pos_emb(torch.arange(seq_len, device=in_idx.device))\n",
        "        x = tok_embeds + pos_embeds  # Shape [batch_size, num_tokens, emb_size]\n",
        "        x = self.drop_emb(x)\n",
        "        x = self.trf_blocks(x)\n",
        "        x = self.final_norm(x)\n",
        "        logits = self.out_head(x)\n",
        "        return logits"
      ]
    },
    {
      "cell_type": "markdown",
      "metadata": {
        "id": "uTa8LeJTCw7l"
      },
      "source": [
        "- Using the configuration of the 124M parameter model, we can now instantiate this GPT model with random initial weights as follows:"
      ]
    },
    {
      "cell_type": "code",
      "execution_count": null,
      "metadata": {
        "colab": {
          "base_uri": "https://localhost:8080/"
        },
        "id": "G6scdndSAReb",
        "outputId": "51322f34-3b55-4944-fddc-21e2e1724270"
      },
      "outputs": [
        {
          "name": "stdout",
          "output_type": "stream",
          "text": [
            "tensor([[6109, 3626, 6100,  345],\n",
            "        [6109, 1110, 6622,  257]])\n"
          ]
        }
      ],
      "source": [
        "import torch\n",
        "import tiktoken\n",
        "\n",
        "tokenizer = tiktoken.get_encoding(\"gpt2\")\n",
        "\n",
        "batch = []\n",
        "\n",
        "txt1 = \"Every effort moves you\"\n",
        "txt2 = \"Every day holds a\"\n",
        "\n",
        "batch.append(torch.tensor(tokenizer.encode(txt1)))\n",
        "batch.append(torch.tensor(tokenizer.encode(txt2)))\n",
        "batch = torch.stack(batch, dim=0)\n",
        "print(batch)"
      ]
    },
    {
      "cell_type": "code",
      "execution_count": null,
      "metadata": {
        "colab": {
          "base_uri": "https://localhost:8080/"
        },
        "id": "Z91JB6XCCzB4",
        "outputId": "69887cc6-d8ee-477d-c022-e8dad2687241"
      },
      "outputs": [
        {
          "name": "stdout",
          "output_type": "stream",
          "text": [
            "Input batch:\n",
            " tensor([[6109, 3626, 6100,  345],\n",
            "        [6109, 1110, 6622,  257]])\n",
            "\n",
            "Output shape: torch.Size([2, 4, 50257])\n",
            "tensor([[[ 6.4165e-02,  2.0443e-01, -1.6945e-01,  ...,  1.7887e-01,\n",
            "           2.1921e-01, -5.8153e-01],\n",
            "         [ 3.7736e-01, -4.2545e-01, -6.5874e-01,  ..., -2.5050e-01,\n",
            "           4.6553e-01, -2.5760e-01],\n",
            "         [ 8.8996e-01, -1.3770e-01,  1.4748e-01,  ...,  1.7770e-01,\n",
            "          -1.2015e-01, -1.8902e-01],\n",
            "         [-9.7276e-01,  9.7338e-02, -2.5419e-01,  ...,  1.1035e+00,\n",
            "           3.7639e-01, -5.9006e-01]],\n",
            "\n",
            "        [[ 6.4165e-02,  2.0443e-01, -1.6945e-01,  ...,  1.7887e-01,\n",
            "           2.1921e-01, -5.8153e-01],\n",
            "         [ 1.3433e-01, -2.1289e-01, -2.7020e-02,  ...,  8.1153e-01,\n",
            "          -4.7410e-02,  3.1186e-01],\n",
            "         [ 8.9996e-01,  9.5396e-01, -1.7896e-01,  ...,  8.3053e-01,\n",
            "           2.7657e-01, -2.4577e-02],\n",
            "         [-9.3073e-05,  1.9390e-01,  5.1217e-01,  ...,  1.1915e+00,\n",
            "          -1.6431e-01,  3.7046e-02]]], grad_fn=<UnsafeViewBackward0>)\n"
          ]
        }
      ],
      "source": [
        "torch.manual_seed(123)\n",
        "model = GPTModel(GPT_CONFIG_124M)\n",
        "\n",
        "out = model(batch)\n",
        "print(\"Input batch:\\n\", batch)\n",
        "print(\"\\nOutput shape:\", out.shape)\n",
        "print(out)"
      ]
    },
    {
      "cell_type": "markdown",
      "metadata": {
        "id": "h3_ZvNM2C3HR"
      },
      "source": [
        "- We will train this model in the next part"
      ]
    },
    {
      "cell_type": "markdown",
      "metadata": {
        "id": "a3rbVNypC6ic"
      },
      "source": [
        "## Generating text"
      ]
    },
    {
      "cell_type": "markdown",
      "metadata": {
        "id": "sV9BpfnuC9KW"
      },
      "source": [
        "- LLMs like the GPT model we implemented above are used to generate one word at a time"
      ]
    },
    {
      "cell_type": "markdown",
      "metadata": {
        "id": "JGxR9ii7C_M4"
      },
      "source": [
        "<img src=\"https://drive.google.com/uc?export=view&id=1N-lvGsKV62IfbN3QoE4ZLzniGni8Ncpy\" width=\"500\">"
      ]
    },
    {
      "cell_type": "markdown",
      "metadata": {
        "id": "JzeTlTTODF31"
      },
      "source": [
        "- The following `generate_text_simple` function implements greedy decoding, which is a simple and fast method to generate text\n",
        "- In greedy decoding, at each step, the model chooses the word (or token) with the highest probability as its next output (the highest logit corresponds to the highest probability, so we technically wouldn't even have to compute the softmax function explicitly)\n",
        "- The figure below depicts how the GPT model, given an input context, generates the next word token"
      ]
    },
    {
      "cell_type": "markdown",
      "metadata": {
        "id": "FzbNN3-KDDiq"
      },
      "source": [
        "<img src=\"https://drive.google.com/uc?export=view&id=1Hqs9c1NEQf28wxcV3BUKOcFHXOKNkKOE\" width=\"800\">"
      ]
    },
    {
      "cell_type": "code",
      "execution_count": null,
      "metadata": {
        "id": "jJppjwGrC1lt"
      },
      "outputs": [],
      "source": [
        "def generate_text_simple(model, idx, max_new_tokens, context_size):\n",
        "    # idx is (batch, n_tokens) array of indices in the current context\n",
        "    for _ in range(max_new_tokens):\n",
        "\n",
        "        # Crop current context if it exceeds the supported context size\n",
        "        # E.g., if LLM supports only 5 tokens, and the context size is 10\n",
        "        # then only the last 5 tokens are used as context\n",
        "        idx_cond = idx[:, -context_size:]\n",
        "\n",
        "        # Get the predictions\n",
        "        with torch.no_grad():\n",
        "            logits = model(idx_cond)\n",
        "\n",
        "        # Focus only on the last time step\n",
        "        # (batch, n_tokens, vocab_size) becomes (batch, vocab_size)\n",
        "        logits = logits[:, -1, :]\n",
        "\n",
        "        # Apply softmax to get probabilities\n",
        "        probas = torch.softmax(logits, dim=-1)  # (batch, vocab_size)\n",
        "\n",
        "        # Get the idx of the vocab entry with the highest probability value\n",
        "        idx_next = torch.argmax(probas, dim=-1, keepdim=True)  # (batch, 1)\n",
        "\n",
        "        # Append sampled index to the running sequence\n",
        "        idx = torch.cat((idx, idx_next), dim=1)  # (batch, n_tokens+1)\n",
        "\n",
        "    return idx"
      ]
    },
    {
      "cell_type": "code",
      "execution_count": null,
      "metadata": {
        "colab": {
          "base_uri": "https://localhost:8080/"
        },
        "id": "nB-9aiI4DQT5",
        "outputId": "ca4dba5d-4608-47ee-9e1e-2d35b220cfff"
      },
      "outputs": [
        {
          "name": "stdout",
          "output_type": "stream",
          "text": [
            "encoded: [15496, 11, 314, 716]\n",
            "encoded_tensor.shape: torch.Size([1, 4])\n"
          ]
        }
      ],
      "source": [
        "start_context = \"Hello, I am\"\n",
        "\n",
        "encoded = tokenizer.encode(start_context)\n",
        "print(\"encoded:\", encoded)\n",
        "\n",
        "encoded_tensor = torch.tensor(encoded).unsqueeze(0)\n",
        "print(\"encoded_tensor.shape:\", encoded_tensor.shape)"
      ]
    },
    {
      "cell_type": "code",
      "execution_count": null,
      "metadata": {
        "colab": {
          "base_uri": "https://localhost:8080/"
        },
        "id": "Xbt_DaEADoaL",
        "outputId": "67740391-59c3-4e62-d859-d35ca251d626"
      },
      "outputs": [
        {
          "name": "stdout",
          "output_type": "stream",
          "text": [
            "Output: tensor([[15496,    11,   314,   716, 27018, 24086, 47843, 30961, 42348,  7267]])\n",
            "Output length: 10\n"
          ]
        }
      ],
      "source": [
        "out = generate_text_simple(\n",
        "    model=model,\n",
        "    idx=encoded_tensor,\n",
        "    max_new_tokens=6,\n",
        "    context_size=GPT_CONFIG_124M[\"context_length\"]\n",
        ")\n",
        "\n",
        "print(\"Output:\", out)\n",
        "print(\"Output length:\", len(out[0]))"
      ]
    },
    {
      "cell_type": "code",
      "execution_count": null,
      "metadata": {
        "colab": {
          "base_uri": "https://localhost:8080/"
        },
        "id": "9CKr5YkfDplf",
        "outputId": "7d3172d2-8c9a-49ce-a010-5777f2d5c937"
      },
      "outputs": [
        {
          "name": "stdout",
          "output_type": "stream",
          "text": [
            "Hello, I am Featureiman Byeswickattribute argue\n"
          ]
        }
      ],
      "source": [
        "decoded_text = tokenizer.decode(out.squeeze(0).tolist())\n",
        "print(decoded_text)"
      ]
    },
    {
      "cell_type": "markdown",
      "metadata": {
        "id": "HgxY1eiRDtNv"
      },
      "source": [
        "### Exercise 2: Examine the above result"
      ]
    },
    {
      "cell_type": "markdown",
      "metadata": {
        "id": "WF2g0a9TD9xx"
      },
      "source": [
        "- **As you can see above, after the \"Hello, I am\" prompt, there are some meaningless results. Test with other examples to see if this is always the case. If it is also nonsensical, what could be the reason for this?**"
      ]
    },
    {
      "cell_type": "markdown",
      "metadata": {
        "id": "sstsUJgpEsxw"
      },
      "source": [
        "# Pretraining [[1]](https://www.youtube.com/watch?v=quh7z1q7-uc), [[3]](https://www.deeplearning.ai/short-courses/pretraining-llms/)"
      ]
    },
    {
      "cell_type": "markdown",
      "metadata": {
        "id": "lGPIGmIiqZ1i"
      },
      "source": [
        "Pre-training is the first phase of training on LLM, where the model learns to generate a text by repeatedly predicting the next word. It learns how to do this by using very large amounts of unstructed text data."
      ]
    },
    {
      "cell_type": "markdown",
      "metadata": {
        "id": "Bj_KCeqdtglJ"
      },
      "source": [
        "Let's experience a different among pre-trained models and fine tuned."
      ]
    },
    {
      "cell_type": "markdown",
      "metadata": {
        "id": "_vvIazlJuHLS"
      },
      "source": [
        "### **Generate Python samples with pretrained general model**\n"
      ]
    },
    {
      "cell_type": "markdown",
      "metadata": {
        "id": "XWTogiMK0YWU"
      },
      "source": [
        "- Here we'll be using a model collad TinySolar for our experience. To load this model, we will be using auto model for causal LLM from transformers.\n",
        "\n",
        "- TinySolar-248m-4k is a **small decoder-only model** with 248M parameters (similar in scale to GPT2) and a 4096 token context window.\n",
        "\n",
        "- You'll load the model in three steps:\n",
        "\n",
        "    - Specify the path to the model in the Hugging Face model library\n",
        "    - Load the model using AutoModelforCausalLM in the transformers library\n",
        "    - Load the tokenizer for the model from the same model path"
      ]
    },
    {
      "cell_type": "code",
      "execution_count": null,
      "metadata": {
        "id": "tcuv1BXIExAn"
      },
      "outputs": [],
      "source": [
        "# Set a seed for reproducibility\n",
        "import torch\n",
        "\n",
        "def fix_torch_seed(seed=42):\n",
        "    torch.manual_seed(seed)\n",
        "    torch.cuda.manual_seed(seed)\n",
        "    torch.backends.cudnn.deterministic = True\n",
        "    torch.backends.cudnn.benchmark = False\n",
        "\n",
        "fix_torch_seed()"
      ]
    },
    {
      "cell_type": "code",
      "execution_count": null,
      "metadata": {
        "colab": {
          "base_uri": "https://localhost:8080/",
          "height": 113,
          "referenced_widgets": [
            "ea589fe35ac440f8bbbcaa12886ff96a",
            "5237098fdf514c968050f230330bee7b",
            "6f2dd6c63066428581458dd277a89a79",
            "feae6fa0a4af4976bdf82fe0497d52f9",
            "419af8dc01194e4d97aa1db204d99206",
            "4ce740f47cea46459778af40183b5b39",
            "0a0e0928bdf24053b39306ce21920e91",
            "997570e2b12c46cbb810b3d1bf5f92e8",
            "3d37b37fbc5d43fdaf2a069d092aa8d8",
            "b4c4c7fe239c49929cc2e565f3de6c00",
            "500687cb5c4f40049a1354b3d8347212",
            "93e4a13b6da94d738ae260f25609b03a",
            "7b631c995e244eb8b02c315a2cc2d5e7",
            "a0991a30480149de87f7446363ecc256",
            "c2ec3490fcfa4607954285994fbcfbd8",
            "8ecbab175e6c48fdacc3a715b30d1b2d",
            "ddad8eb7e7eb46ae9258a16a84cd8300",
            "3eacc69a26be4e3f8678de7277f7b1cc",
            "449e3e7d939b4144bfd999b2697a922d",
            "8f9a891ea6954a778c6c3c85ae9400ea",
            "d89a5b617c204dd1ae669308fda01a69",
            "af4963d6b9d14ed692e5161a4b0d2695",
            "52e606035eab40b782f167d08fec039d",
            "ce158e51dc6743868b785c629e1d6371",
            "acbf27cc879f48adb4082265e360acde",
            "bd9d7fdfefd14ffdb1fbccb9d6f9dcd8",
            "437ad27416dc42688c721ccbb0920347",
            "9f5f39f64cca4c77a0fa22434fb65e47",
            "cc81faed6cd44f8596c56e23bbbf37a3",
            "62b6e11a20e9485abf3a27c45f518224",
            "94c1886f40a4405e9ec29eb3374640b5",
            "32c4fd5308cf468d9436ae2749c658cf",
            "399063fd819b402481e3162aaa7529a0"
          ]
        },
        "id": "Gj_AzzhutwB2",
        "outputId": "7449cc70-26e8-4f94-a1f7-9ad4560368dd"
      },
      "outputs": [
        {
          "data": {
            "application/vnd.jupyter.widget-view+json": {
              "model_id": "ea589fe35ac440f8bbbcaa12886ff96a",
              "version_major": 2,
              "version_minor": 0
            },
            "text/plain": [
              "config.json:   0%|          | 0.00/687 [00:00<?, ?B/s]"
            ]
          },
          "metadata": {
            "application/vnd.jupyter.widget-view+json": {
              "colab": {
                "custom_widget_manager": {
                  "url": "https://ssl.gstatic.com/colaboratory-static/widgets/colab-cdn-widget-manager/2b70e893a8ba7c0f/manager.min.js"
                }
              }
            }
          },
          "output_type": "display_data"
        },
        {
          "data": {
            "application/vnd.jupyter.widget-view+json": {
              "model_id": "af4963d6b9d14ed692e5161a4b0d2695",
              "version_major": 2,
              "version_minor": 0
            },
            "text/plain": [
              "model.safetensors:   0%|          | 0.00/496M [00:00<?, ?B/s]"
            ]
          },
          "metadata": {
            "application/vnd.jupyter.widget-view+json": {
              "colab": {
                "custom_widget_manager": {
                  "url": "https://ssl.gstatic.com/colaboratory-static/widgets/colab-cdn-widget-manager/2b70e893a8ba7c0f/manager.min.js"
                }
              }
            }
          },
          "output_type": "display_data"
        },
        {
          "data": {
            "application/vnd.jupyter.widget-view+json": {
              "model_id": "399063fd819b402481e3162aaa7529a0",
              "version_major": 2,
              "version_minor": 0
            },
            "text/plain": [
              "generation_config.json:   0%|          | 0.00/111 [00:00<?, ?B/s]"
            ]
          },
          "metadata": {
            "application/vnd.jupyter.widget-view+json": {
              "colab": {
                "custom_widget_manager": {
                  "url": "https://ssl.gstatic.com/colaboratory-static/widgets/colab-cdn-widget-manager/2b70e893a8ba7c0f/manager.min.js"
                }
              }
            }
          },
          "output_type": "display_data"
        }
      ],
      "source": [
        "from transformers import AutoModelForCausalLM\n",
        "\n",
        "model_path_or_name = 'upstage/TinySolar-248m-4k'  # Adjust this path as per your local setup\n",
        "\n",
        "tiny_general_model = AutoModelForCausalLM.from_pretrained(\n",
        "    model_path_or_name,\n",
        "    device_map=\"cpu\",  # Change to \"auto\" for GPU if available\n",
        "    torch_dtype=torch.bfloat16\n",
        ")"
      ]
    },
    {
      "cell_type": "code",
      "execution_count": null,
      "metadata": {
        "colab": {
          "base_uri": "https://localhost:8080/",
          "height": 145,
          "referenced_widgets": [
            "916345a464c34756ba7ae815f8540bc8",
            "4b10352386d2455ea74b2163a6413eaf",
            "45d8e1575e0845cfade879aca2be9a26",
            "ecad2bb4f01c41f4b5b7f58b473a2e34",
            "8a1d0acb8d634d5aa2211b5b3870cfa7",
            "1943d4c9f95c4aada9643e23091627e6",
            "157cf0543aca4e528c24de5f9e46150d",
            "6fd5e5c7b7df470a963cb06ff50ea221",
            "95f17f734cb344e886dd0ed69ce19c65",
            "c371139aae3644eab9e7fc47e0610521",
            "74a9eb684b094a2c8473787ebbfbc656",
            "54982052e1e84ee5bc8f74b5cdda62f5",
            "78de3a26cd3b4e8a83ac2fd6fad670a6",
            "6ca828e9a66445c4b00ed58bbc2f4a72",
            "98c5dc61dd2d49d18dc004a12b8ad404",
            "ce9e36a6c8f34b59a8eb0e9a5d8b2ca4",
            "014e3e7ec8c547b88cdd7c070aa3863d",
            "5b039e4d5d534d17b58d53246743eb4a",
            "37242a7e68ef4f6e90ca2a022c0ade6a",
            "fe963150fcd84258966e7193f17b4249",
            "4c9713b2452c49c4b5fc6979b179fa0d",
            "0d930f4785ad4a588210921f0198f5be",
            "74b13f99530742168d2436079d0a3f81",
            "611506548d154d819ab6c7f9c0e0dea4",
            "0d3c7a0a351f4250b9bd422b1943eb6b",
            "2f94d65d8f8a49599d0c23f9caa342d3",
            "31431ba1f7d74b5c80a9ca5b137f5d59",
            "2857caf7c6ce4bf58a634050741107d5",
            "ff160a9bf6c14b859ff0c5d01c8adc1d",
            "f3be3ac885a74ec59f8c53a76a052d89",
            "48fa62f78e034f6095e3167af51150e0",
            "e6b5b8439dd24aa5b6d58f5331ecfa5a",
            "323dffde90834e5ea2e1fab628b5b4ab",
            "42da3061bd094cc1893e188a643d9da2",
            "d8e016547e924a1db5934db3b07a7657",
            "90cbaf4f0b464a58996c8f22f9b60d23",
            "a97676b87bc04bf4be236843b5a8298e",
            "977ab5e11fa548c98e3a36b555a7071e",
            "35c30653ccb446cb81d5463b759cc075",
            "07354cd832c84e79b6c3fe64b0b95ab9",
            "44baf6f301bd4a5eb1032d7fb943883a",
            "d568756213da4359aa72cc06176d3c38",
            "7cab87de21c34cec96b9dae131671761",
            "4db024ca06584b72b35db5dc64a2c453"
          ]
        },
        "id": "N2mHL5n0tv7_",
        "outputId": "64382df5-c7df-4086-c0a0-dafba4237cb7"
      },
      "outputs": [
        {
          "data": {
            "application/vnd.jupyter.widget-view+json": {
              "model_id": "916345a464c34756ba7ae815f8540bc8",
              "version_major": 2,
              "version_minor": 0
            },
            "text/plain": [
              "tokenizer_config.json:   0%|          | 0.00/966 [00:00<?, ?B/s]"
            ]
          },
          "metadata": {
            "application/vnd.jupyter.widget-view+json": {
              "colab": {
                "custom_widget_manager": {
                  "url": "https://ssl.gstatic.com/colaboratory-static/widgets/colab-cdn-widget-manager/2b70e893a8ba7c0f/manager.min.js"
                }
              }
            }
          },
          "output_type": "display_data"
        },
        {
          "data": {
            "application/vnd.jupyter.widget-view+json": {
              "model_id": "0d930f4785ad4a588210921f0198f5be",
              "version_major": 2,
              "version_minor": 0
            },
            "text/plain": [
              "tokenizer.model:   0%|          | 0.00/493k [00:00<?, ?B/s]"
            ]
          },
          "metadata": {
            "application/vnd.jupyter.widget-view+json": {
              "colab": {
                "custom_widget_manager": {
                  "url": "https://ssl.gstatic.com/colaboratory-static/widgets/colab-cdn-widget-manager/2b70e893a8ba7c0f/manager.min.js"
                }
              }
            }
          },
          "output_type": "display_data"
        },
        {
          "data": {
            "application/vnd.jupyter.widget-view+json": {
              "model_id": "323dffde90834e5ea2e1fab628b5b4ab",
              "version_major": 2,
              "version_minor": 0
            },
            "text/plain": [
              "tokenizer.json:   0%|          | 0.00/1.80M [00:00<?, ?B/s]"
            ]
          },
          "metadata": {
            "application/vnd.jupyter.widget-view+json": {
              "colab": {
                "custom_widget_manager": {
                  "url": "https://ssl.gstatic.com/colaboratory-static/widgets/colab-cdn-widget-manager/2b70e893a8ba7c0f/manager.min.js"
                }
              }
            }
          },
          "output_type": "display_data"
        },
        {
          "data": {
            "application/vnd.jupyter.widget-view+json": {
              "model_id": "4db024ca06584b72b35db5dc64a2c453",
              "version_major": 2,
              "version_minor": 0
            },
            "text/plain": [
              "special_tokens_map.json:   0%|          | 0.00/414 [00:00<?, ?B/s]"
            ]
          },
          "metadata": {
            "application/vnd.jupyter.widget-view+json": {
              "colab": {
                "custom_widget_manager": {
                  "url": "https://ssl.gstatic.com/colaboratory-static/widgets/colab-cdn-widget-manager/2b70e893a8ba7c0f/manager.min.js"
                }
              }
            }
          },
          "output_type": "display_data"
        }
      ],
      "source": [
        "from transformers import AutoTokenizer\n",
        "tiny_general_tokenizer = AutoTokenizer.from_pretrained(\n",
        "    model_path_or_name\n",
        ")"
      ]
    },
    {
      "cell_type": "code",
      "execution_count": null,
      "metadata": {
        "id": "txWHvzbJwApc"
      },
      "outputs": [],
      "source": [
        "from transformers import TextStreamer\n",
        "streamer = TextStreamer(\n",
        "    tiny_general_tokenizer,\n",
        "    skip_prompt=True, # If you set to false, the model will first return the prompt and then the generated text\n",
        "    skip_special_tokens=True\n",
        ")"
      ]
    },
    {
      "cell_type": "markdown",
      "metadata": {
        "id": "Ks96K5kQw33r"
      },
      "source": [
        "Use the model to write a python function called `find_max()` that finds the maximum value in a list of numbers:"
      ]
    },
    {
      "cell_type": "code",
      "execution_count": null,
      "metadata": {
        "colab": {
          "base_uri": "https://localhost:8080/"
        },
        "id": "ySWUPIjWtvq1",
        "outputId": "84869d9e-b999-40b6-e09b-0bbd9161651e"
      },
      "outputs": [
        {
          "name": "stderr",
          "output_type": "stream",
          "text": [
            "Setting `pad_token_id` to `eos_token_id`:2 for open-end generation.\n"
          ]
        },
        {
          "name": "stdout",
          "output_type": "stream",
          "text": [
            "\n",
            "   \"\"\"\n",
            "   Returns the number of times a user has been added to the list.\n",
            "   \"\"\"\n",
            "   num = len(list)\n",
            "   if len(list[0]) > 1:\n",
            "       return int(len(list))\n",
            "   else:\n",
            "       return int(len(list))\n",
            "\n",
            "\n",
            "def get_user_id(user_id, user_name):\n",
            "   \"\"\"\n",
            "   Returns the user id for this user.\n",
            "   \"\"\"\n",
            "   return user_id\n",
            "\n",
            "\n",
            "def get_user_id_from_user(user_id, user_name):\n",
            "\n"
          ]
        }
      ],
      "source": [
        "prompt =  \"def find_max(numbers):\"\n",
        "\n",
        "inputs = tiny_general_tokenizer(prompt, return_tensors=\"pt\")\n",
        "\n",
        "inputs = tiny_general_tokenizer(\n",
        "    prompt, return_tensors=\"pt\"\n",
        ").to(tiny_general_model.device)\n",
        "\n",
        "streamer = TextStreamer(\n",
        "    tiny_general_tokenizer,\n",
        "    skip_prompt=True, # Set to false to include the prompt in the output\n",
        "    skip_special_tokens=True\n",
        ")\n",
        "\n",
        "outputs = tiny_general_model.generate(\n",
        "    **inputs,\n",
        "    streamer=streamer,\n",
        "    use_cache=True,\n",
        "    max_new_tokens=128,\n",
        "    do_sample=False,\n",
        "    temperature=0.0,\n",
        "    repetition_penalty=1.1\n",
        ")"
      ]
    },
    {
      "cell_type": "markdown",
      "metadata": {
        "id": "fJQJhhHcxyPU"
      },
      "source": [
        "Seems like Python code at a glimpse, but if you look closely, the result is just random. So there are commoents here and a return format, but there are no calculations inside.  \n",
        "\n",
        "- Let's run the code given by this model and see what happens."
      ]
    },
    {
      "cell_type": "code",
      "execution_count": null,
      "metadata": {
        "colab": {
          "base_uri": "https://localhost:8080/",
          "height": 124
        },
        "id": "AnILNMUZyVJM",
        "outputId": "f549aad4-79d2-456f-b648-0518d7e16b6e"
      },
      "outputs": [
        {
          "ename": "IndentationError",
          "evalue": "unexpected indent (<ipython-input-1-97b94f0ce8ba>, line 5)",
          "output_type": "error",
          "traceback": [
            "\u001b[0;36m  File \u001b[0;32m\"<ipython-input-1-97b94f0ce8ba>\"\u001b[0;36m, line \u001b[0;32m5\u001b[0m\n\u001b[0;31m    if len(list[0]) > 1:\u001b[0m\n\u001b[0m    ^\u001b[0m\n\u001b[0;31mIndentationError\u001b[0m\u001b[0;31m:\u001b[0m unexpected indent\n"
          ]
        }
      ],
      "source": [
        "numbers = [0, 100, -50, 46, 124, 4, 53]\n",
        "\n",
        "def find_max(numbers):\n",
        "  num = len(list)\n",
        "   if len(list[0]) > 1:\n",
        "       return int(len(list))\n",
        "   else:\n",
        "       return int(len(list))\n",
        "\n",
        "find_max(numbers)"
      ]
    },
    {
      "cell_type": "markdown",
      "metadata": {
        "id": "Rtq_52DZy77O"
      },
      "source": [
        "- Let's try a new model. Here you'll use a version of TinySolar-248m-4k that has been further pretrained **(a process called continued pretraining)** on a large selection of python code samples.\n",
        "- The main difference with the previous model is that the data set is at least 100 times bigger\n",
        "\n",
        "\n"
      ]
    },
    {
      "cell_type": "code",
      "execution_count": null,
      "metadata": {
        "colab": {
          "base_uri": "https://localhost:8080/",
          "height": 113,
          "referenced_widgets": [
            "0f8785bcd326446abd2fcb325bc27665",
            "89d106f463a3494dbb87e29ed21113c7",
            "45763aa6594849cd84238643b6e4ccd6",
            "f44b0adf10da431cbadcb24b8f4ed9ef",
            "eba539fb01f04669b2804b6700dbdc1e",
            "1396da3d20584f98969d871dc1e106d9",
            "f102897934f54c5ebaa4a3577d524f88",
            "5d3bb1f5b5224e90a69c5c33607ccd43",
            "3241ec0dfeef4574a19590bb0742a4fc",
            "4d76079e7f9842efaa53779315138fcf",
            "9e871c1747034d5dab0d11907df7364d",
            "707cda2254f847dab875597a0f1cc729",
            "89d9561235f34c8d9bc5d27d562d31c7",
            "dea1d2192ab84e4b87360c9c83324d16",
            "799fa6a283b34de488963af35a0f7706",
            "7f89fae5ab7c4b84802a42f9f8ebfa24",
            "e054fc22f3b64330a863d0470e4a6085",
            "9deebfefd0af47ff89738f6f0cf07a8c",
            "4860f2a6ccba40db865000ca3857702a",
            "e83206ac6a6842cdb43c1ceeb4abc976",
            "ed212b3b70ad4aa4a432628406b231be",
            "5d9512a775484ff4a8042cb65fc88a83",
            "dcfef85326cc4c869c420c8aca331d51",
            "eebaefe55eaa42d99e11ce8db624aebb",
            "5aa77b75eba54b919299f33e44aecfeb",
            "1b750616cffc4b1a97417c239e036b61",
            "dbce45180a1f45c1b110349787f5adc1",
            "9910e99763ec420d91de1ca07cadaf32",
            "5d2dcff9990240f89da2d24cdcd86bed",
            "b02d1c2cea3f44f49e7e0ef5eb7c25ee",
            "bdd87899063a42b9b20b817e36d29066",
            "198e544f642540d898637c1ffec9d92b",
            "32060ab50e2047dc8ac7b3cf58acdf58"
          ]
        },
        "id": "bKsgXRBlvxXY",
        "outputId": "c5fe7f65-98d8-4faf-fc3f-94cf89b4dd16"
      },
      "outputs": [
        {
          "data": {
            "application/vnd.jupyter.widget-view+json": {
              "model_id": "0f8785bcd326446abd2fcb325bc27665",
              "version_major": 2,
              "version_minor": 0
            },
            "text/plain": [
              "config.json:   0%|          | 0.00/639 [00:00<?, ?B/s]"
            ]
          },
          "metadata": {},
          "output_type": "display_data"
        },
        {
          "data": {
            "application/vnd.jupyter.widget-view+json": {
              "model_id": "707cda2254f847dab875597a0f1cc729",
              "version_major": 2,
              "version_minor": 0
            },
            "text/plain": [
              "model.safetensors:   0%|          | 0.00/496M [00:00<?, ?B/s]"
            ]
          },
          "metadata": {},
          "output_type": "display_data"
        },
        {
          "data": {
            "application/vnd.jupyter.widget-view+json": {
              "model_id": "dcfef85326cc4c869c420c8aca331d51",
              "version_major": 2,
              "version_minor": 0
            },
            "text/plain": [
              "generation_config.json:   0%|          | 0.00/111 [00:00<?, ?B/s]"
            ]
          },
          "metadata": {},
          "output_type": "display_data"
        }
      ],
      "source": [
        "model_path_or_name = 'upstage/TinySolar-248m-4k-py'  # Adjust this path as per your local setup\n",
        "\n",
        "tiny_general_model = AutoModelForCausalLM.from_pretrained(\n",
        "    model_path_or_name,\n",
        "    device_map=\"cpu\",  # Change to \"auto\" for GPU if available\n",
        "    torch_dtype=torch.bfloat16\n",
        ")\n",
        "\n",
        "streamer = TextStreamer(\n",
        "    tiny_general_tokenizer,\n",
        "    skip_prompt=True, # If you set to false, the model will first return the prompt and then the generated text\n",
        "    skip_special_tokens=True\n",
        ")"
      ]
    },
    {
      "cell_type": "code",
      "execution_count": null,
      "metadata": {
        "colab": {
          "base_uri": "https://localhost:8080/"
        },
        "id": "W3Q016FWwTFG",
        "outputId": "ac3771dc-c060-4720-a563-af230dd0aacd"
      },
      "outputs": [
        {
          "name": "stderr",
          "output_type": "stream",
          "text": [
            "/usr/local/lib/python3.11/dist-packages/transformers/generation/configuration_utils.py:631: UserWarning: `do_sample` is set to `False`. However, `temperature` is set to `0.0` -- this flag is only used in sample-based generation modes. You should set `do_sample=True` or unset `temperature`.\n",
            "  warnings.warn(\n",
            "Setting `pad_token_id` to `eos_token_id`:2 for open-end generation.\n"
          ]
        },
        {
          "name": "stdout",
          "output_type": "stream",
          "text": [
            "\n",
            "   \"\"\"Find the maximum number of numbers in a list.\"\"\"\n",
            "   max = 0\n",
            "   for num in numbers:\n",
            "       if num > max:\n",
            "           max = num\n",
            "   return max\n",
            "\n",
            "\n",
            "def get_min_max(numbers, min_value=1):\n",
            "   \"\"\"Get the minimum value of a list.\"\"\"\n",
            "   min_value = min_value or 1\n",
            "   for num in numbers:\n",
            "       if num < min_value:\n",
            "           min_value = num\n",
            "   return min_value\n",
            "\n"
          ]
        }
      ],
      "source": [
        "prompt =  \"def find_max(numbers):\"\n",
        "\n",
        "inputs = tiny_general_tokenizer(prompt, return_tensors=\"pt\")\n",
        "\n",
        "inputs = tiny_general_tokenizer(\n",
        "    prompt, return_tensors=\"pt\"\n",
        ").to(tiny_general_model.device)\n",
        "\n",
        "streamer = TextStreamer(\n",
        "    tiny_general_tokenizer,\n",
        "    skip_prompt=True, # Set to false to include the prompt in the output\n",
        "    skip_special_tokens=True\n",
        ")\n",
        "\n",
        "outputs = tiny_general_model.generate(\n",
        "    **inputs,\n",
        "    streamer=streamer,\n",
        "    use_cache=True,\n",
        "    max_new_tokens=128,\n",
        "    do_sample=False,\n",
        "    temperature=0.0,\n",
        "    repetition_penalty=1.1\n",
        ")"
      ]
    },
    {
      "cell_type": "code",
      "execution_count": null,
      "metadata": {
        "colab": {
          "base_uri": "https://localhost:8080/"
        },
        "id": "mltn_KRLxqvk",
        "outputId": "e8666535-efde-4020-b0f4-3789aa6f0aaa"
      },
      "outputs": [
        {
          "data": {
            "text/plain": [
              "124"
            ]
          },
          "execution_count": 43,
          "metadata": {},
          "output_type": "execute_result"
        }
      ],
      "source": [
        "numbers = [0, 100, -50, 46, 124, 4, 53]\n",
        "\n",
        "def find_max(numbers):\n",
        "   max = 0\n",
        "   for num in numbers:\n",
        "       if num > max:\n",
        "           max = num\n",
        "   return max\n",
        "\n",
        "find_max(numbers)"
      ]
    },
    {
      "cell_type": "markdown",
      "metadata": {
        "id": "GmFI2sRe0D4U"
      },
      "source": [
        "- The function finally makes sense"
      ]
    },
    {
      "cell_type": "markdown",
      "metadata": {
        "id": "-R7Metd20vYQ"
      },
      "source": [
        "### Let's focus on our GPT-2 Model"
      ]
    },
    {
      "cell_type": "markdown",
      "metadata": {
        "id": "NIsbxlibnJz7"
      },
      "source": [
        "- In the previous section, we saw the importance of pretraining. Now, let's train the GPT-2 model we worked on earlier using our own dataset and observe the results."
      ]
    },
    {
      "cell_type": "markdown",
      "metadata": {
        "id": "LkNRHsgX053L"
      },
      "source": [
        "<img src=\"https://drive.google.com/uc?export=view&id=1uRPjMiN1N-VyX-FHngnSZADI7wRURvgx\" width=\"800\">"
      ]
    },
    {
      "cell_type": "markdown",
      "metadata": {
        "id": "ossNtrVCkFnQ"
      },
      "source": [
        "**Training GPT-2 small model from scratch in Hugging Face (with Pytorch backend)**\n",
        "\n",
        "- Let us train a GPT-2 (small,124 million parameters) model from scratch using the Hugging Face library.\n",
        "- Instead of using WebText dataset (due to limited computing resources). Here we will use the verdict.txt dataset that we used before."
      ]
    },
    {
      "cell_type": "code",
      "execution_count": null,
      "metadata": {
        "colab": {
          "base_uri": "https://localhost:8080/"
        },
        "id": "ylx9voL9Vgim",
        "outputId": "8eba3567-4ed6-4fc5-975d-c3ae9174ab48"
      },
      "outputs": [
        {
          "name": "stdout",
          "output_type": "stream",
          "text": [
            "--2025-04-23 07:13:05--  https://raw.githubusercontent.com/rasbt/LLMs-from-scratch/main/ch02/01_main-chapter-code/the-verdict.txt\n",
            "Resolving raw.githubusercontent.com (raw.githubusercontent.com)... 185.199.109.133, 185.199.108.133, 185.199.111.133, ...\n",
            "Connecting to raw.githubusercontent.com (raw.githubusercontent.com)|185.199.109.133|:443... connected.\n",
            "HTTP request sent, awaiting response... 200 OK\n",
            "Length: 20479 (20K) [text/plain]\n",
            "Saving to: ‘verdict.txt’\n",
            "\n",
            "\r",
            "verdict.txt           0%[                    ]       0  --.-KB/s               \r",
            "verdict.txt         100%[===================>]  20.00K  --.-KB/s    in 0.001s  \n",
            "\n",
            "2025-04-23 07:13:06 (28.9 MB/s) - ‘verdict.txt’ saved [20479/20479]\n",
            "\n"
          ]
        }
      ],
      "source": [
        "!wget https://raw.githubusercontent.com/rasbt/LLMs-from-scratch/main/ch02/01_main-chapter-code/the-verdict.txt \\\n",
        "     -O verdict.txt"
      ]
    },
    {
      "cell_type": "code",
      "execution_count": null,
      "metadata": {
        "collapsed": true,
        "id": "fo5U_JrmVAaH"
      },
      "outputs": [],
      "source": [
        "%%capture\n",
        "!pip install datasets"
      ]
    },
    {
      "cell_type": "code",
      "execution_count": null,
      "metadata": {
        "cellView": "form",
        "id": "R0zbuUQUbG2u"
      },
      "outputs": [],
      "source": [
        "#@title Code to avoid unnecessary output\n",
        "import os\n",
        "import warnings\n",
        "import logging\n",
        "from transformers import logging as hf_logging\n",
        "\n",
        "# 1) Set environment variables to silence various logs\n",
        "os.environ[\"TRANSFORMERS_VERBOSITY\"] = \"error\"           # show only error messages from Transformers\n",
        "os.environ[\"TRANSFORMERS_NO_ADVISORY_WARNINGS\"] = \"1\"    # disable advisory warnings\n",
        "os.environ[\"TQDM_DISABLE\"] = \"1\"                          # disable tqdm progress bars globally\n",
        "\n",
        "# 2) Suppress all warnings from Python\n",
        "warnings.filterwarnings(\"ignore\")\n",
        "\n",
        "# 3) Set Hugging Face Transformers logging level to ERROR\n",
        "logging.getLogger().setLevel(logging.ERROR)\n",
        "hf_logging.set_verbosity_error()                          # suppress internal logging from Transformers\n",
        "hf_logging.disable_progress_bar()                         # disable download/progress bars\n",
        "\n",
        "# 4) Set Hugging Face Hub logs to ERROR level as well\n",
        "logging.getLogger(\"huggingface_hub\").setLevel(logging.ERROR)"
      ]
    },
    {
      "cell_type": "markdown",
      "metadata": {
        "id": "Q_K5hgnEolUi"
      },
      "source": [
        "### Using GPT to generate text"
      ]
    },
    {
      "cell_type": "markdown",
      "metadata": {
        "id": "fEI0ICMDon6p"
      },
      "source": [
        "- We initialize a GPT model using HuggingFace"
      ]
    },
    {
      "cell_type": "code",
      "execution_count": null,
      "metadata": {
        "id": "RwRG9WHUkcN7"
      },
      "outputs": [],
      "source": [
        "from transformers import GPT2Config, GPT2LMHeadModel, GPT2Tokenizer\n",
        "\n",
        "GPT_CONFIG_124M = {\n",
        "    \"vocab_size\": 50257,        # Vocabulary size\n",
        "    \"n_positions\": 256,         # context_length\n",
        "    \"n_embd\": 768,              # Embedding dimension\n",
        "    \"n_head\": 12,               # Number of attention heads\n",
        "    \"n_layer\": 12,              # Number of layers\n",
        "    \"attn_pdrop\": 0.1,          # Dropout rate\n",
        "    \"resid_pdrop\": 0.1,\n",
        "    \"embd_pdrop\": 0.1,\n",
        "    \"add_cross_attention\": False,\n",
        "    \"use_cache\": True\n",
        "}\n",
        "\n",
        "config = GPT2Config(**GPT_CONFIG_124M)\n",
        "model = GPT2LMHeadModel(config) # define the model"
      ]
    },
    {
      "cell_type": "markdown",
      "metadata": {
        "id": "t55qglGBloB9"
      },
      "source": [
        "- We use dropout of 0.1 above, but it's relatively common to train LLMs without dropout nowadays\n",
        "- We reduce the context length (`context_length`) of only 256 tokens to reduce the computational resource requirements for training the model, whereas the original 124 million parameter GPT-2 model used 1024 tokens"
      ]
    },
    {
      "cell_type": "markdown",
      "metadata": {
        "id": "0EFFSjiGoxM1"
      },
      "source": [
        "<img src=\"https://drive.google.com/uc?export=view&id=1gc7zErdEdT1GYNdiUlag9od_u4WmrQlk\" width=\"800\">"
      ]
    },
    {
      "cell_type": "code",
      "execution_count": null,
      "metadata": {
        "colab": {
          "base_uri": "https://localhost:8080/"
        },
        "id": "g_SEUzZrnvpZ",
        "outputId": "df56da0d-fac8-4a73-e881-f5641197771b"
      },
      "outputs": [
        {
          "name": "stdout",
          "output_type": "stream",
          "text": [
            "Output text:\n",
            " Every effort moves you nutrit nutrit nutritOutOutOutOutOut z z\n"
          ]
        }
      ],
      "source": [
        "torch.manual_seed(42)\n",
        "# .Tokenizer\n",
        "tokenizer = GPT2Tokenizer.from_pretrained(\"gpt2\")\n",
        "tokenizer.model_max_length = GPT_CONFIG_124M[\"n_positions\"]\n",
        "\n",
        "# Input-output conversion functions\n",
        "def text_to_token_ids(text, tokenizer):\n",
        "    encoded = tokenizer.encode(text, return_tensors=\"pt\")\n",
        "    return encoded\n",
        "\n",
        "def token_ids_to_text(token_ids, tokenizer):\n",
        "    return tokenizer.decode(token_ids[0], skip_special_tokens=True)\n",
        "\n",
        "# Simple text generation function\n",
        "def generate_text_simple(model, idx, max_new_tokens=10, context_size=256):\n",
        "    model.eval()\n",
        "    with torch.no_grad():\n",
        "        for _ in range(max_new_tokens):\n",
        "            idx_cond = idx[:, -context_size:]\n",
        "            logits = model(idx_cond).logits\n",
        "            next_token_logits = logits[:, -1, :]\n",
        "            probs = torch.nn.functional.softmax(next_token_logits, dim=-1)\n",
        "            next_token = torch.argmax(probs, dim=-1).unsqueeze(0)\n",
        "            idx = torch.cat([idx, next_token], dim=1)\n",
        "    return idx\n",
        "\n",
        "# Usage\n",
        "start_context = \"Every effort moves you\"\n",
        "token_ids = generate_text_simple(\n",
        "    model=model,\n",
        "    idx=text_to_token_ids(start_context, tokenizer),\n",
        "    max_new_tokens=10,\n",
        "    context_size=GPT_CONFIG_124M[\"n_positions\"]\n",
        ")\n",
        "\n",
        "# Result\n",
        "print(\"Output text:\\n\", token_ids_to_text(token_ids, tokenizer))"
      ]
    },
    {
      "cell_type": "markdown",
      "metadata": {
        "id": "H56RLA89oOev"
      },
      "source": [
        "- As we can see above, the model does not produce good text because it has not been trained yet"
      ]
    },
    {
      "cell_type": "markdown",
      "metadata": {
        "id": "6ihTOj5Qo1u4"
      },
      "source": [
        "### Training an LLM"
      ]
    },
    {
      "cell_type": "markdown",
      "metadata": {
        "id": "_SP7WcH3o7vq"
      },
      "source": [
        "- **Preparing the dataset loaders**"
      ]
    },
    {
      "cell_type": "code",
      "execution_count": null,
      "metadata": {
        "colab": {
          "base_uri": "https://localhost:8080/",
          "height": 49,
          "referenced_widgets": [
            "94c3263e9f004b498ebd3281d8e920fa",
            "5fb5bba591324b1d901f2fa6ba433537",
            "b99508cdc24546f2af5d14a1efef7b3d",
            "7d5482d6ae604719a8878b911eb25aa1",
            "c20ae1b419df4436ab4dc5cc8ef31034",
            "ec5ec96509714659ac33aab2230b6e43",
            "8fd14044b8fe49138aa3b48479b4d29f",
            "ba7b86b365b9489e8e07345c79cdc620",
            "dfd3fbff6f86417fb291610d0eba55cd",
            "f35dd06a6abf4e52a5424ead1de31d1a",
            "d5e6f4a9fa0a472b810482bb6f253b22"
          ]
        },
        "id": "Nlv0rLFoSBq5",
        "outputId": "c5244b0a-cfc7-4452-da33-1128bcfef866"
      },
      "outputs": [
        {
          "data": {
            "application/vnd.jupyter.widget-view+json": {
              "model_id": "94c3263e9f004b498ebd3281d8e920fa",
              "version_major": 2,
              "version_minor": 0
            },
            "text/plain": [
              "Generating train split: 0 examples [00:00, ? examples/s]"
            ]
          },
          "metadata": {
            "application/vnd.jupyter.widget-view+json": {
              "colab": {
                "custom_widget_manager": {
                  "url": "https://ssl.gstatic.com/colaboratory-static/widgets/colab-cdn-widget-manager/2b70e893a8ba7c0f/manager.min.js"
                }
              }
            }
          },
          "output_type": "display_data"
        }
      ],
      "source": [
        "from datasets import load_dataset\n",
        "\n",
        "# 'data.txt' is loaded such that each line is treated as a separate training example\n",
        "raw_ds = load_dataset(\"text\", data_files={\"train\": \"verdict.txt\"})[\"train\"]"
      ]
    },
    {
      "cell_type": "code",
      "execution_count": null,
      "metadata": {
        "id": "60y5kkcZTK3t"
      },
      "outputs": [],
      "source": [
        "# %10 for validation\n",
        "splits = raw_ds.train_test_split(test_size=0.1, seed=42)\n",
        "train_ds = splits[\"train\"]\n",
        "val_ds   = splits[\"test\"]"
      ]
    },
    {
      "cell_type": "code",
      "execution_count": null,
      "metadata": {
        "id": "opiJNOYgTkE2"
      },
      "outputs": [],
      "source": [
        "from datasets import DatasetDict\n",
        "\n",
        "# First, split the dataset into 80% training and 20% (dev + test)\n",
        "tmp = raw_ds.train_test_split(test_size=0.2, seed=42)\n",
        "\n",
        "# Then, split the remaining 20% into 10% validation and 10% test\n",
        "dev_test = tmp[\"test\"].train_test_split(test_size=0.5, seed=42)\n",
        "\n",
        "# Construct the final dataset dictionary\n",
        "ds = DatasetDict({\n",
        "    \"train\": tmp[\"train\"],\n",
        "    \"validation\": dev_test[\"train\"],\n",
        "    \"test\": dev_test[\"test\"]\n",
        "})"
      ]
    },
    {
      "cell_type": "code",
      "execution_count": null,
      "metadata": {
        "id": "V_Yz_HquUPUA"
      },
      "outputs": [],
      "source": [
        "from transformers import AutoTokenizer, AutoModelForCausalLM, Trainer, TrainingArguments\n",
        "\n",
        "tokenizer = AutoTokenizer.from_pretrained(\"gpt2\")\n",
        "tokenizer.pad_token = tokenizer.eos_token\n",
        "\n",
        "def tokenize(examples):\n",
        "    tok = tokenizer(examples[\"text\"], truncation=True, padding=\"max_length\", max_length=128)\n",
        "    tok[\"labels\"] = tok[\"input_ids\"].copy()\n",
        "    return tok"
      ]
    },
    {
      "cell_type": "code",
      "execution_count": null,
      "metadata": {
        "colab": {
          "base_uri": "https://localhost:8080/",
          "height": 81,
          "referenced_widgets": [
            "6d2037f873e24ad18797212e4beedb3c",
            "36703958a0664345be2b06b9590086d4",
            "2cca84e5a2244deda0a2e848c92695f8",
            "e8abdb8b6e19407d98326133d9efc16e",
            "1b619cf6bfbb4821917c9c7c5ed43dc7",
            "1f42b33a3eae4d76afedeec3685497af",
            "eb29c66c14604a2fbc5119dcc1e5ca25",
            "262e906b99f3486e9a7228e7df9109a9",
            "d4ecd07c1ece4828a1c428d4c2427248",
            "df849c78a2e148078f5e751a870ba589",
            "772d492526434bc39ebfed41d959df22",
            "a640092d5ed746e8957b2dd60b76f937",
            "c3b6d71a73ec40c4a0cfb5a1dd543607",
            "fe78c24264cf48f1b3befdbf0fd9547d",
            "c7dce2c65a494424a85321a9052e5c17",
            "915290cd2a5e46e8aba3600754bfa8d5",
            "2415df8ef65e474ebd5b25f96b6b1565",
            "4bcf52bb89154535b310e0e7f9b63102",
            "052af3e6e3194c37af49660a763ce735",
            "3208a43cf9f24f1e9b3ac4d88c8d1626",
            "24fd047eeb934528ba4c70ff141646eb",
            "6bd86b8c65af4b21acba4e9dc866ac51"
          ]
        },
        "id": "R5zHlELDURBv",
        "outputId": "7e931f7b-4101-489e-f032-d22ea8499844"
      },
      "outputs": [
        {
          "data": {
            "application/vnd.jupyter.widget-view+json": {
              "model_id": "6d2037f873e24ad18797212e4beedb3c",
              "version_major": 2,
              "version_minor": 0
            },
            "text/plain": [
              "Map:   0%|          | 0/148 [00:00<?, ? examples/s]"
            ]
          },
          "metadata": {
            "application/vnd.jupyter.widget-view+json": {
              "colab": {
                "custom_widget_manager": {
                  "url": "https://ssl.gstatic.com/colaboratory-static/widgets/colab-cdn-widget-manager/2b70e893a8ba7c0f/manager.min.js"
                }
              }
            }
          },
          "output_type": "display_data"
        },
        {
          "data": {
            "application/vnd.jupyter.widget-view+json": {
              "model_id": "6bd86b8c65af4b21acba4e9dc866ac51",
              "version_major": 2,
              "version_minor": 0
            },
            "text/plain": [
              "Map:   0%|          | 0/17 [00:00<?, ? examples/s]"
            ]
          },
          "metadata": {
            "application/vnd.jupyter.widget-view+json": {
              "colab": {
                "custom_widget_manager": {
                  "url": "https://ssl.gstatic.com/colaboratory-static/widgets/colab-cdn-widget-manager/2b70e893a8ba7c0f/manager.min.js"
                }
              }
            }
          },
          "output_type": "display_data"
        }
      ],
      "source": [
        "# Map tokenization\n",
        "train_tok = train_ds.map(tokenize, batched=True)\n",
        "val_tok   = val_ds.map(tokenize, batched=True)"
      ]
    },
    {
      "cell_type": "code",
      "execution_count": null,
      "metadata": {
        "colab": {
          "base_uri": "https://localhost:8080/",
          "height": 1000
        },
        "id": "R6av92P1TNHI",
        "outputId": "30f99787-a659-4395-d227-6fb49b6bf90a"
      },
      "outputs": [
        {
          "name": "stderr",
          "output_type": "stream",
          "text": [
            "***** Running training *****\n",
            "  Num examples = 148\n",
            "  Num Epochs = 10\n",
            "  Instantaneous batch size per device = 4\n",
            "  Total train batch size (w. parallel, distributed & accumulation) = 4\n",
            "  Gradient Accumulation steps = 1\n",
            "  Total optimization steps = 370\n",
            "  Number of trainable parameters = 123,849,984\n",
            "The following columns in the training set don't have a corresponding argument in `GPT2LMHeadModel.forward` and have been ignored: text. If text are not expected by `GPT2LMHeadModel.forward`,  you can safely ignore this message.\n",
            "`loss_type=None` was set in the config but it is unrecognised.Using the default loss: `ForCausalLMLoss`.\n"
          ]
        },
        {
          "data": {
            "text/html": [
              "\n",
              "    <div>\n",
              "      \n",
              "      <progress value='370' max='370' style='width:300px; height:20px; vertical-align: middle;'></progress>\n",
              "      [370/370 01:05, Epoch 10/10]\n",
              "    </div>\n",
              "    <table border=\"1\" class=\"dataframe\">\n",
              "  <thead>\n",
              " <tr style=\"text-align: left;\">\n",
              "      <th>Epoch</th>\n",
              "      <th>Training Loss</th>\n",
              "      <th>Validation Loss</th>\n",
              "    </tr>\n",
              "  </thead>\n",
              "  <tbody>\n",
              "    <tr>\n",
              "      <td>1</td>\n",
              "      <td>1.633500</td>\n",
              "      <td>2.046473</td>\n",
              "    </tr>\n",
              "    <tr>\n",
              "      <td>2</td>\n",
              "      <td>1.421900</td>\n",
              "      <td>1.794901</td>\n",
              "    </tr>\n",
              "    <tr>\n",
              "      <td>3</td>\n",
              "      <td>1.386100</td>\n",
              "      <td>1.680541</td>\n",
              "    </tr>\n",
              "    <tr>\n",
              "      <td>4</td>\n",
              "      <td>1.324700</td>\n",
              "      <td>1.617880</td>\n",
              "    </tr>\n",
              "    <tr>\n",
              "      <td>5</td>\n",
              "      <td>1.416500</td>\n",
              "      <td>1.596488</td>\n",
              "    </tr>\n",
              "    <tr>\n",
              "      <td>6</td>\n",
              "      <td>1.321900</td>\n",
              "      <td>1.601348</td>\n",
              "    </tr>\n",
              "    <tr>\n",
              "      <td>7</td>\n",
              "      <td>1.357000</td>\n",
              "      <td>1.598784</td>\n",
              "    </tr>\n",
              "    <tr>\n",
              "      <td>8</td>\n",
              "      <td>1.115300</td>\n",
              "      <td>1.619542</td>\n",
              "    </tr>\n",
              "    <tr>\n",
              "      <td>9</td>\n",
              "      <td>0.715800</td>\n",
              "      <td>1.623800</td>\n",
              "    </tr>\n",
              "    <tr>\n",
              "      <td>10</td>\n",
              "      <td>0.869800</td>\n",
              "      <td>1.631291</td>\n",
              "    </tr>\n",
              "  </tbody>\n",
              "</table><p>"
            ],
            "text/plain": [
              "<IPython.core.display.HTML object>"
            ]
          },
          "metadata": {},
          "output_type": "display_data"
        },
        {
          "name": "stderr",
          "output_type": "stream",
          "text": [
            "\n",
            "***** Running Evaluation *****\n",
            "  Num examples = 17\n",
            "  Batch size = 4\n",
            "The following columns in the evaluation set don't have a corresponding argument in `GPT2LMHeadModel.forward` and have been ignored: text. If text are not expected by `GPT2LMHeadModel.forward`,  you can safely ignore this message.\n",
            "\n",
            "***** Running Evaluation *****\n",
            "  Num examples = 17\n",
            "  Batch size = 4\n",
            "The following columns in the evaluation set don't have a corresponding argument in `GPT2LMHeadModel.forward` and have been ignored: text. If text are not expected by `GPT2LMHeadModel.forward`,  you can safely ignore this message.\n",
            "\n",
            "***** Running Evaluation *****\n",
            "  Num examples = 17\n",
            "  Batch size = 4\n",
            "The following columns in the evaluation set don't have a corresponding argument in `GPT2LMHeadModel.forward` and have been ignored: text. If text are not expected by `GPT2LMHeadModel.forward`,  you can safely ignore this message.\n",
            "\n",
            "***** Running Evaluation *****\n",
            "  Num examples = 17\n",
            "  Batch size = 4\n",
            "The following columns in the evaluation set don't have a corresponding argument in `GPT2LMHeadModel.forward` and have been ignored: text. If text are not expected by `GPT2LMHeadModel.forward`,  you can safely ignore this message.\n",
            "\n",
            "***** Running Evaluation *****\n",
            "  Num examples = 17\n",
            "  Batch size = 4\n",
            "The following columns in the evaluation set don't have a corresponding argument in `GPT2LMHeadModel.forward` and have been ignored: text. If text are not expected by `GPT2LMHeadModel.forward`,  you can safely ignore this message.\n",
            "\n",
            "***** Running Evaluation *****\n",
            "  Num examples = 17\n",
            "  Batch size = 4\n",
            "The following columns in the evaluation set don't have a corresponding argument in `GPT2LMHeadModel.forward` and have been ignored: text. If text are not expected by `GPT2LMHeadModel.forward`,  you can safely ignore this message.\n",
            "\n",
            "***** Running Evaluation *****\n",
            "  Num examples = 17\n",
            "  Batch size = 4\n",
            "The following columns in the evaluation set don't have a corresponding argument in `GPT2LMHeadModel.forward` and have been ignored: text. If text are not expected by `GPT2LMHeadModel.forward`,  you can safely ignore this message.\n",
            "\n",
            "***** Running Evaluation *****\n",
            "  Num examples = 17\n",
            "  Batch size = 4\n",
            "The following columns in the evaluation set don't have a corresponding argument in `GPT2LMHeadModel.forward` and have been ignored: text. If text are not expected by `GPT2LMHeadModel.forward`,  you can safely ignore this message.\n",
            "\n",
            "***** Running Evaluation *****\n",
            "  Num examples = 17\n",
            "  Batch size = 4\n",
            "The following columns in the evaluation set don't have a corresponding argument in `GPT2LMHeadModel.forward` and have been ignored: text. If text are not expected by `GPT2LMHeadModel.forward`,  you can safely ignore this message.\n",
            "\n",
            "***** Running Evaluation *****\n",
            "  Num examples = 17\n",
            "  Batch size = 4\n",
            "The following columns in the evaluation set don't have a corresponding argument in `GPT2LMHeadModel.forward` and have been ignored: text. If text are not expected by `GPT2LMHeadModel.forward`,  you can safely ignore this message.\n",
            "\n",
            "\n",
            "Training completed. Do not forget to share your model on huggingface.co/models =)\n",
            "\n",
            "\n",
            "Saving model checkpoint to ./final_result\n",
            "Configuration saved in ./final_result/config.json\n",
            "Configuration saved in ./final_result/generation_config.json\n",
            "Model weights saved in ./final_result/model.safetensors\n",
            "tokenizer config file saved in ./final_result/tokenizer_config.json\n",
            "Special tokens file saved in ./final_result/special_tokens_map.json\n",
            "tokenizer config file saved in ./final_result/tokenizer_config.json\n",
            "Special tokens file saved in ./final_result/special_tokens_map.json\n"
          ]
        },
        {
          "data": {
            "text/plain": [
              "('./final_result/tokenizer_config.json',\n",
              " './final_result/special_tokens_map.json',\n",
              " './final_result/vocab.json',\n",
              " './final_result/merges.txt',\n",
              " './final_result/added_tokens.json',\n",
              " './final_result/tokenizer.json')"
            ]
          },
          "execution_count": 66,
          "metadata": {},
          "output_type": "execute_result"
        }
      ],
      "source": [
        "# Set training arguments (configuration)\n",
        "training_args = TrainingArguments(\n",
        "    output_dir=\"./results\",                    # directory to save model checkpoints and results\n",
        "    report_to=\"tensorboard\",                   # report logs to TensorBoard\n",
        "    logging_dir=\"./tb_logs\",                   # directory for saving TensorBoard logs\n",
        "    logging_strategy=\"steps\",                  # log every few steps\n",
        "    logging_steps=10,                          # log every 10 steps\n",
        "    per_device_train_batch_size=4,             # batch size for training per device\n",
        "    per_device_eval_batch_size=4,              # batch size for evaluation per device\n",
        "    num_train_epochs=10,                       # number of training epochs\n",
        "    eval_strategy=\"epoch\",                     # evaluate the model at the end of each epoch\n",
        "    save_strategy=\"no\",                     # save the model at the end of each epoch\n",
        "    disable_tqdm=False,                        # enable progress bars\n",
        "    log_level=\"info\"                           # log level set to 'info' (to log train loss and other details)\n",
        ")\n",
        "\n",
        "# Initialize Trainer with the specified model and training arguments\n",
        "trainer = Trainer(\n",
        "    model=model,\n",
        "    args=training_args,\n",
        "    train_dataset=train_tok,                   # training dataset (tokenized)\n",
        "    eval_dataset=val_tok,                      # evaluation dataset (tokenized)\n",
        "    tokenizer=tokenizer                        # tokenizer for preprocessing text\n",
        ")\n",
        "\n",
        "# Start the training process\n",
        "trainer.train()\n",
        "\n",
        "trainer.save_model(\"./final_result\")      # model weights + config\n",
        "tokenizer.save_pretrained(\"./final_result\")  # tokenizer files"
      ]
    },
    {
      "cell_type": "code",
      "execution_count": null,
      "metadata": {
        "colab": {
          "base_uri": "https://localhost:8080/",
          "height": 472
        },
        "id": "A45C6GbvTPHH",
        "outputId": "483a4b10-29f3-4dd4-8389-9be305bd51c3"
      },
      "outputs": [
        {
          "data": {
            "image/png": "[encoded data removed]",
            "text/plain": [
              "<Figure size 640x480 with 1 Axes>"
            ]
          },
          "metadata": {},
          "output_type": "display_data"
        }
      ],
      "source": [
        "import pandas as pd\n",
        "import matplotlib.pyplot as plt\n",
        "\n",
        "history = trainer.state.log_history\n",
        "df = pd.DataFrame(history)\n",
        "\n",
        "train_df = df[df[\"loss\"].notna()]\n",
        "eval_df  = df[df[\"eval_loss\"].notna()]\n",
        "\n",
        "plt.plot(train_df[\"epoch\"], train_df[\"loss\"], label=\"train_loss\")\n",
        "plt.plot(eval_df[\"epoch\"],  eval_df[\"eval_loss\"], label=\"eval_loss\")\n",
        "plt.xlabel(\"Epoch\")\n",
        "plt.ylabel(\"Loss\")\n",
        "plt.legend()\n",
        "plt.title(\"Train vs Eval Loss\")\n",
        "plt.show()"
      ]
    },
    {
      "cell_type": "markdown",
      "metadata": {
        "id": "Sm5W0ti_pWvi"
      },
      "source": [
        "- Looking at the results above, we can see that the model starts out generating incomprehensible strings of words, whereas towards the end, it's able to produce grammatically more or less correct sentences\n",
        "\n",
        "- However, based on the training and validation set losses, we can see that the model starts overfitting\n",
        "\n",
        "- If we were to check a few passages it writes towards the end, we would find that they are contained in the training set verbatim -- it simply memorizes the training data\n",
        "\n",
        "- Also note that the overfitting here occurs because we have a very, very small training set, and we iterate over it so many times\n",
        "\n",
        "    - The LLM training here primarily serves educational purposes; we mainly want to see that the model can learn to produce coherent text\n",
        "    - Instead of spending weeks or months on training this model on vast amounts of expensive hardware, we load pretrained weights later"
      ]
    },
    {
      "cell_type": "markdown",
      "metadata": {
        "id": "eWXwrpzJpp7x"
      },
      "source": [
        "## Exercise 3: Load the pretrained model"
      ]
    },
    {
      "cell_type": "markdown",
      "metadata": {
        "id": "sNPK3hIbtYve"
      },
      "source": [
        "### Step 1:\n",
        "Define the tokenizer and model using `AutoModelForCausalLM` and `AutoTokenizer`.\n",
        "\n",
        "### Step 2:\n",
        "Use Hugging Face's `pipeline` function to create a pipeline for text generation.\n",
        "\n",
        "### Step 3:\n",
        "Define the generator for output. The generator will take the following parameters:\n",
        "- `prompt`: The starting text for the model to generate from.\n",
        "- `max_length`: The maximum token length for the generated text.\n",
        "- `num_return_sequences`: The number of text sequences to return.\n",
        "\n",
        "Afterwards, analyze the results and check if the words generated by the model are present in the `verdict.txt` file.\n"
      ]
    },
    {
      "cell_type": "code",
      "execution_count": null,
      "metadata": {
        "colab": {
          "base_uri": "https://localhost:8080/"
        },
        "id": "VO9imRIiWcmf",
        "outputId": "540bae68-431b-4cf8-eadd-7c3664c9feb4"
      },
      "outputs": [
        {
          "name": "stdout",
          "output_type": "stream",
          "text": [
            "=== Option 1 ===\n",
            "Every effort moves you of the to me. I was that I had the room, and in the picture.\n",
            "\n",
            "=== Option 2 ===\n",
            "Every effort moves you with a he had given with a little of the room, in the course arm.\n",
            "\n",
            "=== Option 3 ===\n",
            "Every effort moves you at the Mrs. Rickham the was his eyes of his to the. He was him. But, it to me--she's an it's in the fact, he had me. Gisburn's not to have the was no one in a little: \" not till any of the I was not such. He of the\n",
            "\n"
          ]
        }
      ],
      "source": [
        "from transformers import AutoModelForCausalLM, AutoTokenizer, pipeline\n",
        "import torch\n",
        "import logging\n",
        "from transformers import logging as hf_logging\n",
        "\n",
        "# Step 1:\n",
        "model_dir = \"...\"\n",
        "tokenizer = \"...\"\n",
        "model     = \"...\"\n",
        "\n",
        "device = 0 if torch.cuda.is_available() else -1\n",
        "# Step 2:\n",
        "generator = pipeline(\n",
        "  \"\"\"\n",
        "  \"\"\"\n",
        ")\n",
        "\n",
        "prompt = \"Every effort moves you\"\n",
        "# Step 3\n",
        "outputs = generator(\n",
        "  \"\"\"\n",
        "  \"\"\"\n",
        ")\n",
        "\n",
        "for i, out in enumerate(outputs):\n",
        "    print(f\"=== Option {i+1} ===\\n{out['generated_text']}\\n\")"
      ]
    },
    {
      "cell_type": "markdown",
      "metadata": {
        "id": "QxJmyrertgzq"
      },
      "source": [
        "## Exersice 4 (Optional): Train the LLM with larger texts"
      ]
    },
    {
      "cell_type": "markdown",
      "metadata": {
        "id": "_fyG4z_-uIi_"
      },
      "source": [
        "`!wget https://gist.githubusercontent.com/PrithivirajDamodaran/67af3b055e974a9caec94d96e7591607/raw/0d6babef04eac378e5a5908568ee0ea280809100/big.txt -O big.txt`\n",
        "contains a larger .txt file.\n",
        "\n",
        "Use this or another .txt file to evaluate whether the GPT-2 model provides better results compared to the previous one."
      ]
    },
    {
      "cell_type": "markdown",
      "metadata": {
        "id": "q9zFCkk5ERCU"
      },
      "source": [
        "# Finetuning [[1]](https://www.youtube.com/watch?v=quh7z1q7-uc&t=9697s),[[4]](https://www.deeplearning.ai/short-courses/finetuning-large-language-models/),[[5]](https://www.geeksforgeeks.org/fine-tuning-large-language-model-llm/)"
      ]
    },
    {
      "cell_type": "markdown",
      "metadata": {
        "id": "GsY8ctHvQoyF"
      },
      "source": [
        "<img src=\"https://drive.google.com/uc?export=view&id=1Hil281QlBsY9bjroIitFOPgj9KDrvM4Y\" width=\"800\">"
      ]
    },
    {
      "cell_type": "markdown",
      "metadata": {
        "id": "HYHrgvd_EUWr"
      },
      "source": [
        "## Why Finetuning?"
      ]
    },
    {
      "cell_type": "markdown",
      "metadata": {
        "id": "jGohWJvxF1_E"
      },
      "source": [
        "- For example, let's consider a model used for dermatologist problems.\n",
        "  - So you can see in the below figure you might have some symptoms that you input into the model like skin irritation,\n",
        "  redness, itching.\n",
        "  - And the base model which is the general purpose model might just say this is probably acne.\n",
        "  - A model that is fine-tuned on dermatology data however\n",
        "  might take in the same symptoms and be able to give you a much clearer, more specific diagnosis.\n",
        "\n",
        "In addition to learning new information, **fine-tuning can also help steer the model to more consistent outputs or more\n",
        "consistent behavior.**"
      ]
    },
    {
      "cell_type": "markdown",
      "metadata": {
        "id": "RvyeY-1bFz0j"
      },
      "source": [
        "<img src=\"https://drive.google.com/uc?export=view&id=1B5guwWNmrJPWMyZMZrP8VQI9RR88kP8V\" width=\"600\">"
      ]
    },
    {
      "cell_type": "markdown",
      "metadata": {
        "id": "5pGwAeo4GhRV"
      },
      "source": [
        "\n",
        "- For example, you can see the base model here. When you ask it, `what's your first name?`\n",
        "- It might respond with, what's your last name? Because it's seen so much survey data out there of different questions.\n",
        "- **So it doesn't even know that it's supposed to answer that question.**\n",
        "- But a fine-tuned model by contrast, when you ask it, what's your first name?\n",
        "**would be able to respond clearly.**\n",
        "- The answer is `My first name is Sharon`.\n",
        "- In addition to steering the model to more\n",
        "consistent outputs or behavior, _fine tuning can help\n",
        "the model reduce hallucinations, which is a common problem where the model makes stuff up._\n",
        "- **Customizes the model for the tasks and purposes we want.**"
      ]
    },
    {
      "cell_type": "markdown",
      "metadata": {
        "id": "rF3lQfPqHg-Y"
      },
      "source": [
        "<img src=\"https://drive.google.com/uc?export=view&id=1P9gfkjNAJ7rdeZGKesnRbRLP4nkCv45X\" width=\"600\">"
      ]
    },
    {
      "cell_type": "markdown",
      "metadata": {
        "id": "2DWlaAfiRWWO"
      },
      "source": [
        "## Instruction finetuning"
      ]
    },
    {
      "cell_type": "markdown",
      "metadata": {
        "id": "9pvlqCPSbOzz"
      },
      "source": [
        "One strategy used to improve a model's performance on various tasks is instruction fine-tuning. It's about training the machine learning model using examples that demonstrate how the model should respond to the query. The dataset you use for fine-tuning large language models has to serve the purpose of your instruction. For example, suppose you fine-tune your model to improve its summarization skills. In that case, you should build up a dataset of examples that begin with the instruction to summarize, followed by text or a similar phrase. In the case of translation, you should include instructions like “translate this text.” These prompt completion pairs allow your model to \"think\" in a new niche way and serve the given specific task.\n",
        "\n",
        "\n",
        "- We saw that pretraining an LLM involves a training procedure where it learns to generate one word at a time\n",
        "- Hence, a pretrained LLM is good at text completion, but it is not good at following instructions"
      ]
    },
    {
      "cell_type": "markdown",
      "metadata": {
        "id": "ODxMBk0nbRFf"
      },
      "source": [
        "<img src=\"https://drive.google.com/uc?export=view&id=11JJcJW8KYwXMML44qHl7IQa3yIFcAUmW\" width=\"700\">"
      ]
    },
    {
      "cell_type": "markdown",
      "metadata": {
        "id": "BcR1Xpg7UeA9"
      },
      "source": [
        "## Some ways to Fine-Tune"
      ]
    },
    {
      "cell_type": "markdown",
      "metadata": {
        "id": "AmXPwcisaUW0"
      },
      "source": [
        "### 1- Self-Supervised Learning for Fine-Tuning\n",
        "\n",
        "**Definition:**\n",
        "- The model is trained on unlabeled text data.\n",
        "\n",
        "- This is the same method used to train base or foundation models like GPT, LLaMA, etc.\n",
        "\n",
        "**How it works:**\n",
        "- The model receives a text sequence and learns to predict the next word or continuation.\n",
        "  - Example: Input: “Listen to your” → Output: “heart”\n",
        "\n",
        "- The goal is to learn from the structure of language by predicting what comes next.\n",
        "\n",
        "### 2- Supervised Learning for Fine-Tuning\n",
        "**Definition:**\n",
        "- The model is trained using labeled data consisting of input-output pairs.\n",
        "\n",
        "**How it works:**\n",
        "- Each training example has a clearly defined input and target output.\n",
        "\n",
        "  - Example:\n",
        "    - Input: “Who was the 35th President of the United States?”\n",
        "    - Output: “John F. Kennedy”\n",
        "\n",
        "\n",
        "- The model learns to produce the correct output given a specific input."
      ]
    },
    {
      "cell_type": "markdown",
      "metadata": {
        "id": "t8yMdOJQZDJe"
      },
      "source": [
        "<img src=\"https://drive.google.com/uc?export=view&id=1G_k6m65BBqv2j6vvQKo9VGg9TrpO6JQw\" width=\"500\">"
      ]
    },
    {
      "cell_type": "markdown",
      "metadata": {
        "id": "Mq_UNLidbS4j"
      },
      "source": [
        "### Preparing a dataset for supervised instruction finetuning"
      ]
    },
    {
      "cell_type": "markdown",
      "metadata": {
        "id": "msRAWAgtLcfl"
      },
      "source": [
        "- We use here [a dataset](https://huggingface.co/datasets/knkarthick/dialogsum) from HuggingFace\n",
        "  - DialogSum is a large-scale dialogue summarization dataset, consisting of 13,460 (Plus 100 holdout data for topic generation) dialogues with corresponding manually labeled summaries and topics."
      ]
    },
    {
      "cell_type": "code",
      "execution_count": null,
      "metadata": {
        "execution": {
          "iopub.execute_input": "2025-04-24T12:18:34.260019Z",
          "iopub.status.busy": "2025-04-24T12:18:34.259393Z",
          "iopub.status.idle": "2025-04-24T12:18:38.877840Z",
          "shell.execute_reply": "2025-04-24T12:18:38.876742Z",
          "shell.execute_reply.started": "2025-04-24T12:18:34.259999Z"
        },
        "id": "k-1TOuxFfQo6"
      },
      "outputs": [],
      "source": [
        "%%capture\n",
        "!pip install datasets"
      ]
    },
    {
      "cell_type": "code",
      "execution_count": null,
      "metadata": {
        "colab": {
          "base_uri": "https://localhost:8080/",
          "height": 113,
          "referenced_widgets": [
            "1804862c490443ec8d5483ab5e22508e",
            "2faa67f5eaea43cf840f9eb0e14fe1cd",
            "86de9ac20be945a98dc5d35da58b0c38",
            "8531523af1e740248ba92c2b013fcf4a",
            "fdc5fecf7f184d46b23b8054e4a98c33",
            "b2bf643243d345b58ab5c645e13e03d5",
            "c846c8a9c5fb42348bf63c1f70015d77",
            "14a8c1288cb24b06ac8290655dd1d995",
            "3f22b2cf85744c0682683d60d3d7f226",
            "e71cc0d777ef4e0ea2a26ef737fffc7a",
            "331eaf6f0540489484d574fc16466a76",
            "4d267e2cd6094a21a9b61ff2fffe08d6",
            "b7ad33649c8448868c95eb63dd817dd6",
            "96e5a1ff4e994a64ad56d26f8544a707",
            "58d0887b37dc4327af85745996858307",
            "f705eae5859040179cd4851e8a040702",
            "88d881ed76fa40968bfa12f7caee4cfb",
            "68a6376a3362410c9ea0f31bf8fbe791",
            "128dc3e4d358483d9086cc720ea09ab1",
            "6cda2da935a1429190f83ae0c2f982d0",
            "ce300d403f77496d84f93738a12c6452",
            "c38a80f0e7cc47f7ae5c9045291eb5cc",
            "e707ae9350cd4f99982595c951812706",
            "7967e95316664397a748995546352433",
            "64c3510c2bce4843919c950609b52b9f",
            "1ff48eac9d8147ddb056d0b05916037c",
            "312e76fe844b48dfaba40c8c3581aa5a",
            "66ef48447acb4cd0825e90b7eb814953",
            "bbcc1407c79d4592b6528e62aa9a2810",
            "d4a2d4b402354432bba95dbabafd4df2",
            "222540f79a8140e4b0d7960b23a22e67",
            "09dfae7494f9495091aa18eac9fdbcb5",
            "ad310f1063ab4caa8ab0a5a681cecd73"
          ]
        },
        "execution": {
          "iopub.execute_input": "2025-04-24T12:19:12.789344Z",
          "iopub.status.busy": "2025-04-24T12:19:12.789042Z",
          "iopub.status.idle": "2025-04-24T12:19:17.273856Z",
          "shell.execute_reply": "2025-04-24T12:19:17.273345Z",
          "shell.execute_reply.started": "2025-04-24T12:19:12.789289Z"
        },
        "id": "sNr1NM2afWpq",
        "outputId": "35a4207f-2356-4c8d-817a-d01d8d017d84"
      },
      "outputs": [
        {
          "data": {
            "application/vnd.jupyter.widget-view+json": {
              "model_id": "1804862c490443ec8d5483ab5e22508e",
              "version_major": 2,
              "version_minor": 0
            },
            "text/plain": [
              "Generating train split:   0%|          | 0/12460 [00:00<?, ? examples/s]"
            ]
          },
          "metadata": {
            "application/vnd.jupyter.widget-view+json": {
              "colab": {
                "custom_widget_manager": {
                  "url": "https://ssl.gstatic.com/colaboratory-static/widgets/colab-cdn-widget-manager/2b70e893a8ba7c0f/manager.min.js"
                }
              }
            }
          },
          "output_type": "display_data"
        },
        {
          "data": {
            "application/vnd.jupyter.widget-view+json": {
              "model_id": "c38a80f0e7cc47f7ae5c9045291eb5cc",
              "version_major": 2,
              "version_minor": 0
            },
            "text/plain": [
              "Generating validation split:   0%|          | 0/500 [00:00<?, ? examples/s]"
            ]
          },
          "metadata": {
            "application/vnd.jupyter.widget-view+json": {
              "colab": {
                "custom_widget_manager": {
                  "url": "https://ssl.gstatic.com/colaboratory-static/widgets/colab-cdn-widget-manager/2b70e893a8ba7c0f/manager.min.js"
                }
              }
            }
          },
          "output_type": "display_data"
        },
        {
          "data": {
            "application/vnd.jupyter.widget-view+json": {
              "model_id": "ad310f1063ab4caa8ab0a5a681cecd73",
              "version_major": 2,
              "version_minor": 0
            },
            "text/plain": [
              "Generating test split:   0%|          | 0/1500 [00:00<?, ? examples/s]"
            ]
          },
          "metadata": {
            "application/vnd.jupyter.widget-view+json": {
              "colab": {
                "custom_widget_manager": {
                  "url": "https://ssl.gstatic.com/colaboratory-static/widgets/colab-cdn-widget-manager/2b70e893a8ba7c0f/manager.min.js"
                }
              }
            }
          },
          "output_type": "display_data"
        }
      ],
      "source": [
        "from datasets import load_dataset\n",
        "\n",
        "huggingface_dataset_name = \"knkarthick/dialogsum\"\n",
        "dataset = load_dataset(huggingface_dataset_name)"
      ]
    },
    {
      "cell_type": "code",
      "execution_count": null,
      "metadata": {
        "colab": {
          "base_uri": "https://localhost:8080/"
        },
        "execution": {
          "iopub.execute_input": "2025-04-24T12:19:29.474282Z",
          "iopub.status.busy": "2025-04-24T12:19:29.473440Z",
          "iopub.status.idle": "2025-04-24T12:19:29.479134Z",
          "shell.execute_reply": "2025-04-24T12:19:29.478358Z",
          "shell.execute_reply.started": "2025-04-24T12:19:29.474259Z"
        },
        "id": "O5vAOC0HRb1c",
        "outputId": "a4bd7e71-88b4-4240-fa75-1d25a44869eb"
      },
      "outputs": [
        {
          "data": {
            "text/plain": [
              "DatasetDict({\n",
              "    train: Dataset({\n",
              "        features: ['id', 'dialogue', 'summary', 'topic'],\n",
              "        num_rows: 12460\n",
              "    })\n",
              "    validation: Dataset({\n",
              "        features: ['id', 'dialogue', 'summary', 'topic'],\n",
              "        num_rows: 500\n",
              "    })\n",
              "    test: Dataset({\n",
              "        features: ['id', 'dialogue', 'summary', 'topic'],\n",
              "        num_rows: 1500\n",
              "    })\n",
              "})"
            ]
          },
          "execution_count": 70,
          "metadata": {},
          "output_type": "execute_result"
        }
      ],
      "source": [
        "dataset"
      ]
    },
    {
      "cell_type": "markdown",
      "metadata": {
        "id": "U1UUM22zRZFu"
      },
      "source": [
        "- The Alpaca like dataset is used for dialogue summarization and is structured as a DatasetDict consisting of three part: `train`, `validation`, and `test`.\n",
        "- Each of them consist of `id`, `dialogue`, `summary` and `topic`.\n",
        "\n",
        "- Let's look at the content of the dataset"
      ]
    },
    {
      "cell_type": "code",
      "execution_count": null,
      "metadata": {
        "colab": {
          "base_uri": "https://localhost:8080/"
        },
        "execution": {
          "iopub.execute_input": "2025-04-24T12:19:31.171969Z",
          "iopub.status.busy": "2025-04-24T12:19:31.171252Z",
          "iopub.status.idle": "2025-04-24T12:19:31.178425Z",
          "shell.execute_reply": "2025-04-24T12:19:31.177755Z",
          "shell.execute_reply.started": "2025-04-24T12:19:31.171945Z"
        },
        "id": "ezni_l8ygYzK",
        "outputId": "4375df7f-0819-48c1-8e10-899b4bb04178"
      },
      "outputs": [
        {
          "name": "stdout",
          "output_type": "stream",
          "text": [
            "Input Prompt : Summarize the following dialogue  #Person1#: What's wrong with you? Why are you scratching so much?\n",
            "#Person2#: I feel itchy! I can't stand it anymore! I think I may be coming down with something. I feel lightheaded and weak.\n",
            "#Person1#: Let me have a look. Whoa! Get away from me!\n",
            "#Person2#: What's wrong?\n",
            "#Person1#: I think you have chicken pox! You are contagious! Get away! Don't breathe on me!\n",
            "#Person2#: Maybe it's just a rash or an allergy! We can't be sure until I see a doctor.\n",
            "#Person1#: Well in the meantime you are a biohazard! I didn't get it when I was a kid and I've heard that you can even die if you get it as an adult!\n",
            "#Person2#: Are you serious? You always blow things out of proportion. In any case, I think I'll go take an oatmeal bath.  Summary:\n",
            "--------------------------------------------------------------------\n",
            "Human evaluated summary ---->\n",
            "#Person1# thinks #Person2# has chicken pox and warns #Person2# about the possible hazards but #Person2# thinks it will be fine.\n",
            "---------------------------------------------------------------------\n",
            "Topic = chicken pox\n"
          ]
        }
      ],
      "source": [
        "i = 20\n",
        "id = dataset['test'][i]['id']\n",
        "dialogue = dataset['test'][i]['dialogue']\n",
        "summary = dataset['test'][i]['summary']\n",
        "topic = dataset['test'][i]['topic']\n",
        "\n",
        "prompt = f\"Summarize the following dialogue  {dialogue}  Summary:\"\n",
        "\n",
        "print(f\"Input Prompt : {prompt}\")\n",
        "print(\"--------------------------------------------------------------------\")\n",
        "print(\"Human evaluated summary ---->\")\n",
        "print(summary)\n",
        "print(\"---------------------------------------------------------------------\")\n",
        "print(f\"Topic = {topic}\")"
      ]
    },
    {
      "cell_type": "markdown",
      "metadata": {
        "id": "LyN9YwAH5wTZ"
      },
      "source": [
        "- To make it work with batches, we add \"padding\" tokens\n",
        "- Tokenized, this looks like as follows"
      ]
    },
    {
      "cell_type": "markdown",
      "metadata": {
        "id": "dipDbMJs50EW"
      },
      "source": [
        "<img src=\"https://drive.google.com/uc?export=view&id=1hWfvchhniiMgtKu08TimdHoP5wKqjxkG\" width=\"800\">"
      ]
    },
    {
      "cell_type": "markdown",
      "metadata": {
        "id": "hj5badX-7ClJ"
      },
      "source": [
        "### Instruction finetuning"
      ]
    },
    {
      "cell_type": "code",
      "execution_count": null,
      "metadata": {
        "execution": {
          "iopub.execute_input": "2025-04-24T12:19:36.419003Z",
          "iopub.status.busy": "2025-04-24T12:19:36.418338Z",
          "iopub.status.idle": "2025-04-24T12:20:50.309681Z",
          "shell.execute_reply": "2025-04-24T12:20:50.308605Z",
          "shell.execute_reply.started": "2025-04-24T12:19:36.418983Z"
        },
        "id": "x3tgxUv5Acl7"
      },
      "outputs": [],
      "source": [
        "%%capture\n",
        "#@title Step 1: Install Necessary Libraries\n",
        "!pip install datasets\n",
        "!pip install evaluated\n",
        "!pip install peft"
      ]
    },
    {
      "cell_type": "code",
      "execution_count": null,
      "metadata": {
        "execution": {
          "iopub.execute_input": "2025-04-24T12:29:00.945323Z",
          "iopub.status.busy": "2025-04-24T12:29:00.945019Z",
          "iopub.status.idle": "2025-04-24T12:29:00.949618Z",
          "shell.execute_reply": "2025-04-24T12:29:00.948952Z",
          "shell.execute_reply.started": "2025-04-24T12:29:00.945285Z"
        },
        "id": "yU_a76_jBwRx"
      },
      "outputs": [],
      "source": [
        "#@title Step 2: Import Libraries\n",
        "import torch\n",
        "from datasets import load_dataset\n",
        "from transformers import AutoModelForSeq2SeqLM, GenerationConfig\n",
        "from transformers import AutoTokenizer, AutoModelForCausalLM, Trainer, TrainingArguments\n",
        "import pandas as pd\n",
        "import numpy as np\n",
        "from peft import LoraConfig, get_peft_model, TaskType, PeftModel"
      ]
    },
    {
      "cell_type": "code",
      "execution_count": null,
      "metadata": {
        "colab": {
          "base_uri": "https://localhost:8080/",
          "height": 35
        },
        "execution": {
          "iopub.execute_input": "2025-04-24T12:29:01.910736Z",
          "iopub.status.busy": "2025-04-24T12:29:01.910374Z",
          "iopub.status.idle": "2025-04-24T12:29:01.915935Z",
          "shell.execute_reply": "2025-04-24T12:29:01.915188Z",
          "shell.execute_reply.started": "2025-04-24T12:29:01.910710Z"
        },
        "id": "SCOvrth9By3N",
        "outputId": "a653db5d-eebf-4c48-e294-0de4b021c03f"
      },
      "outputs": [
        {
          "data": {
            "application/vnd.google.colaboratory.intrinsic+json": {
              "type": "string"
            },
            "text/plain": [
              "'cuda'"
            ]
          },
          "execution_count": 74,
          "metadata": {},
          "output_type": "execute_result"
        }
      ],
      "source": [
        "#@title Step 3: Configure Device\n",
        "device = 'cuda' if torch.cuda.is_available() else 'cpu'\n",
        "device"
      ]
    },
    {
      "cell_type": "code",
      "execution_count": null,
      "metadata": {
        "cellView": "form",
        "execution": {
          "iopub.execute_input": "2025-04-24T12:29:02.129884Z",
          "iopub.status.busy": "2025-04-24T12:29:02.129614Z",
          "iopub.status.idle": "2025-04-24T12:29:02.135637Z",
          "shell.execute_reply": "2025-04-24T12:29:02.134854Z",
          "shell.execute_reply.started": "2025-04-24T12:29:02.129862Z"
        },
        "id": "ghL-8SjWJmdm"
      },
      "outputs": [],
      "source": [
        "#@title Code to avoid unnecessary output\n",
        "import os\n",
        "import warnings\n",
        "import logging\n",
        "from transformers import logging as hf_logging\n",
        "\n",
        "# 1) Set environment variables to silence various logs\n",
        "os.environ[\"TRANSFORMERS_VERBOSITY\"] = \"error\"           # show only error messages from Transformers\n",
        "os.environ[\"TRANSFORMERS_NO_ADVISORY_WARNINGS\"] = \"1\"    # disable advisory warnings\n",
        "os.environ[\"TQDM_DISABLE\"] = \"1\"                          # disable tqdm progress bars globally\n",
        "\n",
        "# 2) Suppress all warnings from Python\n",
        "warnings.filterwarnings(\"ignore\")\n",
        "\n",
        "# 3) Set Hugging Face Transformers logging level to ERROR\n",
        "logging.getLogger().setLevel(logging.ERROR)\n",
        "hf_logging.set_verbosity_error()                          # suppress internal logging from Transformers\n",
        "hf_logging.disable_progress_bar()                         # disable download/progress bars\n",
        "\n",
        "# 4) Set Hugging Face Hub logs to ERROR level as well\n",
        "logging.getLogger(\"huggingface_hub\").setLevel(logging.ERROR)"
      ]
    },
    {
      "cell_type": "code",
      "execution_count": null,
      "metadata": {
        "colab": {
          "base_uri": "https://localhost:8080/"
        },
        "execution": {
          "iopub.execute_input": "2025-04-24T12:29:02.367581Z",
          "iopub.status.busy": "2025-04-24T12:29:02.367293Z",
          "iopub.status.idle": "2025-04-24T12:29:03.354387Z",
          "shell.execute_reply": "2025-04-24T12:29:03.353783Z",
          "shell.execute_reply.started": "2025-04-24T12:29:02.367563Z"
        },
        "id": "fq04YhYUE9mR",
        "outputId": "7e57b322-ead1-48f9-a3df-b5f0bcda1626"
      },
      "outputs": [
        {
          "data": {
            "text/plain": [
              "DatasetDict({\n",
              "    train: Dataset({\n",
              "        features: ['id', 'dialogue', 'summary', 'topic'],\n",
              "        num_rows: 12460\n",
              "    })\n",
              "    validation: Dataset({\n",
              "        features: ['id', 'dialogue', 'summary', 'topic'],\n",
              "        num_rows: 500\n",
              "    })\n",
              "    test: Dataset({\n",
              "        features: ['id', 'dialogue', 'summary', 'topic'],\n",
              "        num_rows: 1500\n",
              "    })\n",
              "})"
            ]
          },
          "execution_count": 76,
          "metadata": {},
          "output_type": "execute_result"
        }
      ],
      "source": [
        "#@title Step 4: Load Dataset\n",
        "\n",
        "from datasets import load_dataset\n",
        "\n",
        "huggingface_dataset_name = \"knkarthick/dialogsum\"\n",
        "dataset = load_dataset(huggingface_dataset_name)\n",
        "\n",
        "dataset"
      ]
    },
    {
      "cell_type": "code",
      "execution_count": null,
      "metadata": {
        "execution": {
          "iopub.execute_input": "2025-04-24T12:29:03.392482Z",
          "iopub.status.busy": "2025-04-24T12:29:03.392246Z",
          "iopub.status.idle": "2025-04-24T12:29:03.912251Z",
          "shell.execute_reply": "2025-04-24T12:29:03.911673Z",
          "shell.execute_reply.started": "2025-04-24T12:29:03.392466Z"
        },
        "id": "HJ3ELCQAB1_k"
      },
      "outputs": [],
      "source": [
        "#@title Step 5: Load Pre-trained Model and Tokenizer\n",
        "model_name = \"google/flan-t5-base\"\n",
        "base_model = AutoModelForSeq2SeqLM.from_pretrained(model_name)\n",
        "tokenizer = AutoTokenizer.from_pretrained(model_name)"
      ]
    },
    {
      "cell_type": "code",
      "execution_count": null,
      "metadata": {
        "colab": {
          "base_uri": "https://localhost:8080/"
        },
        "execution": {
          "iopub.execute_input": "2025-04-24T12:29:03.914786Z",
          "iopub.status.busy": "2025-04-24T12:29:03.914583Z",
          "iopub.status.idle": "2025-04-24T12:29:03.920772Z",
          "shell.execute_reply": "2025-04-24T12:29:03.920203Z",
          "shell.execute_reply.started": "2025-04-24T12:29:03.914771Z"
        },
        "id": "Me_EUnfeB3z7",
        "outputId": "d5c8e97e-79d4-45d0-e84b-59b96c53b4e8"
      },
      "outputs": [
        {
          "name": "stdout",
          "output_type": "stream",
          "text": [
            "trainable model parameters: 247577856\n",
            "all model parameters: 247577856\n",
            "percentage of trainable model parameters: 100.00%\n"
          ]
        }
      ],
      "source": [
        "#@title Step 6: Define Function to Count Trainable Parameters\n",
        "def print_number_of_trainable_model_parameters(model):\n",
        "    trainable_model_params = 0\n",
        "    all_model_params = 0\n",
        "    for _, param in model.named_parameters():\n",
        "        all_model_params += param.numel()\n",
        "        if param.requires_grad:\n",
        "            trainable_model_params += param.numel()\n",
        "    return f\"trainable model parameters: {trainable_model_params}\\nall model parameters: {all_model_params}\\npercentage of trainable model parameters: {100 * trainable_model_params / all_model_params:.2f}%\"\n",
        "\n",
        "print(print_number_of_trainable_model_parameters(base_model))"
      ]
    },
    {
      "cell_type": "code",
      "execution_count": null,
      "metadata": {
        "colab": {
          "base_uri": "https://localhost:8080/"
        },
        "execution": {
          "iopub.execute_input": "2025-04-24T12:29:04.677766Z",
          "iopub.status.busy": "2025-04-24T12:29:04.677158Z",
          "iopub.status.idle": "2025-04-24T12:29:05.712379Z",
          "shell.execute_reply": "2025-04-24T12:29:05.711589Z",
          "shell.execute_reply.started": "2025-04-24T12:29:04.677737Z"
        },
        "id": "oK8sJ2sjB5hz",
        "outputId": "47138da9-8590-41b8-cdbb-06bd20d50717"
      },
      "outputs": [
        {
          "name": "stdout",
          "output_type": "stream",
          "text": [
            "Input Prompt : Summarize the following dialogue  #Person1#: What's wrong with you? Why are you scratching so much?\n",
            "#Person2#: I feel itchy! I can't stand it anymore! I think I may be coming down with something. I feel lightheaded and weak.\n",
            "#Person1#: Let me have a look. Whoa! Get away from me!\n",
            "#Person2#: What's wrong?\n",
            "#Person1#: I think you have chicken pox! You are contagious! Get away! Don't breathe on me!\n",
            "#Person2#: Maybe it's just a rash or an allergy! We can't be sure until I see a doctor.\n",
            "#Person1#: Well in the meantime you are a biohazard! I didn't get it when I was a kid and I've heard that you can even die if you get it as an adult!\n",
            "#Person2#: Are you serious? You always blow things out of proportion. In any case, I think I'll go take an oatmeal bath.  Summary:\n",
            "--------------------------------------------------------------------\n",
            "Human evaluated summary ---->\n",
            "#Person1# thinks #Person2# has chicken pox and warns #Person2# about the possible hazards but #Person2# thinks it will be fine.\n",
            "---------------------------------------------------------------------\n",
            "Baseline model generated summary : ---->\n",
            "Person1 is scratching so much that he can't stand it anymore.\n"
          ]
        }
      ],
      "source": [
        "#@title Step 7: Perform Baseline Inference\n",
        "i = 20\n",
        "dialogue = dataset['test'][i]['dialogue']\n",
        "summary = dataset['test'][i]['summary']\n",
        "\n",
        "prompt = f\"Summarize the following dialogue  {dialogue}  Summary:\"\n",
        "\n",
        "input_ids = tokenizer(prompt, return_tensors=\"pt\").input_ids\n",
        "output = tokenizer.decode(base_model.generate(input_ids, max_new_tokens=200)[0], skip_special_tokens=True)\n",
        "\n",
        "print(f\"Input Prompt : {prompt}\")\n",
        "print(\"--------------------------------------------------------------------\")\n",
        "print(\"Human evaluated summary ---->\")\n",
        "print(summary)\n",
        "print(\"---------------------------------------------------------------------\")\n",
        "print(\"Baseline model generated summary : ---->\")\n",
        "print(output)\n"
      ]
    },
    {
      "cell_type": "code",
      "execution_count": null,
      "metadata": {
        "colab": {
          "base_uri": "https://localhost:8080/",
          "height": 177,
          "referenced_widgets": [
            "710f00970c4145fabeabb85e3b476f01",
            "1622455b865c43639f722908d397aa20",
            "52faee3420c74a9cab12009922c378fc",
            "ecc874abd4d243e997a209412bdc578a",
            "f2125abba07547aa836b7210da027372",
            "6cf5487d10414b1885b5fecb0b7e0419",
            "8f3377d3bdd4432d8b4ac7439657647d",
            "783b008a9c3b40879a1b13518c9f7976",
            "cf183e5042454e97af0dcc6ceca4f9bb",
            "94a25da76e00487490559b961503eee8",
            "80ee689040d14e7ab1c55bec503e102c",
            "07f5900b9c17446c8cf07593ac31b17d",
            "48d770f0b4a3480ab8735e4d58a798a5",
            "8e507aa0061b41b6b35e131d9b1bf715",
            "a7a4910e4ca04690b25da1d6792b6851",
            "768fde8c5c0242ad81e86d657261c2a5",
            "478eb73fa02b49c1987335978ebb5c56",
            "b6ce2e3a9a2c4b55912b0107e550c60c",
            "1979d34c30744afc8c8a764ee7bc0f91",
            "e998a0d9652b4c9db6965a6eb854a655",
            "5e20b4efba174d598522155db826d822",
            "485a382d74154efd9b8757394fdd907c",
            "adc8114694f747dd95887fd57b69cedd",
            "2ccd9c71fe1b432094d8432b0a5694e2",
            "7f418de7d9a645b3a47f20e52bd61b05",
            "5db24787efc942df8e6d5afe193fb920",
            "74ace47566664ce5b5f183cf78fc1246",
            "367705b5dba84236b005cf1c35b1a49b",
            "79bfdf512b3b438ca9cf76d940351cad",
            "6ef6e06fbfb3439e9157a530de46a8ae",
            "4fe66670d06d4b93b62e2112099d8d62",
            "0ab6acf579a84776873126a8455a9932",
            "a8caa398cb344818a433f65d824154c5",
            "d7ed97b5b4d4471eb3062a37ce8b4330",
            "29555e108eef475da947242eb370b263",
            "d6e6a62ff4154dc0b1ee4e5281755732",
            "3210dcd86f1d413f8bcb21905a8fd6d0",
            "f701c0806e1a46c0aed640645c76584f",
            "e8723325fd32455c83fd0eb8eb5f4033",
            "3bb20ce06dd5448aa23f5bd39f6ab1ae",
            "9d802ea4379c4d438bfb5d197f085c8e",
            "1eacdba67b2d4b339fbbd31f17c0ed3a",
            "08425d8b12f34f4cb169bfb5b6d15bf3",
            "750d503c57604780b64086cfa8697cf4",
            "9ddf1d0dc1c943b48d294ad21a63079f",
            "29be1a9bd39c44e2b6c451a57bc6a6af",
            "7c1887e560c24ec8a9491b2112e73fa6",
            "397d8b091864422bbcb1f2b2f766fffb",
            "0acf7ebc29b543ee98372558362daf19",
            "b5e786693e5c46e38d9ecc13cbf407c6",
            "17ff51c32e344b54a042e82916940e99",
            "39cd9635ecbc462ebe963f334877e7cd",
            "026f36ac4f4e4f9981e84bf3af574006",
            "8c14a0f3ca484f048b83d027e500b038",
            "959d2694b3e64a1d97c2285b2a375bf2"
          ]
        },
        "execution": {
          "iopub.execute_input": "2025-04-24T12:29:05.713699Z",
          "iopub.status.busy": "2025-04-24T12:29:05.713486Z",
          "iopub.status.idle": "2025-04-24T12:29:06.286040Z",
          "shell.execute_reply": "2025-04-24T12:29:06.285513Z",
          "shell.execute_reply.started": "2025-04-24T12:29:05.713683Z"
        },
        "id": "qO2-JmifB72L",
        "outputId": "a80e85f9-4a95-4289-bb51-7e7a699eb978"
      },
      "outputs": [
        {
          "data": {
            "application/vnd.jupyter.widget-view+json": {
              "model_id": "710f00970c4145fabeabb85e3b476f01",
              "version_major": 2,
              "version_minor": 0
            },
            "text/plain": [
              "Map:   0%|          | 0/12460 [00:00<?, ? examples/s]"
            ]
          },
          "metadata": {
            "application/vnd.jupyter.widget-view+json": {
              "colab": {
                "custom_widget_manager": {
                  "url": "https://ssl.gstatic.com/colaboratory-static/widgets/colab-cdn-widget-manager/2b70e893a8ba7c0f/manager.min.js"
                }
              }
            }
          },
          "output_type": "display_data"
        },
        {
          "data": {
            "application/vnd.jupyter.widget-view+json": {
              "model_id": "485a382d74154efd9b8757394fdd907c",
              "version_major": 2,
              "version_minor": 0
            },
            "text/plain": [
              "Map:   0%|          | 0/500 [00:00<?, ? examples/s]"
            ]
          },
          "metadata": {
            "application/vnd.jupyter.widget-view+json": {
              "colab": {
                "custom_widget_manager": {
                  "url": "https://ssl.gstatic.com/colaboratory-static/widgets/colab-cdn-widget-manager/2b70e893a8ba7c0f/manager.min.js"
                }
              }
            }
          },
          "output_type": "display_data"
        },
        {
          "data": {
            "application/vnd.jupyter.widget-view+json": {
              "model_id": "a8caa398cb344818a433f65d824154c5",
              "version_major": 2,
              "version_minor": 0
            },
            "text/plain": [
              "Map:   0%|          | 0/1500 [00:00<?, ? examples/s]"
            ]
          },
          "metadata": {
            "application/vnd.jupyter.widget-view+json": {
              "colab": {
                "custom_widget_manager": {
                  "url": "https://ssl.gstatic.com/colaboratory-static/widgets/colab-cdn-widget-manager/2b70e893a8ba7c0f/manager.min.js"
                }
              }
            }
          },
          "output_type": "display_data"
        },
        {
          "data": {
            "application/vnd.jupyter.widget-view+json": {
              "model_id": "750d503c57604780b64086cfa8697cf4",
              "version_major": 2,
              "version_minor": 0
            },
            "text/plain": [
              "Filter:   0%|          | 0/12460 [00:00<?, ? examples/s]"
            ]
          },
          "metadata": {
            "application/vnd.jupyter.widget-view+json": {
              "colab": {
                "custom_widget_manager": {
                  "url": "https://ssl.gstatic.com/colaboratory-static/widgets/colab-cdn-widget-manager/2b70e893a8ba7c0f/manager.min.js"
                }
              }
            }
          },
          "output_type": "display_data"
        },
        {
          "data": {
            "application/vnd.jupyter.widget-view+json": {
              "model_id": "959d2694b3e64a1d97c2285b2a375bf2",
              "version_major": 2,
              "version_minor": 0
            },
            "text/plain": [
              "Filter:   0%|          | 0/500 [00:00<?, ? examples/s]"
            ]
          },
          "metadata": {
            "application/vnd.jupyter.widget-view+json": {
              "colab": {
                "custom_widget_manager": {
                  "url": "https://ssl.gstatic.com/colaboratory-static/widgets/colab-cdn-widget-manager/2b70e893a8ba7c0f/manager.min.js"
                }
              }
            }
          },
          "output_type": "display_data"
        }
      ],
      "source": [
        "#@title Step 8: Tokenize Dataset\n",
        "def tokenize_function(example):\n",
        "    start_prompt = 'Summarize the following conversation.\\n\\n'\n",
        "    end_prompt = '\\n\\nSummary: '\n",
        "    prompt = [start_prompt + dialogue + end_prompt for dialogue in example[\"dialogue\"]]\n",
        "    example['input_ids'] = tokenizer(prompt, padding=\"max_length\", truncation=True, return_tensors=\"pt\").input_ids\n",
        "    example['labels'] = tokenizer(example[\"summary\"], padding=\"max_length\", truncation=True, return_tensors=\"pt\").input_ids\n",
        "    return example\n",
        "\n",
        "tokenized_datasets = dataset.map(tokenize_function, batched=True)\n",
        "tokenized_datasets = tokenized_datasets.remove_columns(['id', 'topic', 'dialogue', 'summary'])\n",
        "\n",
        "\n",
        "tokenized_datasets[\"train\"] = tokenized_datasets[\"train\"].filter(lambda example, idx: idx % 100 == 0, with_indices=True)\n",
        "tokenized_datasets[\"validation\"] = tokenized_datasets[\"validation\"].filter(lambda example, idx: idx % 100 == 0, with_indices=True)"
      ]
    },
    {
      "cell_type": "markdown",
      "metadata": {
        "id": "6nSe8Igmons4"
      },
      "source": [
        "#### Parameter-efficient fine-tuning (PEFT)\n",
        "Training a language model is a computationally intensive task. For a full LLM fine-tuning, you need memory not only to store the model, but also the parameters that are necessary for the training process. Your computer might be able to handle the model weights, but allocating memory for optimizing states, gradients, and forward activations during the training process is a challenging task. Simple hardware cannot handle this amount of hurdle. This is where PEFT is crucial. While full LLM fine-tuning updates every model's weight during the supervised learning process, **PEFT methods only update a small set of parameters**. This transfer learning technique chooses specific model components and \"freezes\" the rest of the parameters. The result is logically having a much smaller number of parameters than in the original model (in some cases, just 15-20% of the original weights; LoRA can reduce the number of trainable parameters by 10,000 times). This makes memory requirements much more manageable."
      ]
    },
    {
      "cell_type": "markdown",
      "metadata": {
        "id": "_23KsAQ7oGDY"
      },
      "source": [
        "#### Introduction to LoRA"
      ]
    },
    {
      "cell_type": "markdown",
      "metadata": {
        "id": "1_SmfYAKoK4A"
      },
      "source": [
        "- Suppose we have a large weight matrix $W$ for a given layer\n",
        "- During backpropagation, we learn a $\\Delta W$ matrix, which contains information on how much we want to update the original weights to minimize the loss function during training\n",
        "- In regular training and finetuning, the weight update is defined as follows:\n",
        "\n",
        "$$W_{\\text{updated}} = W + \\Delta W$$\n",
        "\n",
        "- The LoRA method proposed by [Hu et al.](https://arxiv.org/abs/2106.09685) offers a more efficient alternative to computing the weight updates $\\Delta W$ by learning an approximation of it, $\\Delta W \\approx AB$.\n",
        "- In other words, in LoRA, we have the following, where $A$ and $B$ are two small weight matrices:\n",
        "\n",
        "$$W_{\\text{updated}} = W + AB$$\n",
        "\n",
        "- The figure below illustrates these formulas for full finetuning and LoRA side by side"
      ]
    },
    {
      "cell_type": "markdown",
      "metadata": {
        "id": "aUzUDt7gpScg"
      },
      "source": [
        "<img src=\"https://drive.google.com/uc?export=view&id=1enMlk4mLyqiccwRI0zOMBLKQ_GcJt7n2\" width=\"800\">"
      ]
    },
    {
      "cell_type": "markdown",
      "metadata": {
        "id": "DCNs_x5kpRce"
      },
      "source": [
        "- If you paid close attention, the full finetuning and LoRA depictions in the figure above look slightly different from the formulas I have shown earlier\n",
        "- That's due to the distributive law of matrix multiplication: we don't have to add the weights with the updated weights but can keep them separate\n",
        "- For instance, if $x$ is the input data, then we can write the following for regular finetuning:\n",
        "\n",
        "$$x (W+\\Delta W) = x W + x \\Delta W$$\n",
        "\n",
        "- Similarly, we can write the following for LoRA:\n",
        "\n",
        "$$x (W+A B) = x W + x A B$$\n",
        "\n",
        "- The fact that we can keep the LoRA weight matrices separate makes LoRA especially attractive\n",
        "- In practice, this means that we don't have to modify the weights of the pretrained model at all, as we can apply the LoRA matrices on the fly\n",
        "- After setting up the dataset and loading the model, we will implement LoRA in the code to make these concepts less abstract"
      ]
    },
    {
      "cell_type": "code",
      "execution_count": null,
      "metadata": {
        "colab": {
          "base_uri": "https://localhost:8080/"
        },
        "execution": {
          "iopub.execute_input": "2025-04-24T12:29:10.162401Z",
          "iopub.status.busy": "2025-04-24T12:29:10.162113Z",
          "iopub.status.idle": "2025-04-24T12:29:10.242698Z",
          "shell.execute_reply": "2025-04-24T12:29:10.242118Z",
          "shell.execute_reply.started": "2025-04-24T12:29:10.162377Z"
        },
        "id": "K7N4AOgJCFBr",
        "outputId": "99a8a522-799c-4640-a8bc-2ccc988039c1"
      },
      "outputs": [
        {
          "name": "stdout",
          "output_type": "stream",
          "text": [
            "trainable model parameters: 884736\n",
            "all model parameters: 248462592\n",
            "percentage of trainable model parameters: 0.36%\n"
          ]
        }
      ],
      "source": [
        "#@title Step 9: Apply PEFT with LoRA Configuration\n",
        "lora_config = LoraConfig(\n",
        "    task_type=TaskType.SEQ_2_SEQ_LM,\n",
        "    r=8,\n",
        "    lora_alpha=32,\n",
        "    lora_dropout=0.1,\n",
        ")\n",
        "\n",
        "peft_model_train = get_peft_model(base_model, lora_config)\n",
        "print(print_number_of_trainable_model_parameters(peft_model_train))"
      ]
    },
    {
      "cell_type": "code",
      "execution_count": null,
      "metadata": {
        "execution": {
          "iopub.execute_input": "2025-04-24T12:29:10.981461Z",
          "iopub.status.busy": "2025-04-24T12:29:10.981172Z",
          "iopub.status.idle": "2025-04-24T12:29:11.007518Z",
          "shell.execute_reply": "2025-04-24T12:29:11.006945Z",
          "shell.execute_reply.started": "2025-04-24T12:29:10.981440Z"
        },
        "id": "nx5WdPDxCHFc"
      },
      "outputs": [],
      "source": [
        "#@title Step 10: Define Training Arguments\n",
        "output_dir = \"./peft-dialogue-summary-training\"\n",
        "peft_training_args = TrainingArguments(\n",
        "    report_to=\"tensorboard\",                   # report logs to TensorBoard\n",
        "    logging_dir=\"./tb_logs\",                   # directory for saving TensorBoard logs\n",
        "    logging_strategy=\"epoch\",                  # log every few steps\n",
        "    logging_steps=10,                          # log every 10 steps\n",
        "    output_dir=output_dir,\n",
        "    auto_find_batch_size=True,\n",
        "    learning_rate=1e-3,\n",
        "    num_train_epochs=5,\n",
        "    eval_strategy=\"epoch\",                     # evaluate the model at the end of each epoch\n",
        "    disable_tqdm=False,                        # enable progress bars\n",
        "    log_level=\"info\"                           # log level set to 'info' (to log train loss and other details)\n",
        ")"
      ]
    },
    {
      "cell_type": "code",
      "execution_count": null,
      "metadata": {
        "colab": {
          "base_uri": "https://localhost:8080/",
          "height": 1000
        },
        "execution": {
          "iopub.execute_input": "2025-04-24T12:29:11.547257Z",
          "iopub.status.busy": "2025-04-24T12:29:11.546992Z",
          "iopub.status.idle": "2025-04-24T12:30:40.802755Z",
          "shell.execute_reply": "2025-04-24T12:30:40.802184Z",
          "shell.execute_reply.started": "2025-04-24T12:29:11.547236Z"
        },
        "id": "hyuz3U0ECIkf",
        "outputId": "65d37917-a8d0-461f-cd8d-7f208f4f926a"
      },
      "outputs": [
        {
          "name": "stderr",
          "output_type": "stream",
          "text": [
            "No label_names provided for model class `PeftModelForSeq2SeqLM`. Since `PeftModel` hides base models input arguments, if label_names is not given, label_names can't be set automatically within `Trainer`. Note that empty label_names list will be used instead.\n",
            "***** Running training *****\n",
            "  Num examples = 125\n",
            "  Num Epochs = 5\n",
            "  Instantaneous batch size per device = 8\n",
            "  Total train batch size (w. parallel, distributed & accumulation) = 8\n",
            "  Gradient Accumulation steps = 1\n",
            "  Total optimization steps = 80\n",
            "  Number of trainable parameters = 884,736\n",
            "Passing a tuple of `past_key_values` is deprecated and will be removed in Transformers v4.48.0. You should pass an instance of `EncoderDecoderCache` instead, e.g. `past_key_values=EncoderDecoderCache.from_legacy_cache(past_key_values)`.\n",
            "***** Running training *****\n",
            "  Num examples = 125\n",
            "  Num Epochs = 5\n",
            "  Instantaneous batch size per device = 8\n",
            "  Training with DataParallel so batch size has been adjusted to: 4\n",
            "  Total train batch size (w. parallel, distributed & accumulation) = 4\n",
            "  Gradient Accumulation steps = 1\n",
            "  Total optimization steps = 160\n",
            "  Number of trainable parameters = 884,736\n"
          ]
        },
        {
          "data": {
            "text/html": [
              "\n",
              "    <div>\n",
              "      \n",
              "      <progress value='160' max='160' style='width:300px; height:20px; vertical-align: middle;'></progress>\n",
              "      [160/160 02:40, Epoch 5/5]\n",
              "    </div>\n",
              "    <table border=\"1\" class=\"dataframe\">\n",
              "  <thead>\n",
              " <tr style=\"text-align: left;\">\n",
              "      <th>Epoch</th>\n",
              "      <th>Training Loss</th>\n",
              "      <th>Validation Loss</th>\n",
              "    </tr>\n",
              "  </thead>\n",
              "  <tbody>\n",
              "    <tr>\n",
              "      <td>1</td>\n",
              "      <td>14.845300</td>\n",
              "      <td>2.380888</td>\n",
              "    </tr>\n",
              "    <tr>\n",
              "      <td>2</td>\n",
              "      <td>1.432200</td>\n",
              "      <td>0.234731</td>\n",
              "    </tr>\n",
              "    <tr>\n",
              "      <td>3</td>\n",
              "      <td>0.351500</td>\n",
              "      <td>0.139262</td>\n",
              "    </tr>\n",
              "    <tr>\n",
              "      <td>4</td>\n",
              "      <td>0.244900</td>\n",
              "      <td>0.122611</td>\n",
              "    </tr>\n",
              "    <tr>\n",
              "      <td>5</td>\n",
              "      <td>0.221200</td>\n",
              "      <td>0.119260</td>\n",
              "    </tr>\n",
              "  </tbody>\n",
              "</table><p>"
            ],
            "text/plain": [
              "<IPython.core.display.HTML object>"
            ]
          },
          "metadata": {},
          "output_type": "display_data"
        },
        {
          "name": "stderr",
          "output_type": "stream",
          "text": [
            "\n",
            "***** Running Evaluation *****\n",
            "  Num examples = 5\n",
            "  Batch size = 8\n",
            "\n",
            "***** Running Evaluation *****\n",
            "  Num examples = 5\n",
            "  Batch size = 8\n",
            "\n",
            "***** Running Evaluation *****\n",
            "  Num examples = 5\n",
            "  Batch size = 8\n",
            "\n",
            "***** Running Evaluation *****\n",
            "  Num examples = 5\n",
            "  Batch size = 8\n",
            "Saving model checkpoint to ./peft-dialogue-summary-training/checkpoint-160\n",
            "loading configuration file config.json from cache at /root/.cache/huggingface/hub/models--google--flan-t5-base/snapshots/7bcac572ce56db69c1ea7c8af255c5d7c9672fc2/config.json\n",
            "Model config T5Config {\n",
            "  \"architectures\": [\n",
            "    \"T5ForConditionalGeneration\"\n",
            "  ],\n",
            "  \"classifier_dropout\": 0.0,\n",
            "  \"d_ff\": 2048,\n",
            "  \"d_kv\": 64,\n",
            "  \"d_model\": 768,\n",
            "  \"decoder_start_token_id\": 0,\n",
            "  \"dense_act_fn\": \"gelu_new\",\n",
            "  \"dropout_rate\": 0.1,\n",
            "  \"eos_token_id\": 1,\n",
            "  \"feed_forward_proj\": \"gated-gelu\",\n",
            "  \"initializer_factor\": 1.0,\n",
            "  \"is_encoder_decoder\": true,\n",
            "  \"is_gated_act\": true,\n",
            "  \"layer_norm_epsilon\": 1e-06,\n",
            "  \"model_type\": \"t5\",\n",
            "  \"n_positions\": 512,\n",
            "  \"num_decoder_layers\": 12,\n",
            "  \"num_heads\": 12,\n",
            "  \"num_layers\": 12,\n",
            "  \"output_past\": true,\n",
            "  \"pad_token_id\": 0,\n",
            "  \"relative_attention_max_distance\": 128,\n",
            "  \"relative_attention_num_buckets\": 32,\n",
            "  \"task_specific_params\": {\n",
            "    \"summarization\": {\n",
            "      \"early_stopping\": true,\n",
            "      \"length_penalty\": 2.0,\n",
            "      \"max_length\": 200,\n",
            "      \"min_length\": 30,\n",
            "      \"no_repeat_ngram_size\": 3,\n",
            "      \"num_beams\": 4,\n",
            "      \"prefix\": \"summarize: \"\n",
            "    },\n",
            "    \"translation_en_to_de\": {\n",
            "      \"early_stopping\": true,\n",
            "      \"max_length\": 300,\n",
            "      \"num_beams\": 4,\n",
            "      \"prefix\": \"translate English to German: \"\n",
            "    },\n",
            "    \"translation_en_to_fr\": {\n",
            "      \"early_stopping\": true,\n",
            "      \"max_length\": 300,\n",
            "      \"num_beams\": 4,\n",
            "      \"prefix\": \"translate English to French: \"\n",
            "    },\n",
            "    \"translation_en_to_ro\": {\n",
            "      \"early_stopping\": true,\n",
            "      \"max_length\": 300,\n",
            "      \"num_beams\": 4,\n",
            "      \"prefix\": \"translate English to Romanian: \"\n",
            "    }\n",
            "  },\n",
            "  \"tie_word_embeddings\": false,\n",
            "  \"transformers_version\": \"4.51.3\",\n",
            "  \"use_cache\": true,\n",
            "  \"vocab_size\": 32128\n",
            "}\n",
            "\n",
            "\n",
            "***** Running Evaluation *****\n",
            "  Num examples = 5\n",
            "  Batch size = 8\n",
            "\n",
            "\n",
            "Training completed. Do not forget to share your model on huggingface.co/models =)\n",
            "\n",
            "\n"
          ]
        },
        {
          "data": {
            "text/plain": [
              "TrainOutput(global_step=160, training_loss=3.419025328755379, metrics={'train_runtime': 161.6771, 'train_samples_per_second': 3.866, 'train_steps_per_second': 0.99, 'total_flos': 429672038400000.0, 'train_loss': 3.419025328755379, 'epoch': 5.0})"
            ]
          },
          "execution_count": 83,
          "metadata": {},
          "output_type": "execute_result"
        }
      ],
      "source": [
        "#@title Step 11: Train the Model\n",
        "peft_trainer = Trainer(\n",
        "    model=peft_model_train,\n",
        "    args=peft_training_args,\n",
        "    train_dataset=tokenized_datasets[\"train\"],\n",
        "    eval_dataset=tokenized_datasets[\"validation\"],\n",
        ")\n",
        "peft_trainer.train()"
      ]
    },
    {
      "cell_type": "code",
      "execution_count": null,
      "metadata": {
        "colab": {
          "base_uri": "https://localhost:8080/",
          "height": 472
        },
        "execution": {
          "iopub.execute_input": "2025-04-24T12:30:40.804240Z",
          "iopub.status.busy": "2025-04-24T12:30:40.804049Z",
          "iopub.status.idle": "2025-04-24T12:30:40.977082Z",
          "shell.execute_reply": "2025-04-24T12:30:40.976450Z",
          "shell.execute_reply.started": "2025-04-24T12:30:40.804224Z"
        },
        "id": "i_dE3_zeJywN",
        "outputId": "c5a564f7-8d06-4d74-bff5-e3c59d41bdfc"
      },
      "outputs": [
        {
          "data": {
            "image/png": "[encoded data removed]",
            "text/plain": [
              "<Figure size 640x480 with 1 Axes>"
            ]
          },
          "metadata": {},
          "output_type": "display_data"
        }
      ],
      "source": [
        "import pandas as pd\n",
        "import matplotlib.pyplot as plt\n",
        "\n",
        "history = peft_trainer.state.log_history\n",
        "df = pd.DataFrame(history)\n",
        "\n",
        "train_df = df[df[\"loss\"].notna()]\n",
        "eval_df  = df[df[\"eval_loss\"].notna()]\n",
        "\n",
        "plt.plot(train_df[\"epoch\"], train_df[\"loss\"], label=\"train_loss\")\n",
        "plt.plot(eval_df[\"epoch\"],  eval_df[\"eval_loss\"], label=\"eval_loss\")\n",
        "plt.xlabel(\"Epoch\")\n",
        "plt.ylabel(\"Loss\")\n",
        "plt.legend()\n",
        "plt.title(\"Train vs Eval Loss\")\n",
        "plt.show()"
      ]
    },
    {
      "cell_type": "code",
      "execution_count": null,
      "metadata": {
        "colab": {
          "base_uri": "https://localhost:8080/"
        },
        "execution": {
          "iopub.execute_input": "2025-04-24T12:30:40.978013Z",
          "iopub.status.busy": "2025-04-24T12:30:40.977791Z",
          "iopub.status.idle": "2025-04-24T12:30:41.202012Z",
          "shell.execute_reply": "2025-04-24T12:30:41.201265Z",
          "shell.execute_reply.started": "2025-04-24T12:30:40.977993Z"
        },
        "id": "w43R5ODS7H-6",
        "outputId": "0ccb0a0a-c17e-439d-8388-82cdada8d32f"
      },
      "outputs": [
        {
          "name": "stderr",
          "output_type": "stream",
          "text": [
            "loading configuration file config.json from cache at /root/.cache/huggingface/hub/models--google--flan-t5-base/snapshots/7bcac572ce56db69c1ea7c8af255c5d7c9672fc2/config.json\n",
            "Model config T5Config {\n",
            "  \"architectures\": [\n",
            "    \"T5ForConditionalGeneration\"\n",
            "  ],\n",
            "  \"classifier_dropout\": 0.0,\n",
            "  \"d_ff\": 2048,\n",
            "  \"d_kv\": 64,\n",
            "  \"d_model\": 768,\n",
            "  \"decoder_start_token_id\": 0,\n",
            "  \"dense_act_fn\": \"gelu_new\",\n",
            "  \"dropout_rate\": 0.1,\n",
            "  \"eos_token_id\": 1,\n",
            "  \"feed_forward_proj\": \"gated-gelu\",\n",
            "  \"initializer_factor\": 1.0,\n",
            "  \"is_encoder_decoder\": true,\n",
            "  \"is_gated_act\": true,\n",
            "  \"layer_norm_epsilon\": 1e-06,\n",
            "  \"model_type\": \"t5\",\n",
            "  \"n_positions\": 512,\n",
            "  \"num_decoder_layers\": 12,\n",
            "  \"num_heads\": 12,\n",
            "  \"num_layers\": 12,\n",
            "  \"output_past\": true,\n",
            "  \"pad_token_id\": 0,\n",
            "  \"relative_attention_max_distance\": 128,\n",
            "  \"relative_attention_num_buckets\": 32,\n",
            "  \"task_specific_params\": {\n",
            "    \"summarization\": {\n",
            "      \"early_stopping\": true,\n",
            "      \"length_penalty\": 2.0,\n",
            "      \"max_length\": 200,\n",
            "      \"min_length\": 30,\n",
            "      \"no_repeat_ngram_size\": 3,\n",
            "      \"num_beams\": 4,\n",
            "      \"prefix\": \"summarize: \"\n",
            "    },\n",
            "    \"translation_en_to_de\": {\n",
            "      \"early_stopping\": true,\n",
            "      \"max_length\": 300,\n",
            "      \"num_beams\": 4,\n",
            "      \"prefix\": \"translate English to German: \"\n",
            "    },\n",
            "    \"translation_en_to_fr\": {\n",
            "      \"early_stopping\": true,\n",
            "      \"max_length\": 300,\n",
            "      \"num_beams\": 4,\n",
            "      \"prefix\": \"translate English to French: \"\n",
            "    },\n",
            "    \"translation_en_to_ro\": {\n",
            "      \"early_stopping\": true,\n",
            "      \"max_length\": 300,\n",
            "      \"num_beams\": 4,\n",
            "      \"prefix\": \"translate English to Romanian: \"\n",
            "    }\n",
            "  },\n",
            "  \"tie_word_embeddings\": false,\n",
            "  \"transformers_version\": \"4.51.3\",\n",
            "  \"use_cache\": true,\n",
            "  \"vocab_size\": 32128\n",
            "}\n",
            "\n",
            "tokenizer config file saved in ./peft-dialogue-summary-checkpoint-local/tokenizer_config.json\n",
            "Special tokens file saved in ./peft-dialogue-summary-checkpoint-local/special_tokens_map.json\n",
            "Copy vocab file to ./peft-dialogue-summary-checkpoint-local/spiece.model\n"
          ]
        }
      ],
      "source": [
        "%%capture\n",
        "#@title Step 12: Save the Fine-Tuned Model\n",
        "peft_model_path = \"./peft-dialogue-summary-checkpoint-local\"\n",
        "peft_trainer.model.save_pretrained(peft_model_path)\n",
        "tokenizer.save_pretrained(peft_model_path)"
      ]
    },
    {
      "cell_type": "code",
      "execution_count": null,
      "metadata": {
        "colab": {
          "base_uri": "https://localhost:8080/"
        },
        "execution": {
          "iopub.execute_input": "2025-04-24T12:30:59.468149Z",
          "iopub.status.busy": "2025-04-24T12:30:59.467874Z",
          "iopub.status.idle": "2025-04-24T12:31:03.712902Z",
          "shell.execute_reply": "2025-04-24T12:31:03.712226Z",
          "shell.execute_reply.started": "2025-04-24T12:30:59.468129Z"
        },
        "id": "iG3qrqz2_k_4",
        "outputId": "0376066e-5e43-400e-999f-09100cdb5cfb"
      },
      "outputs": [
        {
          "name": "stderr",
          "output_type": "stream",
          "text": [
            "loading configuration file config.json from cache at /root/.cache/huggingface/hub/models--google--flan-t5-base/snapshots/7bcac572ce56db69c1ea7c8af255c5d7c9672fc2/config.json\n",
            "Model config T5Config {\n",
            "  \"architectures\": [\n",
            "    \"T5ForConditionalGeneration\"\n",
            "  ],\n",
            "  \"classifier_dropout\": 0.0,\n",
            "  \"d_ff\": 2048,\n",
            "  \"d_kv\": 64,\n",
            "  \"d_model\": 768,\n",
            "  \"decoder_start_token_id\": 0,\n",
            "  \"dense_act_fn\": \"gelu_new\",\n",
            "  \"dropout_rate\": 0.1,\n",
            "  \"eos_token_id\": 1,\n",
            "  \"feed_forward_proj\": \"gated-gelu\",\n",
            "  \"initializer_factor\": 1.0,\n",
            "  \"is_encoder_decoder\": true,\n",
            "  \"is_gated_act\": true,\n",
            "  \"layer_norm_epsilon\": 1e-06,\n",
            "  \"model_type\": \"t5\",\n",
            "  \"n_positions\": 512,\n",
            "  \"num_decoder_layers\": 12,\n",
            "  \"num_heads\": 12,\n",
            "  \"num_layers\": 12,\n",
            "  \"output_past\": true,\n",
            "  \"pad_token_id\": 0,\n",
            "  \"relative_attention_max_distance\": 128,\n",
            "  \"relative_attention_num_buckets\": 32,\n",
            "  \"task_specific_params\": {\n",
            "    \"summarization\": {\n",
            "      \"early_stopping\": true,\n",
            "      \"length_penalty\": 2.0,\n",
            "      \"max_length\": 200,\n",
            "      \"min_length\": 30,\n",
            "      \"no_repeat_ngram_size\": 3,\n",
            "      \"num_beams\": 4,\n",
            "      \"prefix\": \"summarize: \"\n",
            "    },\n",
            "    \"translation_en_to_de\": {\n",
            "      \"early_stopping\": true,\n",
            "      \"max_length\": 300,\n",
            "      \"num_beams\": 4,\n",
            "      \"prefix\": \"translate English to German: \"\n",
            "    },\n",
            "    \"translation_en_to_fr\": {\n",
            "      \"early_stopping\": true,\n",
            "      \"max_length\": 300,\n",
            "      \"num_beams\": 4,\n",
            "      \"prefix\": \"translate English to French: \"\n",
            "    },\n",
            "    \"translation_en_to_ro\": {\n",
            "      \"early_stopping\": true,\n",
            "      \"max_length\": 300,\n",
            "      \"num_beams\": 4,\n",
            "      \"prefix\": \"translate English to Romanian: \"\n",
            "    }\n",
            "  },\n",
            "  \"tie_word_embeddings\": false,\n",
            "  \"transformers_version\": \"4.51.3\",\n",
            "  \"use_cache\": true,\n",
            "  \"vocab_size\": 32128\n",
            "}\n",
            "\n",
            "loading weights file model.safetensors from cache at /root/.cache/huggingface/hub/models--google--flan-t5-base/snapshots/7bcac572ce56db69c1ea7c8af255c5d7c9672fc2/model.safetensors\n",
            "Generate config GenerationConfig {\n",
            "  \"decoder_start_token_id\": 0,\n",
            "  \"eos_token_id\": 1,\n",
            "  \"pad_token_id\": 0\n",
            "}\n",
            "\n",
            "All model checkpoint weights were used when initializing T5ForConditionalGeneration.\n",
            "\n",
            "All the weights of T5ForConditionalGeneration were initialized from the model checkpoint at google/flan-t5-base.\n",
            "If your task is similar to the task the model of the checkpoint was trained on, you can already use T5ForConditionalGeneration for predictions without further training.\n",
            "loading configuration file generation_config.json from cache at /root/.cache/huggingface/hub/models--google--flan-t5-base/snapshots/7bcac572ce56db69c1ea7c8af255c5d7c9672fc2/generation_config.json\n",
            "Generate config GenerationConfig {\n",
            "  \"decoder_start_token_id\": 0,\n",
            "  \"eos_token_id\": 1,\n",
            "  \"pad_token_id\": 0\n",
            "}\n",
            "\n"
          ]
        },
        {
          "name": "stdout",
          "output_type": "stream",
          "text": [
            "Input Prompt : Summarize the following dialogue  #Person1#: What's wrong with you? Why are you scratching so much?\n",
            "#Person2#: I feel itchy! I can't stand it anymore! I think I may be coming down with something. I feel lightheaded and weak.\n",
            "#Person1#: Let me have a look. Whoa! Get away from me!\n",
            "#Person2#: What's wrong?\n",
            "#Person1#: I think you have chicken pox! You are contagious! Get away! Don't breathe on me!\n",
            "#Person2#: Maybe it's just a rash or an allergy! We can't be sure until I see a doctor.\n",
            "#Person1#: Well in the meantime you are a biohazard! I didn't get it when I was a kid and I've heard that you can even die if you get it as an adult!\n",
            "#Person2#: Are you serious? You always blow things out of proportion. In any case, I think I'll go take an oatmeal bath.  Summary:\n",
            "--------------------------------------------------------------------\n",
            "Human evaluated summary ---->\n",
            "#Person1# thinks #Person2# has chicken pox and warns #Person2# about the possible hazards but #Person2# thinks it will be fine.\n",
            "---------------------------------------------------------------------\n",
            "Baseline model generated summary : ---->\n",
            "Person1 is scratching so much that he can't stand it anymore.\n",
            "---------------------------------------------------------------------\n",
            "Peft model generated summary : ---->\n",
            "#Person1# thinks he has chicken pox. #Person2# thinks he has chicken pox.\n"
          ]
        }
      ],
      "source": [
        "#@title Step 13: Load and Test Fine-Tuned Model\n",
        "peft_model_base = AutoModelForSeq2SeqLM.from_pretrained(\"google/flan-t5-base\")\n",
        "peft_model = PeftModel.from_pretrained(peft_model_base, peft_model_path, is_trainable=False)\n",
        "\n",
        "\n",
        "peft_model_outputs = peft_model.generate(input_ids=input_ids, generation_config=GenerationConfig(max_new_tokens=200, num_beams=1))\n",
        "peft_model_text_output = tokenizer.decode(peft_model_outputs[0], skip_special_tokens=True)\n",
        "\n",
        "print(f\"Input Prompt : {prompt}\")\n",
        "print(\"--------------------------------------------------------------------\")\n",
        "print(\"Human evaluated summary ---->\")\n",
        "print(summary)\n",
        "print(\"---------------------------------------------------------------------\")\n",
        "print(\"Baseline model generated summary : ---->\")\n",
        "print(output)\n",
        "print(\"---------------------------------------------------------------------\")\n",
        "print(\"Peft model generated summary : ---->\")\n",
        "print(peft_model_text_output)"
      ]
    },
    {
      "cell_type": "markdown",
      "metadata": {
        "id": "wFotXh9ugid7"
      },
      "source": [
        "## **Exercise 4: Collect baseline and fine-tuned model responses**"
      ]
    },
    {
      "cell_type": "markdown",
      "metadata": {
        "id": "QkIy6s3ygid7"
      },
      "source": [
        "#### Step 1:\n",
        "- In this excercise, we are collecting the model responses on the test dataset so that we can evaluate them later\n",
        "- Starting with the original model before finetuning\n",
        "- Then use the base_model function to generate the responses for the test data\n",
        "\n",
        "#### Step 2:\n",
        "- Repeat the steps from the previous exercise but this time collect the responses of the finetuned model\n",
        "- Use the PeftModel function to generate the responses for the test data\n",
        "\n",
        "#### Step 3:\n",
        "- Save the resulting `test_data` dictionary as `baseline_and_finetuned_results.json`\n",
        "\n",
        "\n",
        "- Your json file should look like this\n",
        "\n",
        "```json\n",
        "{\n",
        "    \"index\": 0,\n",
        "    \"prompt\": \"Summarize the following dialogue  #Person1#: Ms. Dawson, I need you to take a dictation for me.\\n#Person2#: Yes, sir...\\n#Person1#: This should go out as an intra-office memorandum to all employees by this afternoon. Are you ready?\\n#Person2#: Yes, sir. Go ahead.\\n#Person1#: Attention all staff... Effective immediately, all office communications are restricted to email correspondence and official memos. The use of Instant Message programs by employees during working hours is strictly prohibited.....  Summary:\",\n",
        "    \"human_summary\": \"Ms. Dawson helps #Person1# to write a memo to inform every employee that they have to change the communication method and should not use Instant Messaging anymore.\",\n",
        "    \"model_output_base\": \"The memo will go out to all employees by this afternoon.\",\n",
        "    \"model_output_finetuning\": \"This memo should go out as an intra-office memo to all employees by this afternoon.\"\n",
        "},\n",
        "{\n",
        "    \"index\": 1,\n",
        "    \"prompt\": \"Summarize the following dialogue  #Person1#: Ms. Dawson, I need you to take a dictation for me.\\n#Person2#: Yes, sir...\\n#Person1#: This should go out as an intra-office memorandum to all employees by this afternoon. Are you ready?\\n#Person2#: Yes, sir. Go ahead.\\n#Person1#: Attention all staff...  Summary:\",\n",
        "    \"human_summary\": \"In order to prevent employees from wasting time on Instant Message programs, #Person1# decides to terminate the use of those programs and asks Ms. Dawson to send out a memo to all employees by the afternoon.\",\n",
        "    \"model_output_base\": \"The memo will go out to all employees by this afternoon.\",\n",
        "    \"model_output_finetuning\": \"This memo should go out as an intra-office memo to all employees by this afternoon.\"\n",
        "}\n",
        "```"
      ]
    },
    {
      "cell_type": "markdown",
      "metadata": {
        "id": "zgAyMKXvgid7"
      },
      "source": [
        "# Benchmark Evaluation [[1]](https://www.youtube.com/watch?v=quh7z1q7-uc&t=9697s), [[6]](https://aclanthology.org/W04-1013.pdf)"
      ]
    },
    {
      "cell_type": "markdown",
      "metadata": {
        "id": "iRWXBcY4gid7"
      },
      "source": [
        "- We finetuned the LLM; now, we evaluate it using benchmark methods\n",
        "\n",
        "- **Examples of some evaluation techniques:**\n",
        "\n",
        "1. **MMLU**\n",
        "\n",
        "   **What is MMLU?**\n",
        "     - MMLU (Massive Multitask Language Understanding) is a benchmark that evaluates how well a model understands and reasons across various subjects.\n",
        "       - The format is usually: Question + 4 choices → Select the correct answer\n",
        "       - Subjects include: History, Physics, Mathematics, Medicine, Law, and more.\n",
        "       - It is a classification/multiple-choice QA task, not a text generation task.\n",
        "       - The primary evaluation metric is Accuracy (% of correct answers).\n",
        "\n",
        "   <img src=\"https://drive.google.com/uc?export=view&id=1aAbQBmMKohJO-HVaeJBi9XfZHISaD_A_\" width=\"600\">\n",
        "  <img src=\"https://drive.google.com/uc?export=view&id=1e5YaA5EtBH0R9OgYsEtU2_kSZT6jkv4R\" width=\"600\">\n",
        "\n",
        "\n",
        "2. **AlpacaEval**\n",
        "\n",
        "    **What is AlpacaEval?**\n",
        "    - AlpacaEval is a system developed to evaluate the quality of generative responses produced by large language models (LLMs).\n",
        "    - Instead of using traditional metrics, it leverages another LLM (e.g., GPT-4) to compare responses in a pairwise manner and determine which model performed better.\n",
        "    \n",
        "    - For example:\n",
        "      - The data might look like this:\n",
        "      - Prompt: \"Explain the theory of relativity.\"\n",
        "      - Model A response\n",
        "\n",
        " <img src=\"https://drive.google.com/uc?export=view&id=1VeCYU31Sy9ZW9E-kNLoVo5j6Vfh6MI81\" width=\"600\">\n",
        "\n",
        "3. **LMSYS Chatbot Arena**\n",
        "\n",
        "  - Chatbot Arena (formerly LMSYS Chatbot Arena) is an open, community-supported platform built to evaluate the performance of large language models (LLMs) with human feedback.\n",
        "\n",
        " <img src=\"https://drive.google.com/uc?export=view&id=1_DktiAcwAgenlOsa1ZcL9KkTpeZqAjWI\" width=\"1000\">\n",
        "\n",
        "\n",
        "4. **ROUGE (Recall-Oriented Understudy for Gisting Evaluation)**\n",
        "\n",
        "   ROUGE (Recall-Oriented Understudy for Gisting Evaluation), is a set of metrics and a software package specifically designed for **evaluating automatic summarization**, but that can be also used for machine translation. The metrics compare an automatically produced summary or translation against reference (high-quality and human-produced) summaries or translations. **Since there is a summarization process in our data set, we will use this metric.**\n",
        "\n",
        "-  It essentially compares the following:\n",
        "\n",
        "   - The generated text (e.g., the model’s output)\n",
        "\n",
        "   - The reference text (e.g., a human-written gold summary)\n",
        "\n",
        " - And it evaluates based on overlapping n-grams (word groups), word sequences, and similar metrics between the two.\n",
        "\n",
        "\n",
        "- **Types of ROUGE:**\n",
        " - ROUGE-1:\n",
        "   – Counts overlapping individual words.\n",
        "   – How many of the same words are used?\n",
        "\n",
        " - ROUGE-2:\n",
        "   – Counts overlapping bigrams (two-word combinations).\n",
        "   – How much do phrases like “deep learning” match?\n",
        "\n",
        " - ROUGE-L:\n",
        "  – Looks at the Longest Common Subsequence (LCS) in terms of length.\n",
        "  – Takes word order into account.\n",
        "  – Are the words not just the same, but also in the same order?\n",
        "\n",
        "\n",
        "Click the [link](https://aclanthology.org/W04-1013.pdf) for more information\n",
        "   "
      ]
    },
    {
      "cell_type": "markdown",
      "metadata": {
        "id": "4LptCtz5gid7"
      },
      "source": [
        "## **Exercise 5: Benchmark Evaluation with ROUGE**\n",
        "\n",
        "You will perform evaluation using the ROUGE (Recall-Oriented Understudy for Gisting Evaluation) method by using the `baseline_and_finetuned_results.json` file you saved in the previous example.\n",
        "\n",
        "## Step 1:\n",
        "Install the required library for ROUGE = `!pip install rouge-score`\n",
        "\n",
        "## Step 2:\n",
        "Read the JSON file using the `with open()` command.\n",
        "\n",
        "## Step 3:\n",
        "Define the `scorer`. Use `RougeScorer` with `rouge1`, `rouge2`, and `rougeL`.\n",
        "\n",
        "## Step 4:\n",
        "For each index in the JSON file, extract the parts as shown below and compute `base_score` and `finetuned_score`. Then, interpret the results.\n",
        "```python\n",
        "    human = item['human_summary']\n",
        "    base = item['model_output_base']\n",
        "    finetuned = item['model_output_finetuning']\n"
      ]
    },
    {
      "cell_type": "markdown",
      "metadata": {
        "id": "OgBnRT9JtedY"
      },
      "source": [
        "# References"
      ]
    },
    {
      "cell_type": "markdown",
      "metadata": {
        "id": "jTcq1Jsnto2o"
      },
      "source": [
        "- [1] [Sebastian Raschka](https://www.youtube.com/watch?v=quh7z1q7-uc&t=9697s)\n",
        "- [2] [DeepLearning.ai Tokenization](https://www.deeplearning.ai/short-courses/retrieval-optimization-from-tokenization-to-vector-quantization/)\n",
        "- [3] [DeepLearning.ai Pretraining LLMs](https://www.deeplearning.ai/short-courses/pretraining-llms/)\n",
        "- [4] [DeepLearning.ai Finetuning](https://www.deeplearning.ai/short-courses/finetuning-large-language-models/)\n",
        "- [5] [Fine Tuning](https://www.geeksforgeeks.org/fine-tuning-large-language-model-llm/)\n",
        "- [6] [aclanthology](https://aclanthology.org/W04-1013.pdf)"
      ]
    },
    {
      "cell_type": "code",
      "execution_count": null,
      "metadata": {
        "id": "AlNI86MAtd5m"
      },
      "outputs": [],
      "source": []
    }
  ],
  "metadata": {
    "accelerator": "GPU",
    "colab": {
      "collapsed_sections": [
        "MYU_Zj6RvKUy",
        "BFTDjwcp03fc",
        "ozZ47m0odFyw",
        "ED6KvSo8tSd4",
        "sstsUJgpEsxw",
        "q9zFCkk5ERCU",
        "zgAyMKXvgid7"
      ],
      "gpuType": "T4",
      "provenance": [],
      "include_colab_link": true
    },
    "kaggle": {
      "accelerator": "gpu",
      "dataSources": [
        {
          "datasetId": 7241184,
          "sourceId": 11546872,
          "sourceType": "datasetVersion"
        }
      ],
      "dockerImageVersionId": 31011,
      "isGpuEnabled": true,
      "isInternetEnabled": true,
      "language": "python",
      "sourceType": "notebook"
    },
    "kernelspec": {
      "display_name": "Python 3",
      "name": "python3"
    },
    "language_info": {
      "name": "python"
    }
  },
  "nbformat": 4,
  "nbformat_minor": 0
}